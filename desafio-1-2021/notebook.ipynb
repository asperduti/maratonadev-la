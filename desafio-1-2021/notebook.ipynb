{
  "nbformat": 4,
  "nbformat_minor": 2,
  "metadata": {
    "colab": {
      "name": "d1_2021_notebook_es.ipynb",
      "provenance": [],
      "collapsed_sections": [
        "gH3C7g_OZXv5",
        "KoWTXDHhZSl_",
        "-etx4vP3U7UQ",
        "9EJPU7WVN2Ze",
        "PclKbAdjN2Zo",
        "uPAxB4pdN2Zz"
      ]
    },
    "kernelspec": {
      "display_name": "Python 3.8",
      "language": "python",
      "name": "python3"
    },
    "language_info": {
      "codemirror_mode": {
        "name": "ipython",
        "version": 3
      },
      "file_extension": ".py",
      "mimetype": "text/x-python",
      "name": "python",
      "nbconvert_exporter": "python",
      "pygments_lexer": "ipython3",
      "version": "3.8.12"
    }
  },
  "cells": [
    {
      "cell_type": "markdown",
      "source": [
        "# Desafío 1 - Maratón Behind the Code 2021\n",
        "\n",
        "### Notebook guia\n",
        "\n",
        "Este Jupyter Notebook te dará instrucciones para crear una solución introductoria al Desafío 1 de la Maratón. ¡Siéntete libre de editar y mejorar tu solución!"
      ],
      "metadata": {
        "collapsed": true,
        "id": "5ZAgHPc9N2Yv"
      }
    },
    {
      "cell_type": "markdown",
      "source": [
        "**Ten en cuenta: si estás utilizando Watson Studio, recuerda hacer que tu Notebook sea editable haciendo clic en el botón de edición de arriba.**\n",
        "\n",
        "![](https://s3.br-sao.cloud-object-storage.appdomain.cloud/maratona-static/edit-notebook.png)"
      ],
      "metadata": {
        "id": "c-0MFKWPN2Y6"
      }
    },
    {
      "cell_type": "markdown",
      "source": [
        "## Exploración de dataset\n",
        "El primer paso para desarrollar un buen modelo de aprendizaje automático es explorar los datos con los que tenemos que trabajar. Debemos comprender lo mejor posible la relevancia de cada dato para el valor que queremos predecir. Después de todo, la predicción del modelo se basa completamente en los datos con los que se entrenó.\n",
        "\n",
        "Hay muchas bibliotecas de Python que se pueden utilizar para el procesamiento y la visualización de datos. En este caso usaremos Pandas, Seaborn y Matplotlib."
      ],
      "metadata": {
        "id": "oNhNKt_gN2Y9"
      }
    },
    {
      "cell_type": "code",
      "execution_count": 1,
      "source": [
        "import pandas as pd\n",
        "import matplotlib.pyplot as plt\n",
        "import seaborn as sns\n"
      ],
      "outputs": [],
      "metadata": {
        "id": "_t4_UkfbN2Y_"
      }
    },
    {
      "cell_type": "markdown",
      "source": [
        "Primero, cargamos el conjunto de datos del desafío en este notebook. Comencemos con el principal, `LOANS.csv`. Para eso, podemos usar el ícono de activos, disponible en la esquina superior derecha de la pantalla, e insertar el conjunto de datos como un DataFrame Pandas, como en la imagen de abajo.\n",
        "\n",
        "<img width=\"300px\" src=\"https://s3.br-sao.cloud-object-storage.appdomain.cloud/maratona-static/load-loans.png\" />\n",
        "\n",
        "Repite este procedimiento para todos los datasets que vas a utilizar."
      ],
      "metadata": {
        "id": "Fszlj0OrN2ZB"
      }
    },
    {
      "cell_type": "code",
      "execution_count": 2,
      "source": [
        "# Cargue aqui el dataset\n",
        "!wget --no-check-certificate --content-disposition https://raw.githubusercontent.com/maratonadev/desafio-1-2021/main/assets/data/LOANS.csv\n",
        "df_loans = pd.read_csv(r'LOANS.csv')\n",
        "\n",
        "!wget --no-check-certificate --content-disposition https://raw.githubusercontent.com/maratonadev/desafio-1-2021/main/assets/data/DEMOGRAPHICS.csv\n",
        "df_demographics = pd.read_csv(r'DEMOGRAPHICS.csv')\n",
        "\n",
        "!wget --no-check-certificate --content-disposition https://raw.githubusercontent.com/maratonadev/desafio-1-2021/main/assets/data/ACCOUNTS.csv\n",
        "df_accounts = pd.read_csv(r'ACCOUNTS.csv')\n"
      ],
      "outputs": [
        {
          "output_type": "stream",
          "name": "stdout",
          "text": [
            "--2021-11-19 11:21:39--  https://raw.githubusercontent.com/maratonadev/desafio-1-2021/main/assets/data/LOANS.csv\n",
            "Resolving raw.githubusercontent.com (raw.githubusercontent.com)... 185.199.108.133, 185.199.109.133, 185.199.110.133, ...\n",
            "Connecting to raw.githubusercontent.com (raw.githubusercontent.com)|185.199.108.133|:443... connected.\n",
            "HTTP request sent, awaiting response... 200 OK\n",
            "Length: 187222 (183K) [text/plain]\n",
            "Saving to: ‘LOANS.csv’\n",
            "\n",
            "\rLOANS.csv             0%[                    ]       0  --.-KB/s               \rLOANS.csv           100%[===================>] 182.83K  --.-KB/s    in 0.003s  \n",
            "\n",
            "2021-11-19 11:21:39 (58.4 MB/s) - ‘LOANS.csv’ saved [187222/187222]\n",
            "\n",
            "--2021-11-19 11:21:39--  https://raw.githubusercontent.com/maratonadev/desafio-1-2021/main/assets/data/DEMOGRAPHICS.csv\n",
            "Resolving raw.githubusercontent.com (raw.githubusercontent.com)... 185.199.108.133, 185.199.109.133, 185.199.110.133, ...\n",
            "Connecting to raw.githubusercontent.com (raw.githubusercontent.com)|185.199.108.133|:443... connected.\n",
            "HTTP request sent, awaiting response... 200 OK\n",
            "Length: 217434 (212K) [text/plain]\n",
            "Saving to: ‘DEMOGRAPHICS.csv’\n",
            "\n",
            "DEMOGRAPHICS.csv    100%[===================>] 212.34K  --.-KB/s    in 0.006s  \n",
            "\n",
            "2021-11-19 11:21:39 (36.3 MB/s) - ‘DEMOGRAPHICS.csv’ saved [217434/217434]\n",
            "\n",
            "--2021-11-19 11:21:39--  https://raw.githubusercontent.com/maratonadev/desafio-1-2021/main/assets/data/ACCOUNTS.csv\n",
            "Resolving raw.githubusercontent.com (raw.githubusercontent.com)... 185.199.110.133, 185.199.109.133, 185.199.111.133, ...\n",
            "Connecting to raw.githubusercontent.com (raw.githubusercontent.com)|185.199.110.133|:443... connected.\n",
            "HTTP request sent, awaiting response... 200 OK\n",
            "Length: 118696 (116K) [text/plain]\n",
            "Saving to: ‘ACCOUNTS.csv’\n",
            "\n",
            "ACCOUNTS.csv        100%[===================>] 115.91K  --.-KB/s    in 0.002s  \n",
            "\n",
            "2021-11-19 11:21:39 (53.8 MB/s) - ‘ACCOUNTS.csv’ saved [118696/118696]\n",
            "\n"
          ]
        }
      ],
      "metadata": {
        "colab": {
          "base_uri": "https://localhost:8080/"
        },
        "id": "SKcMMH5pN2ZB",
        "scrolled": true,
        "outputId": "a20ed4cb-7988-412e-e8b1-63ce52236d04"
      }
    },
    {
      "cell_type": "markdown",
      "source": [
        "Podemos usar los métodos .info () y .describe () para obtener información básica sobre la cantidad actual de datos, sus tipos y valores."
      ],
      "metadata": {
        "id": "fYWNSWptN2ZK"
      }
    },
    {
      "cell_type": "code",
      "execution_count": 3,
      "source": [
        "df_loans.head()"
      ],
      "outputs": [
        {
          "output_type": "execute_result",
          "data": {
            "text/plain": [
              "       ID  PAYMENT_TERM INSTALLMENT_PLANS  ...  LOAN_AMOUNT OTHERS_ON_LOAN  ALLOW\n",
              "0  610339         713.0            STORES  ...       3103.0           NONE      1\n",
              "1  109167         341.0            STORES  ...        716.0           NONE      1\n",
              "2  823322         868.0              NONE  ...       4333.0           NONE      1\n",
              "3  322224         310.0            STORES  ...        250.0           NONE      1\n",
              "4  912693         620.0              NONE  ...       2454.0           NONE      0\n",
              "\n",
              "[5 rows x 8 columns]"
            ],
            "text/html": [
              "<div>\n",
              "<style scoped>\n",
              "    .dataframe tbody tr th:only-of-type {\n",
              "        vertical-align: middle;\n",
              "    }\n",
              "\n",
              "    .dataframe tbody tr th {\n",
              "        vertical-align: top;\n",
              "    }\n",
              "\n",
              "    .dataframe thead th {\n",
              "        text-align: right;\n",
              "    }\n",
              "</style>\n",
              "<table border=\"1\" class=\"dataframe\">\n",
              "  <thead>\n",
              "    <tr style=\"text-align: right;\">\n",
              "      <th></th>\n",
              "      <th>ID</th>\n",
              "      <th>PAYMENT_TERM</th>\n",
              "      <th>INSTALLMENT_PLANS</th>\n",
              "      <th>INSTALLMENT_PERCENT</th>\n",
              "      <th>LOAN_PURPOSE</th>\n",
              "      <th>LOAN_AMOUNT</th>\n",
              "      <th>OTHERS_ON_LOAN</th>\n",
              "      <th>ALLOW</th>\n",
              "    </tr>\n",
              "  </thead>\n",
              "  <tbody>\n",
              "    <tr>\n",
              "      <th>0</th>\n",
              "      <td>610339</td>\n",
              "      <td>713.0</td>\n",
              "      <td>STORES</td>\n",
              "      <td>3.0</td>\n",
              "      <td>CAR_USED</td>\n",
              "      <td>3103.0</td>\n",
              "      <td>NONE</td>\n",
              "      <td>1</td>\n",
              "    </tr>\n",
              "    <tr>\n",
              "      <th>1</th>\n",
              "      <td>109167</td>\n",
              "      <td>341.0</td>\n",
              "      <td>STORES</td>\n",
              "      <td>1.0</td>\n",
              "      <td>CAR_NEW</td>\n",
              "      <td>716.0</td>\n",
              "      <td>NONE</td>\n",
              "      <td>1</td>\n",
              "    </tr>\n",
              "    <tr>\n",
              "      <th>2</th>\n",
              "      <td>823322</td>\n",
              "      <td>868.0</td>\n",
              "      <td>NONE</td>\n",
              "      <td>4.0</td>\n",
              "      <td>APPLIANCES</td>\n",
              "      <td>4333.0</td>\n",
              "      <td>NONE</td>\n",
              "      <td>1</td>\n",
              "    </tr>\n",
              "    <tr>\n",
              "      <th>3</th>\n",
              "      <td>322224</td>\n",
              "      <td>310.0</td>\n",
              "      <td>STORES</td>\n",
              "      <td>2.0</td>\n",
              "      <td>FURNITURE</td>\n",
              "      <td>250.0</td>\n",
              "      <td>NONE</td>\n",
              "      <td>1</td>\n",
              "    </tr>\n",
              "    <tr>\n",
              "      <th>4</th>\n",
              "      <td>912693</td>\n",
              "      <td>620.0</td>\n",
              "      <td>NONE</td>\n",
              "      <td>2.0</td>\n",
              "      <td>CAR_USED</td>\n",
              "      <td>2454.0</td>\n",
              "      <td>NONE</td>\n",
              "      <td>0</td>\n",
              "    </tr>\n",
              "  </tbody>\n",
              "</table>\n",
              "</div>"
            ]
          },
          "metadata": {},
          "execution_count": 3
        }
      ],
      "metadata": {
        "id": "uq6cCztsRnAx",
        "colab": {
          "base_uri": "https://localhost:8080/",
          "height": 206
        },
        "outputId": "a0c34bfb-663c-4c44-f68e-5d212351724d"
      }
    },
    {
      "cell_type": "code",
      "execution_count": 4,
      "source": [
        "df_loans.info()"
      ],
      "outputs": [
        {
          "output_type": "stream",
          "name": "stdout",
          "text": [
            "<class 'pandas.core.frame.DataFrame'>\n",
            "RangeIndex: 3999 entries, 0 to 3998\n",
            "Data columns (total 8 columns):\n",
            " #   Column               Non-Null Count  Dtype  \n",
            "---  ------               --------------  -----  \n",
            " 0   ID                   3999 non-null   int64  \n",
            " 1   PAYMENT_TERM         3975 non-null   float64\n",
            " 2   INSTALLMENT_PLANS    3978 non-null   object \n",
            " 3   INSTALLMENT_PERCENT  3974 non-null   float64\n",
            " 4   LOAN_PURPOSE         3979 non-null   object \n",
            " 5   LOAN_AMOUNT          3981 non-null   float64\n",
            " 6   OTHERS_ON_LOAN       3977 non-null   object \n",
            " 7   ALLOW                3999 non-null   int64  \n",
            "dtypes: float64(3), int64(2), object(3)\n",
            "memory usage: 250.1+ KB\n"
          ]
        }
      ],
      "metadata": {
        "id": "NxpdcZI_N2ZL",
        "colab": {
          "base_uri": "https://localhost:8080/"
        },
        "outputId": "fb846edb-0009-4ad2-8eb1-1702f41387c7"
      }
    },
    {
      "cell_type": "code",
      "execution_count": 5,
      "source": [
        "df_loans.describe()"
      ],
      "outputs": [
        {
          "output_type": "execute_result",
          "data": {
            "text/plain": [
              "                 ID  PAYMENT_TERM  ...   LOAN_AMOUNT        ALLOW\n",
              "count  3.999000e+03   3975.000000  ...   3981.000000  3999.000000\n",
              "mean   6.603562e+05    653.796981  ...   3479.168802     0.664166\n",
              "std    3.728332e+05    338.723239  ...   2489.961917     0.472340\n",
              "min    9.800000e+01    120.000000  ...    250.000000     0.000000\n",
              "25%    3.418460e+05    390.000000  ...   1330.000000     0.000000\n",
              "50%    6.670610e+05    651.000000  ...   3237.000000     1.000000\n",
              "75%    9.778745e+05    899.000000  ...   5334.000000     1.000000\n",
              "max    1.320082e+06   1984.000000  ...  11676.000000     1.000000\n",
              "\n",
              "[8 rows x 5 columns]"
            ],
            "text/html": [
              "<div>\n",
              "<style scoped>\n",
              "    .dataframe tbody tr th:only-of-type {\n",
              "        vertical-align: middle;\n",
              "    }\n",
              "\n",
              "    .dataframe tbody tr th {\n",
              "        vertical-align: top;\n",
              "    }\n",
              "\n",
              "    .dataframe thead th {\n",
              "        text-align: right;\n",
              "    }\n",
              "</style>\n",
              "<table border=\"1\" class=\"dataframe\">\n",
              "  <thead>\n",
              "    <tr style=\"text-align: right;\">\n",
              "      <th></th>\n",
              "      <th>ID</th>\n",
              "      <th>PAYMENT_TERM</th>\n",
              "      <th>INSTALLMENT_PERCENT</th>\n",
              "      <th>LOAN_AMOUNT</th>\n",
              "      <th>ALLOW</th>\n",
              "    </tr>\n",
              "  </thead>\n",
              "  <tbody>\n",
              "    <tr>\n",
              "      <th>count</th>\n",
              "      <td>3.999000e+03</td>\n",
              "      <td>3975.000000</td>\n",
              "      <td>3974.000000</td>\n",
              "      <td>3981.000000</td>\n",
              "      <td>3999.000000</td>\n",
              "    </tr>\n",
              "    <tr>\n",
              "      <th>mean</th>\n",
              "      <td>6.603562e+05</td>\n",
              "      <td>653.796981</td>\n",
              "      <td>2.981379</td>\n",
              "      <td>3479.168802</td>\n",
              "      <td>0.664166</td>\n",
              "    </tr>\n",
              "    <tr>\n",
              "      <th>std</th>\n",
              "      <td>3.728332e+05</td>\n",
              "      <td>338.723239</td>\n",
              "      <td>1.121448</td>\n",
              "      <td>2489.961917</td>\n",
              "      <td>0.472340</td>\n",
              "    </tr>\n",
              "    <tr>\n",
              "      <th>min</th>\n",
              "      <td>9.800000e+01</td>\n",
              "      <td>120.000000</td>\n",
              "      <td>1.000000</td>\n",
              "      <td>250.000000</td>\n",
              "      <td>0.000000</td>\n",
              "    </tr>\n",
              "    <tr>\n",
              "      <th>25%</th>\n",
              "      <td>3.418460e+05</td>\n",
              "      <td>390.000000</td>\n",
              "      <td>2.000000</td>\n",
              "      <td>1330.000000</td>\n",
              "      <td>0.000000</td>\n",
              "    </tr>\n",
              "    <tr>\n",
              "      <th>50%</th>\n",
              "      <td>6.670610e+05</td>\n",
              "      <td>651.000000</td>\n",
              "      <td>3.000000</td>\n",
              "      <td>3237.000000</td>\n",
              "      <td>1.000000</td>\n",
              "    </tr>\n",
              "    <tr>\n",
              "      <th>75%</th>\n",
              "      <td>9.778745e+05</td>\n",
              "      <td>899.000000</td>\n",
              "      <td>4.000000</td>\n",
              "      <td>5334.000000</td>\n",
              "      <td>1.000000</td>\n",
              "    </tr>\n",
              "    <tr>\n",
              "      <th>max</th>\n",
              "      <td>1.320082e+06</td>\n",
              "      <td>1984.000000</td>\n",
              "      <td>6.000000</td>\n",
              "      <td>11676.000000</td>\n",
              "      <td>1.000000</td>\n",
              "    </tr>\n",
              "  </tbody>\n",
              "</table>\n",
              "</div>"
            ]
          },
          "metadata": {},
          "execution_count": 5
        }
      ],
      "metadata": {
        "colab": {
          "base_uri": "https://localhost:8080/",
          "height": 300
        },
        "id": "UYrKdUsDN2ZM",
        "outputId": "b6f3e75d-6bb5-4e37-93ae-004714c8d654"
      }
    },
    {
      "cell_type": "code",
      "execution_count": 6,
      "source": [
        "df_loans.nunique()"
      ],
      "outputs": [
        {
          "output_type": "execute_result",
          "data": {
            "text/plain": [
              "ID                     3999\n",
              "PAYMENT_TERM            108\n",
              "INSTALLMENT_PLANS         3\n",
              "INSTALLMENT_PERCENT       6\n",
              "LOAN_PURPOSE             11\n",
              "LOAN_AMOUNT            2798\n",
              "OTHERS_ON_LOAN            3\n",
              "ALLOW                     2\n",
              "dtype: int64"
            ]
          },
          "metadata": {},
          "execution_count": 6
        }
      ],
      "metadata": {
        "id": "uYd98xxlPMak",
        "colab": {
          "base_uri": "https://localhost:8080/"
        },
        "outputId": "400c8b34-d097-44a1-fe58-e1b0d8c66f7b"
      }
    },
    {
      "cell_type": "code",
      "execution_count": 7,
      "source": [
        "df_demographics.info()"
      ],
      "outputs": [
        {
          "output_type": "stream",
          "name": "stdout",
          "text": [
            "<class 'pandas.core.frame.DataFrame'>\n",
            "RangeIndex: 3936 entries, 0 to 3935\n",
            "Data columns (total 11 columns):\n",
            " #   Column                      Non-Null Count  Dtype  \n",
            "---  ------                      --------------  -----  \n",
            " 0   ID                          3936 non-null   int64  \n",
            " 1   SEX                         3920 non-null   object \n",
            " 2   AGE                         3918 non-null   float64\n",
            " 3   JOB_TYPE                    3910 non-null   float64\n",
            " 4   DEPENDENTS                  3915 non-null   float64\n",
            " 5   TELEPHONE                   3915 non-null   float64\n",
            " 6   FOREIGN_WORKER              3909 non-null   float64\n",
            " 7   EMPLOYMENT_DURATION         3923 non-null   float64\n",
            " 8   PROPERTY                    3918 non-null   object \n",
            " 9   HOUSING                     3912 non-null   object \n",
            " 10  CURRENT_RESIDENCE_DURATION  3917 non-null   float64\n",
            "dtypes: float64(7), int64(1), object(3)\n",
            "memory usage: 338.4+ KB\n"
          ]
        }
      ],
      "metadata": {
        "colab": {
          "base_uri": "https://localhost:8080/"
        },
        "id": "hOsfG-WtQYpB",
        "outputId": "97ae84ae-fb75-46fa-80ae-ea1136116a88"
      }
    },
    {
      "cell_type": "code",
      "execution_count": 8,
      "source": [
        "df_demographics.describe()"
      ],
      "outputs": [
        {
          "output_type": "execute_result",
          "data": {
            "text/plain": [
              "                 ID  ...  CURRENT_RESIDENCE_DURATION\n",
              "count  3.936000e+03  ...                 3917.000000\n",
              "mean   6.614226e+05  ...                    2.865458\n",
              "std    3.731249e+05  ...                    1.115873\n",
              "min    9.800000e+01  ...                    1.000000\n",
              "25%    3.427448e+05  ...                    2.000000\n",
              "50%    6.679115e+05  ...                    3.000000\n",
              "75%    9.794970e+05  ...                    4.000000\n",
              "max    1.320082e+06  ...                    6.000000\n",
              "\n",
              "[8 rows x 8 columns]"
            ],
            "text/html": [
              "<div>\n",
              "<style scoped>\n",
              "    .dataframe tbody tr th:only-of-type {\n",
              "        vertical-align: middle;\n",
              "    }\n",
              "\n",
              "    .dataframe tbody tr th {\n",
              "        vertical-align: top;\n",
              "    }\n",
              "\n",
              "    .dataframe thead th {\n",
              "        text-align: right;\n",
              "    }\n",
              "</style>\n",
              "<table border=\"1\" class=\"dataframe\">\n",
              "  <thead>\n",
              "    <tr style=\"text-align: right;\">\n",
              "      <th></th>\n",
              "      <th>ID</th>\n",
              "      <th>AGE</th>\n",
              "      <th>JOB_TYPE</th>\n",
              "      <th>DEPENDENTS</th>\n",
              "      <th>TELEPHONE</th>\n",
              "      <th>FOREIGN_WORKER</th>\n",
              "      <th>EMPLOYMENT_DURATION</th>\n",
              "      <th>CURRENT_RESIDENCE_DURATION</th>\n",
              "    </tr>\n",
              "  </thead>\n",
              "  <tbody>\n",
              "    <tr>\n",
              "      <th>count</th>\n",
              "      <td>3.936000e+03</td>\n",
              "      <td>3918.000000</td>\n",
              "      <td>3910.000000</td>\n",
              "      <td>3915.000000</td>\n",
              "      <td>3915.000000</td>\n",
              "      <td>3909.000000</td>\n",
              "      <td>3923.000000</td>\n",
              "      <td>3917.000000</td>\n",
              "    </tr>\n",
              "    <tr>\n",
              "      <th>mean</th>\n",
              "      <td>6.614226e+05</td>\n",
              "      <td>36.032925</td>\n",
              "      <td>2.429923</td>\n",
              "      <td>1.161175</td>\n",
              "      <td>0.412005</td>\n",
              "      <td>0.975697</td>\n",
              "      <td>4.238848</td>\n",
              "      <td>2.865458</td>\n",
              "    </tr>\n",
              "    <tr>\n",
              "      <th>std</th>\n",
              "      <td>3.731249e+05</td>\n",
              "      <td>10.617743</td>\n",
              "      <td>0.931842</td>\n",
              "      <td>0.367739</td>\n",
              "      <td>0.492259</td>\n",
              "      <td>0.154008</td>\n",
              "      <td>3.595680</td>\n",
              "      <td>1.115873</td>\n",
              "    </tr>\n",
              "    <tr>\n",
              "      <th>min</th>\n",
              "      <td>9.800000e+01</td>\n",
              "      <td>19.000000</td>\n",
              "      <td>0.000000</td>\n",
              "      <td>1.000000</td>\n",
              "      <td>0.000000</td>\n",
              "      <td>0.000000</td>\n",
              "      <td>0.000000</td>\n",
              "      <td>1.000000</td>\n",
              "    </tr>\n",
              "    <tr>\n",
              "      <th>25%</th>\n",
              "      <td>3.427448e+05</td>\n",
              "      <td>28.000000</td>\n",
              "      <td>2.000000</td>\n",
              "      <td>1.000000</td>\n",
              "      <td>0.000000</td>\n",
              "      <td>1.000000</td>\n",
              "      <td>1.000000</td>\n",
              "      <td>2.000000</td>\n",
              "    </tr>\n",
              "    <tr>\n",
              "      <th>50%</th>\n",
              "      <td>6.679115e+05</td>\n",
              "      <td>36.000000</td>\n",
              "      <td>3.000000</td>\n",
              "      <td>1.000000</td>\n",
              "      <td>0.000000</td>\n",
              "      <td>1.000000</td>\n",
              "      <td>4.000000</td>\n",
              "      <td>3.000000</td>\n",
              "    </tr>\n",
              "    <tr>\n",
              "      <th>75%</th>\n",
              "      <td>9.794970e+05</td>\n",
              "      <td>44.000000</td>\n",
              "      <td>3.000000</td>\n",
              "      <td>1.000000</td>\n",
              "      <td>1.000000</td>\n",
              "      <td>1.000000</td>\n",
              "      <td>7.000000</td>\n",
              "      <td>4.000000</td>\n",
              "    </tr>\n",
              "    <tr>\n",
              "      <th>max</th>\n",
              "      <td>1.320082e+06</td>\n",
              "      <td>74.000000</td>\n",
              "      <td>3.000000</td>\n",
              "      <td>2.000000</td>\n",
              "      <td>1.000000</td>\n",
              "      <td>1.000000</td>\n",
              "      <td>18.000000</td>\n",
              "      <td>6.000000</td>\n",
              "    </tr>\n",
              "  </tbody>\n",
              "</table>\n",
              "</div>"
            ]
          },
          "metadata": {},
          "execution_count": 8
        }
      ],
      "metadata": {
        "id": "T_xS_mSuQYpD",
        "colab": {
          "base_uri": "https://localhost:8080/",
          "height": 300
        },
        "outputId": "cc289bb2-0424-4a55-869e-8e52953ff23c"
      }
    },
    {
      "cell_type": "code",
      "execution_count": 9,
      "source": [
        "df_demographics.nunique()"
      ],
      "outputs": [
        {
          "output_type": "execute_result",
          "data": {
            "text/plain": [
              "ID                            3936\n",
              "SEX                              2\n",
              "AGE                             52\n",
              "JOB_TYPE                         4\n",
              "DEPENDENTS                       2\n",
              "TELEPHONE                        2\n",
              "FOREIGN_WORKER                   2\n",
              "EMPLOYMENT_DURATION             19\n",
              "PROPERTY                         4\n",
              "HOUSING                          3\n",
              "CURRENT_RESIDENCE_DURATION       6\n",
              "dtype: int64"
            ]
          },
          "metadata": {},
          "execution_count": 9
        }
      ],
      "metadata": {
        "id": "W7MZbXgSQYpH",
        "colab": {
          "base_uri": "https://localhost:8080/"
        },
        "outputId": "325af16f-dc08-4c5e-b72e-0aedc90c8b49"
      }
    },
    {
      "cell_type": "code",
      "execution_count": 10,
      "source": [
        "df_accounts.info()"
      ],
      "outputs": [
        {
          "output_type": "stream",
          "name": "stdout",
          "text": [
            "<class 'pandas.core.frame.DataFrame'>\n",
            "RangeIndex: 2477 entries, 0 to 2476\n",
            "Data columns (total 5 columns):\n",
            " #   Column                  Non-Null Count  Dtype  \n",
            "---  ------                  --------------  -----  \n",
            " 0   ID                      2477 non-null   int64  \n",
            " 1   CHECKING_BALANCE        2467 non-null   object \n",
            " 2   CREDIT_HISTORY          2462 non-null   object \n",
            " 3   EXISTING_SAVINGS        2467 non-null   object \n",
            " 4   EXISTING_CREDITS_COUNT  2463 non-null   float64\n",
            "dtypes: float64(1), int64(1), object(3)\n",
            "memory usage: 96.9+ KB\n"
          ]
        }
      ],
      "metadata": {
        "colab": {
          "base_uri": "https://localhost:8080/"
        },
        "id": "_XjE-nWbQY9e",
        "outputId": "1e6c8225-0a4d-43fd-b2e8-0e8481e6f16e"
      }
    },
    {
      "cell_type": "code",
      "execution_count": 11,
      "source": [
        "df_accounts.describe()"
      ],
      "outputs": [
        {
          "output_type": "execute_result",
          "data": {
            "text/plain": [
              "                 ID  EXISTING_CREDITS_COUNT\n",
              "count  2.477000e+03             2463.000000\n",
              "mean   6.683799e+05                1.469752\n",
              "std    3.730570e+05                0.569142\n",
              "min    9.800000e+01                1.000000\n",
              "25%    3.521920e+05                1.000000\n",
              "50%    6.809460e+05                1.000000\n",
              "75%    9.857560e+05                2.000000\n",
              "max    1.319964e+06                3.000000"
            ],
            "text/html": [
              "<div>\n",
              "<style scoped>\n",
              "    .dataframe tbody tr th:only-of-type {\n",
              "        vertical-align: middle;\n",
              "    }\n",
              "\n",
              "    .dataframe tbody tr th {\n",
              "        vertical-align: top;\n",
              "    }\n",
              "\n",
              "    .dataframe thead th {\n",
              "        text-align: right;\n",
              "    }\n",
              "</style>\n",
              "<table border=\"1\" class=\"dataframe\">\n",
              "  <thead>\n",
              "    <tr style=\"text-align: right;\">\n",
              "      <th></th>\n",
              "      <th>ID</th>\n",
              "      <th>EXISTING_CREDITS_COUNT</th>\n",
              "    </tr>\n",
              "  </thead>\n",
              "  <tbody>\n",
              "    <tr>\n",
              "      <th>count</th>\n",
              "      <td>2.477000e+03</td>\n",
              "      <td>2463.000000</td>\n",
              "    </tr>\n",
              "    <tr>\n",
              "      <th>mean</th>\n",
              "      <td>6.683799e+05</td>\n",
              "      <td>1.469752</td>\n",
              "    </tr>\n",
              "    <tr>\n",
              "      <th>std</th>\n",
              "      <td>3.730570e+05</td>\n",
              "      <td>0.569142</td>\n",
              "    </tr>\n",
              "    <tr>\n",
              "      <th>min</th>\n",
              "      <td>9.800000e+01</td>\n",
              "      <td>1.000000</td>\n",
              "    </tr>\n",
              "    <tr>\n",
              "      <th>25%</th>\n",
              "      <td>3.521920e+05</td>\n",
              "      <td>1.000000</td>\n",
              "    </tr>\n",
              "    <tr>\n",
              "      <th>50%</th>\n",
              "      <td>6.809460e+05</td>\n",
              "      <td>1.000000</td>\n",
              "    </tr>\n",
              "    <tr>\n",
              "      <th>75%</th>\n",
              "      <td>9.857560e+05</td>\n",
              "      <td>2.000000</td>\n",
              "    </tr>\n",
              "    <tr>\n",
              "      <th>max</th>\n",
              "      <td>1.319964e+06</td>\n",
              "      <td>3.000000</td>\n",
              "    </tr>\n",
              "  </tbody>\n",
              "</table>\n",
              "</div>"
            ]
          },
          "metadata": {},
          "execution_count": 11
        }
      ],
      "metadata": {
        "id": "1sg6AGRbQY9j",
        "colab": {
          "base_uri": "https://localhost:8080/",
          "height": 300
        },
        "outputId": "eee35e33-445c-4980-f3ba-0d98f7623f1e"
      }
    },
    {
      "cell_type": "code",
      "execution_count": 12,
      "source": [
        "df_accounts.nunique()"
      ],
      "outputs": [
        {
          "output_type": "execute_result",
          "data": {
            "text/plain": [
              "ID                        2477\n",
              "CHECKING_BALANCE          1396\n",
              "CREDIT_HISTORY               5\n",
              "EXISTING_SAVINGS          2238\n",
              "EXISTING_CREDITS_COUNT       3\n",
              "dtype: int64"
            ]
          },
          "metadata": {},
          "execution_count": 12
        }
      ],
      "metadata": {
        "id": "vP1a4p5yQY9n",
        "colab": {
          "base_uri": "https://localhost:8080/"
        },
        "outputId": "cb681833-b904-45fa-9c38-414f3d51fb54"
      }
    },
    {
      "cell_type": "markdown",
      "source": [
        "La variable de destino para este desafío es `ALLOW`, es decir, si se debe permitir o no un préstamo, según la información proporcionada. Echemos un vistazo a cómo se distribuye esta variable."
      ],
      "metadata": {
        "id": "E4Nug6eON2ZN"
      }
    },
    {
      "cell_type": "code",
      "execution_count": 13,
      "source": [
        "risk_plot = sns.countplot(data=df_loans, x='ALLOW', order=df_loans['ALLOW'].value_counts().index)\n",
        "plt.show()"
      ],
      "outputs": [
        {
          "output_type": "display_data",
          "data": {
            "text/plain": [
              "<Figure size 432x288 with 1 Axes>"
            ],
            "image/png": "[encoded data removed]"
          },
          "metadata": {
            "needs_background": "light"
          }
        }
      ],
      "metadata": {
        "colab": {
          "base_uri": "https://localhost:8080/",
          "height": 279
        },
        "id": "688W-bm6N2ZO",
        "outputId": "861fb31b-dded-4b12-9dea-979358d1c345"
      }
    },
    {
      "cell_type": "markdown",
      "source": [
        "Siéntete libre de ver la distribución de otras columnas en el conjunto de datos, usar los otros conjuntos de datos, explorar correlaciones entre variables y más."
      ],
      "metadata": {
        "id": "oXdEHE1pN2ZP"
      }
    },
    {
      "cell_type": "code",
      "execution_count": 17,
      "source": [
        "# El resultado de esta celda sera la union de los dos anteriores dataframes\n",
        "# usando la columna ``ID`` como llave.\n",
        "# Merge studens tareas\n",
        "df_temp = pd.merge(\n",
        "    df_accounts, df_loans, how='left',\n",
        "    on=None, left_on=['ID'], right_on=['ID'],\n",
        "    left_index=False, right_index=False, sort=False,\n",
        "    suffixes=('_x', '_y'), copy=True, indicator=False,\n",
        "    validate=None\n",
        ")\n",
        "df_merged = pd.merge(\n",
        "    df_demographics, df_temp, how='right',\n",
        "    on=None, left_on=['ID'], right_on=['ID'],\n",
        "    left_index=False, right_index=False, sort=False,\n",
        "    suffixes=('_x', '_y'), copy=True, indicator=False,\n",
        "    validate=None\n",
        ")"
      ],
      "outputs": [],
      "metadata": {
        "id": "KCLVIT29UorV"
      }
    },
    {
      "cell_type": "code",
      "execution_count": 18,
      "source": [
        "df_merged.info()"
      ],
      "outputs": [
        {
          "output_type": "stream",
          "name": "stdout",
          "text": [
            "<class 'pandas.core.frame.DataFrame'>\n",
            "Int64Index: 2477 entries, 0 to 2476\n",
            "Data columns (total 22 columns):\n",
            " #   Column                      Non-Null Count  Dtype  \n",
            "---  ------                      --------------  -----  \n",
            " 0   ID                          2477 non-null   int64  \n",
            " 1   SEX                         2467 non-null   object \n",
            " 2   AGE                         2465 non-null   float64\n",
            " 3   JOB_TYPE                    2464 non-null   float64\n",
            " 4   DEPENDENTS                  2461 non-null   float64\n",
            " 5   TELEPHONE                   2464 non-null   float64\n",
            " 6   FOREIGN_WORKER              2463 non-null   float64\n",
            " 7   EMPLOYMENT_DURATION         2472 non-null   float64\n",
            " 8   PROPERTY                    2465 non-null   object \n",
            " 9   HOUSING                     2465 non-null   object \n",
            " 10  CURRENT_RESIDENCE_DURATION  2469 non-null   float64\n",
            " 11  CHECKING_BALANCE            2467 non-null   object \n",
            " 12  CREDIT_HISTORY              2462 non-null   object \n",
            " 13  EXISTING_SAVINGS            2467 non-null   object \n",
            " 14  EXISTING_CREDITS_COUNT      2463 non-null   float64\n",
            " 15  PAYMENT_TERM                2460 non-null   float64\n",
            " 16  INSTALLMENT_PLANS           2462 non-null   object \n",
            " 17  INSTALLMENT_PERCENT         2459 non-null   float64\n",
            " 18  LOAN_PURPOSE                2467 non-null   object \n",
            " 19  LOAN_AMOUNT                 2466 non-null   float64\n",
            " 20  OTHERS_ON_LOAN              2464 non-null   object \n",
            " 21  ALLOW                       2477 non-null   int64  \n",
            "dtypes: float64(11), int64(2), object(9)\n",
            "memory usage: 445.1+ KB\n"
          ]
        }
      ],
      "metadata": {
        "colab": {
          "base_uri": "https://localhost:8080/"
        },
        "id": "z0Z3-2mIRnfX",
        "outputId": "709b3689-0357-4fc6-9cc3-c893e502a315"
      }
    },
    {
      "cell_type": "code",
      "execution_count": 19,
      "source": [
        "df_merged.isnull().sum()"
      ],
      "outputs": [
        {
          "output_type": "execute_result",
          "data": {
            "text/plain": [
              "ID                             0\n",
              "SEX                           10\n",
              "AGE                           12\n",
              "JOB_TYPE                      13\n",
              "DEPENDENTS                    16\n",
              "TELEPHONE                     13\n",
              "FOREIGN_WORKER                14\n",
              "EMPLOYMENT_DURATION            5\n",
              "PROPERTY                      12\n",
              "HOUSING                       12\n",
              "CURRENT_RESIDENCE_DURATION     8\n",
              "CHECKING_BALANCE              10\n",
              "CREDIT_HISTORY                15\n",
              "EXISTING_SAVINGS              10\n",
              "EXISTING_CREDITS_COUNT        14\n",
              "PAYMENT_TERM                  17\n",
              "INSTALLMENT_PLANS             15\n",
              "INSTALLMENT_PERCENT           18\n",
              "LOAN_PURPOSE                  10\n",
              "LOAN_AMOUNT                   11\n",
              "OTHERS_ON_LOAN                13\n",
              "ALLOW                          0\n",
              "dtype: int64"
            ]
          },
          "metadata": {},
          "execution_count": 19
        }
      ],
      "metadata": {
        "colab": {
          "base_uri": "https://localhost:8080/"
        },
        "id": "jZoUO0kZWmiz",
        "outputId": "78d4678f-520f-476a-a77e-f11b3132a429"
      }
    },
    {
      "cell_type": "code",
      "execution_count": null,
      "source": [
        "df_merged.to_csv(path_or_buf='merged.csv')"
      ],
      "outputs": [],
      "metadata": {
        "id": "ilYLQu3XEmNz"
      }
    },
    {
      "cell_type": "code",
      "execution_count": null,
      "source": [
        "# Adicione suas explorações"
      ],
      "outputs": [],
      "metadata": {
        "id": "vtn20dcpN2ZQ"
      }
    },
    {
      "cell_type": "markdown",
      "source": [
        "### Analisis por tipo de variable\n"
      ],
      "metadata": {
        "id": "ilE0u5WLZeTJ"
      }
    },
    {
      "cell_type": "markdown",
      "source": [
        "#### Categoricas\n"
      ],
      "metadata": {
        "id": "K2HpQIh2ZjVp"
      }
    },
    {
      "cell_type": "code",
      "execution_count": 20,
      "source": [
        "df_merged['SEX'].value_counts(normalize=True).plot.bar(title='SEX')\n",
        "plt.show()\n",
        "df_merged['JOB_TYPE'].value_counts(normalize=True).plot.bar(title='JOB_TYPE')\n",
        "plt.show()\n",
        "df_merged['DEPENDENTS'].value_counts(normalize=True).plot.bar(title='DEPENDENTS')\n",
        "plt.show()\n",
        "df_merged['TELEPHONE'].value_counts(normalize=True).plot.bar(title='TELEPHONE')\n",
        "plt.show()\n",
        "df_merged['FOREIGN_WORKER'].value_counts(normalize=True).plot.bar(title='FOREIGN_WORKER')\n",
        "plt.show()\n",
        "df_merged['PROPERTY'].value_counts(normalize=True).plot.bar(title='PROPERTY')\n",
        "plt.show()\n",
        "df_merged['HOUSING'].value_counts(normalize=True).plot.bar(title='HOUSING')\n",
        "plt.show()\n",
        "df_merged['CREDIT_HISTORY'].value_counts(normalize=True).plot.bar(title='CREDIT_HISTORY')\n",
        "plt.show()\n",
        "df_merged['EXISTING_CREDITS_COUNT'].value_counts(normalize=True).plot.bar(title='EXISTING_CREDITS_COUNT')\n",
        "plt.show()\n",
        "df_merged['INSTALLMENT_PLANS'].value_counts(normalize=True).plot.bar(title='INSTALLMENT_PLANS')\n",
        "plt.show()\n",
        "df_merged['INSTALLMENT_PERCENT'].value_counts(normalize=True).plot.bar(title='INSTALLMENT_PERCENT')\n",
        "plt.show()\n",
        "df_merged['LOAN_PURPOSE'].value_counts(normalize=True).plot.bar(title='LOAN_PURPOSE')\n",
        "plt.show()\n",
        "df_merged['OTHERS_ON_LOAN'].value_counts(normalize=True).plot.bar(title='OTHERS_ON_LOAN')\n",
        "plt.show()\n",
        "\n"
      ],
      "outputs": [
        {
          "output_type": "display_data",
          "data": {
            "text/plain": [
              "<Figure size 432x288 with 1 Axes>"
            ],
            "image/png": "[encoded data removed]"
          },
          "metadata": {
            "needs_background": "light"
          }
        },
        {
          "output_type": "display_data",
          "data": {
            "text/plain": [
              "<Figure size 432x288 with 1 Axes>"
            ],
            "image/png": "[encoded data removed]"
          },
          "metadata": {
            "needs_background": "light"
          }
        },
        {
          "output_type": "display_data",
          "data": {
            "text/plain": [
              "<Figure size 432x288 with 1 Axes>"
            ],
            "image/png": "[encoded data removed]"
          },
          "metadata": {
            "needs_background": "light"
          }
        },
        {
          "output_type": "display_data",
          "data": {
            "text/plain": [
              "<Figure size 432x288 with 1 Axes>"
            ],
            "image/png": "[encoded data removed]"
          },
          "metadata": {
            "needs_background": "light"
          }
        },
        {
          "output_type": "display_data",
          "data": {
            "text/plain": [
              "<Figure size 432x288 with 1 Axes>"
            ],
            "image/png": "[encoded data removed]"
          },
          "metadata": {
            "needs_background": "light"
          }
        },
        {
          "output_type": "display_data",
          "data": {
            "text/plain": [
              "<Figure size 432x288 with 1 Axes>"
            ],
            "image/png": "[encoded data removed]"
          },
          "metadata": {
            "needs_background": "light"
          }
        },
        {
          "output_type": "display_data",
          "data": {
            "text/plain": [
              "<Figure size 432x288 with 1 Axes>"
            ],
            "image/png": "[encoded data removed]"
          },
          "metadata": {
            "needs_background": "light"
          }
        },
        {
          "output_type": "display_data",
          "data": {
            "text/plain": [
              "<Figure size 432x288 with 1 Axes>"
            ],
            "image/png": "[encoded data removed]"
          },
          "metadata": {
            "needs_background": "light"
          }
        },
        {
          "output_type": "display_data",
          "data": {
            "text/plain": [
              "<Figure size 432x288 with 1 Axes>"
            ],
            "image/png": "[encoded data removed]"
          },
          "metadata": {
            "needs_background": "light"
          }
        },
        {
          "output_type": "display_data",
          "data": {
            "text/plain": [
              "<Figure size 432x288 with 1 Axes>"
            ],
            "image/png": "[encoded data removed]"
          },
          "metadata": {
            "needs_background": "light"
          }
        },
        {
          "output_type": "display_data",
          "data": {
            "text/plain": [
              "<Figure size 432x288 with 1 Axes>"
            ],
            "image/png": "[encoded data removed]"
          },
          "metadata": {
            "needs_background": "light"
          }
        },
        {
          "output_type": "display_data",
          "data": {
            "text/plain": [
              "<Figure size 432x288 with 1 Axes>"
            ],
            "image/png": "[encoded data removed]"
          },
          "metadata": {
            "needs_background": "light"
          }
        },
        {
          "output_type": "display_data",
          "data": {
            "text/plain": [
              "<Figure size 432x288 with 1 Axes>"
            ],
            "image/png": "[encoded data removed]"
          },
          "metadata": {
            "needs_background": "light"
          }
        }
      ],
      "metadata": {
        "colab": {
          "base_uri": "https://localhost:8080/",
          "height": 1000
        },
        "id": "hEnuigQGZnqk",
        "outputId": "f767c7ac-8529-4b2d-faf2-8a5b7eabbabd"
      }
    },
    {
      "cell_type": "markdown",
      "source": [
        "#### Numericas"
      ],
      "metadata": {
        "id": "w68QrdoEi3Z2"
      }
    },
    {
      "cell_type": "code",
      "execution_count": 21,
      "source": [
        "fig, axes = plt.subplots(nrows=2, ncols=3, figsize=(28, 4))\n",
        "sns.histplot(df_merged['AGE'].dropna(), ax=axes[0][0])\n",
        "sns.histplot(df_merged['EMPLOYMENT_DURATION'].dropna(), ax=axes[0][1])\n",
        "sns.histplot(df_merged['CURRENT_RESIDENCE_DURATION'].dropna(), ax=axes[0][2])\n",
        "sns.histplot(df_merged['PAYMENT_TERM'].dropna(), ax=axes[1][0])\n",
        "sns.histplot(df_merged['LOAN_AMOUNT'].dropna(), ax=axes[1][1])"
      ],
      "outputs": [
        {
          "output_type": "execute_result",
          "data": {
            "text/plain": [
              "<matplotlib.axes._subplots.AxesSubplot at 0x7f0807d60890>"
            ]
          },
          "metadata": {},
          "execution_count": 21
        },
        {
          "output_type": "display_data",
          "data": {
            "text/plain": [
              "<Figure size 2016x288 with 6 Axes>"
            ],
            "image/png": "[encoded data removed]"
          },
          "metadata": {
            "needs_background": "light"
          }
        }
      ],
      "metadata": {
        "colab": {
          "base_uri": "https://localhost:8080/",
          "height": 276
        },
        "id": "bTYKn3Jci5_w",
        "outputId": "a8d93332-8c58-4388-f81e-ae4db96be30c"
      }
    },
    {
      "cell_type": "markdown",
      "source": [
        "### Analisis BiVariable\n"
      ],
      "metadata": {
        "id": "YEOfV5UNZEsp"
      }
    },
    {
      "cell_type": "markdown",
      "source": [
        "#### Categoricas vs Target"
      ],
      "metadata": {
        "id": "KoWTXDHhZSl_"
      }
    },
    {
      "cell_type": "code",
      "execution_count": null,
      "source": [
        "SEX = pd.crosstab(df_merged['SEX'],df_merged['ALLOW'])                         \n",
        "JOB_TYPE = pd.crosstab(df_merged['JOB_TYPE'],df_merged['ALLOW'])                    \n",
        "DEPENDENTS = pd.crosstab(df_merged['DEPENDENTS'],df_merged['ALLOW'])                  \n",
        "TELEPHONE = pd.crosstab(df_merged['TELEPHONE'],df_merged['ALLOW'])                   \n",
        "FOREIGN_WORKER = pd.crosstab(df_merged['FOREIGN_WORKER'],df_merged['ALLOW'])              \n",
        "EMPLOYMENT_DURATION = pd.crosstab(df_merged['EMPLOYMENT_DURATION'],df_merged['ALLOW'])         \n",
        "PROPERTY = pd.crosstab(df_merged['PROPERTY'],df_merged['ALLOW'])                    \n",
        "HOUSING = pd.crosstab(df_merged['HOUSING'],df_merged['ALLOW'])                     \n",
        "CURRENT_RESIDENCE_DURATION = pd.crosstab(df_merged['CURRENT_RESIDENCE_DURATION'],df_merged['ALLOW'])  \n",
        "CREDIT_HISTORY = pd.crosstab(df_merged['CREDIT_HISTORY'],df_merged['ALLOW'])              \n",
        "EXISTING_CREDITS_COUNT = pd.crosstab(df_merged['EXISTING_CREDITS_COUNT'],df_merged['ALLOW'])      \n",
        "INSTALLMENT_PLANS = pd.crosstab(df_merged['INSTALLMENT_PLANS'],df_merged['ALLOW'])           \n",
        "INSTALLMENT_PERCENT = pd.crosstab(df_merged['INSTALLMENT_PERCENT'],df_merged['ALLOW'])         \n",
        "LOAN_PURPOSE = pd.crosstab(df_merged['LOAN_PURPOSE'],df_merged['ALLOW'])                \n",
        "OTHERS_ON_LOAN = pd.crosstab(df_merged['OTHERS_ON_LOAN'],df_merged['ALLOW'])                       \n",
        "\n",
        "\n",
        "SEX.div(SEX.sum(1).astype(float), axis=0).plot(kind=\"bar\",stacked=True,figsize=(4,5))\n",
        "JOB_TYPE.div(JOB_TYPE.sum(1).astype(float), axis=0).plot(kind=\"bar\",stacked=True,figsize=(4,5))\n",
        "DEPENDENTS.div(DEPENDENTS.sum(1).astype(float), axis=0).plot(kind=\"bar\",stacked=True,figsize=(4,5))\n",
        "TELEPHONE.div(TELEPHONE.sum(1).astype(float), axis=0).plot(kind=\"bar\",stacked=True,figsize=(4,5))\n",
        "FOREIGN_WORKER.div(FOREIGN_WORKER.sum(1).astype(float), axis=0).plot(kind=\"bar\",stacked=True,figsize=(4,5))\n",
        "EMPLOYMENT_DURATION.div(EMPLOYMENT_DURATION.sum(1).astype(float), axis=0).plot(kind=\"bar\",stacked=True,figsize=(4,5))\n",
        "PROPERTY.div(PROPERTY.sum(1).astype(float), axis=0).plot(kind=\"bar\",stacked=True,figsize=(4,5))\n",
        "HOUSING.div(HOUSING.sum(1).astype(float), axis=0).plot(kind=\"bar\",stacked=True,figsize=(4,5))\n",
        "CURRENT_RESIDENCE_DURATION.div(CURRENT_RESIDENCE_DURATION.sum(1).astype(float), axis=0).plot(kind=\"bar\",stacked=True,figsize=(4,5))\n",
        "CREDIT_HISTORY.div(CREDIT_HISTORY.sum(1).astype(float), axis=0).plot(kind=\"bar\",stacked=True,figsize=(4,5))\n",
        "EXISTING_CREDITS_COUNT.div(EXISTING_CREDITS_COUNT.sum(1).astype(float), axis=0).plot(kind=\"bar\",stacked=True,figsize=(4,5))\n",
        "INSTALLMENT_PLANS.div(INSTALLMENT_PLANS.sum(1).astype(float), axis=0).plot(kind=\"bar\",stacked=True,figsize=(4,5))\n",
        "INSTALLMENT_PERCENT.div(INSTALLMENT_PERCENT.sum(1).astype(float), axis=0).plot(kind=\"bar\",stacked=True,figsize=(4,5))\n",
        "LOAN_PURPOSE.div(LOAN_PURPOSE.sum(1).astype(float), axis=0).plot(kind=\"bar\",stacked=True,figsize=(4,5))\n",
        "OTHERS_ON_LOAN.div(OTHERS_ON_LOAN.sum(1).astype(float), axis=0).plot(kind=\"bar\",stacked=True,figsize=(4,5))"
      ],
      "outputs": [
        {
          "output_type": "execute_result",
          "data": {
            "text/plain": [
              "<AxesSubplot:xlabel='OTHERS_ON_LOAN'>"
            ]
          },
          "metadata": {},
          "execution_count": 20
        },
        {
          "output_type": "display_data",
          "data": {
            "text/plain": [
              "<Figure size 288x360 with 1 Axes>"
            ],
            "image/png": "[encoded data removed]"
          },
          "metadata": {
            "needs_background": "light"
          }
        },
        {
          "output_type": "display_data",
          "data": {
            "text/plain": [
              "<Figure size 288x360 with 1 Axes>"
            ],
            "image/png": "[encoded data removed]"
          },
          "metadata": {
            "needs_background": "light"
          }
        },
        {
          "output_type": "display_data",
          "data": {
            "text/plain": [
              "<Figure size 288x360 with 1 Axes>"
            ],
            "image/png": "[encoded data removed]"
          },
          "metadata": {
            "needs_background": "light"
          }
        },
        {
          "output_type": "display_data",
          "data": {
            "text/plain": [
              "<Figure size 288x360 with 1 Axes>"
            ],
            "image/png": "[encoded data removed]"
          },
          "metadata": {
            "needs_background": "light"
          }
        },
        {
          "output_type": "display_data",
          "data": {
            "text/plain": [
              "<Figure size 288x360 with 1 Axes>"
            ],
            "image/png": "[encoded data removed]"
          },
          "metadata": {
            "needs_background": "light"
          }
        },
        {
          "output_type": "display_data",
          "data": {
            "text/plain": [
              "<Figure size 288x360 with 1 Axes>"
            ],
            "image/png": "[encoded data removed]"
          },
          "metadata": {
            "needs_background": "light"
          }
        },
        {
          "output_type": "display_data",
          "data": {
            "text/plain": [
              "<Figure size 288x360 with 1 Axes>"
            ],
            "image/png": "[encoded data removed]"
          },
          "metadata": {
            "needs_background": "light"
          }
        },
        {
          "output_type": "display_data",
          "data": {
            "text/plain": [
              "<Figure size 288x360 with 1 Axes>"
            ],
            "image/png": "[encoded data removed]"
          },
          "metadata": {
            "needs_background": "light"
          }
        },
        {
          "output_type": "display_data",
          "data": {
            "text/plain": [
              "<Figure size 288x360 with 1 Axes>"
            ],
            "image/png": "[encoded data removed]"
          },
          "metadata": {
            "needs_background": "light"
          }
        },
        {
          "output_type": "display_data",
          "data": {
            "text/plain": [
              "<Figure size 288x360 with 1 Axes>"
            ],
            "image/png": "[encoded data removed]"
          },
          "metadata": {
            "needs_background": "light"
          }
        },
        {
          "output_type": "display_data",
          "data": {
            "text/plain": [
              "<Figure size 288x360 with 1 Axes>"
            ],
            "image/png": "[encoded data removed]"
          },
          "metadata": {
            "needs_background": "light"
          }
        },
        {
          "output_type": "display_data",
          "data": {
            "text/plain": [
              "<Figure size 288x360 with 1 Axes>"
            ],
            "image/png": "[encoded data removed]"
          },
          "metadata": {
            "needs_background": "light"
          }
        },
        {
          "output_type": "display_data",
          "data": {
            "text/plain": [
              "<Figure size 288x360 with 1 Axes>"
            ],
            "image/png": "[encoded data removed]"
          },
          "metadata": {
            "needs_background": "light"
          }
        },
        {
          "output_type": "display_data",
          "data": {
            "text/plain": [
              "<Figure size 288x360 with 1 Axes>"
            ],
            "image/png": "[encoded data removed]"
          },
          "metadata": {
            "needs_background": "light"
          }
        },
        {
          "output_type": "display_data",
          "data": {
            "text/plain": [
              "<Figure size 288x360 with 1 Axes>"
            ],
            "image/png": "[encoded data removed]"
          },
          "metadata": {
            "needs_background": "light"
          }
        }
      ],
      "metadata": {
        "colab": {
          "base_uri": "https://localhost:8080/",
          "height": 1000
        },
        "id": "XB2egddWwAju",
        "outputId": "d987ccf2-1ce5-47ce-99d9-b3997dbbbf1e"
      }
    },
    {
      "cell_type": "code",
      "execution_count": null,
      "source": [
        "# HeatMap\n",
        "import numpy as np\n",
        "\n",
        "plt.figure(figsize = (14, 8))\n",
        "mask = np.triu(np.ones_like(df_merged.corr(), dtype=bool))\n",
        "\n",
        "sns.heatmap(round(df_merged.corr(method = 'spearman'), 3), mask=mask,annot=True, linewidths=0.5)\n",
        "plt.title('Correlation Matrix')\n",
        "plt.tight_layout()\n",
        "plt.show()"
      ],
      "outputs": [],
      "metadata": {
        "id": "Cv9tO34VN2ZT"
      }
    },
    {
      "cell_type": "markdown",
      "source": [
        "#### Variables Numericas vs Target"
      ],
      "metadata": {
        "id": "-etx4vP3U7UQ"
      }
    },
    {
      "cell_type": "code",
      "execution_count": null,
      "source": [
        "df_merged.groupby('ALLOW')['LOAN_AMOUNT'].mean().plot.bar()\n",
        "df_merged.groupby('ALLOW')['AGE'].mean().plot.bar()\n",
        "\n"
      ],
      "outputs": [
        {
          "output_type": "execute_result",
          "data": {
            "text/plain": [
              "<AxesSubplot:xlabel='ALLOW'>"
            ]
          },
          "metadata": {},
          "execution_count": 21
        },
        {
          "output_type": "display_data",
          "data": {
            "text/plain": [
              "<Figure size 432x288 with 1 Axes>"
            ],
            "image/png": "[encoded data removed]"
          },
          "metadata": {
            "needs_background": "light"
          }
        }
      ],
      "metadata": {
        "colab": {
          "base_uri": "https://localhost:8080/",
          "height": 293
        },
        "id": "3V7XJAL0U-wy",
        "outputId": "02af563f-b6f6-4654-c419-cd37ac49be28"
      }
    },
    {
      "cell_type": "markdown",
      "source": [
        "## Procesamiento de datos"
      ],
      "metadata": {
        "id": "57idoHzxN2ZX"
      }
    },
    {
      "cell_type": "code",
      "execution_count": 22,
      "source": [
        "from sklearn.base import BaseEstimator, TransformerMixin\n",
        "from sklearn.pipeline import Pipeline\n",
        "\n",
        "\n",
        "# Un transformador para fixear datos del Desafio1\n",
        "class FixerDesafio1(BaseEstimator, TransformerMixin):\n",
        "    def __init__(self):\n",
        "        return\n",
        "        \n",
        "    def fit(self, X, y=None):\n",
        "        return self\n",
        "\n",
        "    def transform(self, X):\n",
        "        # Primero realizamos la cópia del DataFrame 'X' de entrada\n",
        "        df = X.copy()\n",
        "        \n",
        "        # Ajusto CHECKING_BALANCE creando una Nueva Columna a usar en su reemplazo.\n",
        "        df['BALANCE_CHECKING'] = df[\"CHECKING_BALANCE\"]\n",
        "        df[\"BALANCE_CHECKING\"] = df[\"BALANCE_CHECKING\"].replace(to_replace =\"NO_CHECKING\",\n",
        "                    value =-1)\n",
        "        df['BALANCE_CHECKING'] = df['BALANCE_CHECKING'].fillna(-1)\n",
        "        df[\"BALANCE_CHECKING\"] = df[\"BALANCE_CHECKING\"].astype(float)\n",
        "        df['BALANCE_CHECKING'] = df['BALANCE_CHECKING'].apply(lambda x: 'Negativo' if (x < 0) else 'Positivo')\n",
        "\n",
        "        # Verifico si el prestamo solicitado se puede cubrir con EXISTING_SAVINGS\n",
        "        df['DINERO_DISPONIBLE'] = df[\"EXISTING_SAVINGS\"]\n",
        "        df['DINERO_DISPONIBLE'] = df['DINERO_DISPONIBLE'].fillna(-1)\n",
        "        df[\"DINERO_DISPONIBLE\"] = df[\"DINERO_DISPONIBLE\"].replace(to_replace =\"UNKNOWN\",\n",
        "                    value =-1)\n",
        "        df[\"DINERO_DISPONIBLE\"] = df[\"DINERO_DISPONIBLE\"].astype(float)\n",
        "        df['LOAN_AMOUNT'] = df['LOAN_AMOUNT'].fillna(df['LOAN_AMOUNT'].mean())\n",
        "        df['DINERO_DISPONIBLE'] = (df['DINERO_DISPONIBLE'] > df['LOAN_AMOUNT']).map({True:'SI', False:'NO'})\n",
        "\n",
        "        # AJUSTO LA HISTORIA CREDITICIA\n",
        "        df[\"CREDIT_HISTORY\"] = df[\"CREDIT_HISTORY\"].fillna(\"UNKNOWN\")\n",
        "        df[\"CREDIT_HISTORY\"] = df[\"CREDIT_HISTORY\"].replace(to_replace =\"ALL_CREDITS_PAID_BACK\", value =\"GOOD\")\n",
        "        df[\"CREDIT_HISTORY\"] = df[\"CREDIT_HISTORY\"].replace(to_replace =\"CREDITS_PAID_TO_DATE\", value =\"GOOD\")\n",
        "        df[\"CREDIT_HISTORY\"] = df[\"CREDIT_HISTORY\"].replace(to_replace =\"PRIOR_PAYMENTS_DELAYED\", value =\"BAD\")\n",
        "        df[\"CREDIT_HISTORY\"] = df[\"CREDIT_HISTORY\"].replace(to_replace =\"OUTSTANDING_CREDIT\", value =\"BAD\")\n",
        "\n",
        "        # AJUSTO LA PROPERTY segun HOUSING para los nulos y los UNKNOWN\n",
        "        df[\"HOUSING\"] = df[\"HOUSING\"].fillna(\"UNKNOWN\")\n",
        "        df[\"PROPERTY\"] = df[\"PROPERTY\"].fillna(df[\"HOUSING\"])\n",
        "        df[\"PROPERTY\"] = df[\"PROPERTY\"].replace(to_replace =\"OWN\", value =\"REAL_ESTATE\")\n",
        "        df[\"PROPERTY\"] = df[\"PROPERTY\"].replace(to_replace =\"RENT\", value =\"UNKNOWN\")\n",
        "        df[\"PROPERTY\"] = df[\"PROPERTY\"].replace(to_replace =\"FREE\", value =\"UNKNOWN\")\n",
        "\n",
        "\n",
        "        return df"
      ],
      "outputs": [],
      "metadata": {
        "id": "8Br6HLgvJ0Ns"
      }
    },
    {
      "cell_type": "code",
      "execution_count": 23,
      "source": [
        "fixer = FixerDesafio1()\n",
        "df_merged_fixed = fixer.fit_transform(df_merged)"
      ],
      "outputs": [],
      "metadata": {
        "id": "QNlFK5ZKKiaV"
      }
    },
    {
      "cell_type": "code",
      "execution_count": 24,
      "source": [
        "df_merged_fixed.info()"
      ],
      "outputs": [
        {
          "output_type": "stream",
          "name": "stdout",
          "text": [
            "<class 'pandas.core.frame.DataFrame'>\n",
            "Int64Index: 2477 entries, 0 to 2476\n",
            "Data columns (total 24 columns):\n",
            " #   Column                      Non-Null Count  Dtype  \n",
            "---  ------                      --------------  -----  \n",
            " 0   ID                          2477 non-null   int64  \n",
            " 1   SEX                         2467 non-null   object \n",
            " 2   AGE                         2465 non-null   float64\n",
            " 3   JOB_TYPE                    2464 non-null   float64\n",
            " 4   DEPENDENTS                  2461 non-null   float64\n",
            " 5   TELEPHONE                   2464 non-null   float64\n",
            " 6   FOREIGN_WORKER              2463 non-null   float64\n",
            " 7   EMPLOYMENT_DURATION         2472 non-null   float64\n",
            " 8   PROPERTY                    2477 non-null   object \n",
            " 9   HOUSING                     2477 non-null   object \n",
            " 10  CURRENT_RESIDENCE_DURATION  2469 non-null   float64\n",
            " 11  CHECKING_BALANCE            2467 non-null   object \n",
            " 12  CREDIT_HISTORY              2477 non-null   object \n",
            " 13  EXISTING_SAVINGS            2467 non-null   object \n",
            " 14  EXISTING_CREDITS_COUNT      2463 non-null   float64\n",
            " 15  PAYMENT_TERM                2460 non-null   float64\n",
            " 16  INSTALLMENT_PLANS           2462 non-null   object \n",
            " 17  INSTALLMENT_PERCENT         2459 non-null   float64\n",
            " 18  LOAN_PURPOSE                2467 non-null   object \n",
            " 19  LOAN_AMOUNT                 2477 non-null   float64\n",
            " 20  OTHERS_ON_LOAN              2464 non-null   object \n",
            " 21  ALLOW                       2477 non-null   int64  \n",
            " 22  BALANCE_CHECKING            2477 non-null   object \n",
            " 23  DINERO_DISPONIBLE           2477 non-null   object \n",
            "dtypes: float64(11), int64(2), object(11)\n",
            "memory usage: 483.8+ KB\n"
          ]
        }
      ],
      "metadata": {
        "colab": {
          "base_uri": "https://localhost:8080/"
        },
        "id": "u9DKqIPdoqDV",
        "outputId": "26019417-8646-4d0b-89c2-c1ed9d040f93"
      }
    },
    {
      "cell_type": "code",
      "execution_count": 25,
      "source": [
        "# HeatMap\n",
        "import numpy as np\n",
        "\n",
        "plt.figure(figsize = (14, 8))\n",
        "mask = np.triu(np.ones_like(df_merged_fixed.corr(), dtype=bool))\n",
        "\n",
        "sns.heatmap(round(df_merged_fixed.corr(method = 'spearman'), 3), mask=mask,annot=True, linewidths=0.5)\n",
        "plt.title('Correlation Matrix')\n",
        "plt.tight_layout()\n",
        "plt.show()"
      ],
      "outputs": [
        {
          "output_type": "display_data",
          "data": {
            "text/plain": [
              "<Figure size 1008x576 with 2 Axes>"
            ],
            "image/png": "[encoded data removed]"
          },
          "metadata": {
            "needs_background": "light"
          }
        }
      ],
      "metadata": {
        "colab": {
          "base_uri": "https://localhost:8080/",
          "height": 585
        },
        "id": "c0FErDrKoqUJ",
        "outputId": "e123f9f7-0b59-4930-9929-8940c26e385c"
      }
    },
    {
      "cell_type": "markdown",
      "source": [
        "Al observar la ejecución del método `.info()` anterior, podemos ver que hay tres columnas de tipo `object`. El modelo `scikit-learn` que vamos a utilizar no es capaz de procesar dicha variable. Entonces, se utiliza alguna técnica para manejar variables categóricas, como _one-hot encoding_.\n",
        "\n",
        "Si debemos de eliminar la columna `ID`, ya que sabemos que no es información útil para la predicción (es solo un número que identifica a un cliente)."
      ],
      "metadata": {
        "id": "-uRdEDHCN2ZZ"
      }
    },
    {
      "cell_type": "code",
      "execution_count": 26,
      "source": [
        "from sklearn.experimental import enable_iterative_imputer \n",
        "from sklearn.impute import SimpleImputer, KNNImputer, IterativeImputer\n",
        "from sklearn.pipeline import Pipeline\n",
        "from sklearn.preprocessing import OneHotEncoder, MinMaxScaler, StandardScaler, FunctionTransformer\n",
        "from sklearn.compose import ColumnTransformer\n",
        "\n",
        "categoricas = [\n",
        "  #'SEX',\n",
        "  'PROPERTY',\n",
        "  'CREDIT_HISTORY',\n",
        "  'LOAN_PURPOSE',\n",
        "  'OTHERS_ON_LOAN',\n",
        "  'BALANCE_CHECKING',\n",
        "  'DINERO_DISPONIBLE',\n",
        "  #'TELEPHONE',\n",
        "  'INSTALLMENT_PLANS',\n",
        "]\n",
        "\n",
        "\n",
        "# Define categorical pipeline\n",
        "cat_pipe = Pipeline([\n",
        "    ('imputer', SimpleImputer(strategy='most_frequent')),\n",
        "    ('encoder', OneHotEncoder(handle_unknown='ignore', sparse=False))\n",
        "])\n",
        "\n",
        "numericas = [\n",
        "  'AGE',\n",
        "  #'FOREIGN_WORKER',\n",
        "  'EMPLOYMENT_DURATION',\n",
        "  'CURRENT_RESIDENCE_DURATION',\n",
        "  'PAYMENT_TERM',\n",
        "]\n",
        "\n",
        "# Define numerical pipeline\n",
        "num_pipe = Pipeline([\n",
        "    ('imputer', SimpleImputer(strategy='mean')),\n",
        "    #('scaler', StandardScaler())\n",
        "])\n",
        "\n",
        "ordinales = [\n",
        "  #'JOB_TYPE',\n",
        "  'DEPENDENTS',\n",
        "  'EXISTING_CREDITS_COUNT',\n",
        "  'INSTALLMENT_PERCENT',          \n",
        "]\n",
        "\n",
        "# Define ordinal pipeline\n",
        "ord_pipe = Pipeline([\n",
        "    ('imputer', SimpleImputer(strategy='most_frequent')),\n",
        "    ('encoder', OneHotEncoder(handle_unknown='ignore', sparse=False))\n",
        "])\n",
        "\n",
        "\n",
        "\n",
        "# Combine categorical and numerical pipelines\n",
        "preprocessor = ColumnTransformer(transformers =[\n",
        "    ('cat', cat_pipe, categoricas),\n",
        "    ('num', num_pipe, numericas),\n",
        "    ('ord', ord_pipe, ordinales),\n",
        "])\n"
      ],
      "outputs": [],
      "metadata": {
        "id": "8c07gN-Ee2O5"
      }
    },
    {
      "cell_type": "markdown",
      "source": [
        "## Creación del modelo\n",
        "\n",
        "Con los datos listos, podemos seleccionar un modelo de Machine Learning para entrenar con nuestros datos. En este ejemplo, vamos a utilizar un modelo de clasificación básico, el árbol de decisiones.\n",
        "\n",
        "Para poder evaluar el rendimiento de nuestro modelo, dividamos los datos que tenemos entre los datos de entrenamiento y de prueba, y luego, después del entrenamiento, veremos cómo le va con las predicciones."
      ],
      "metadata": {
        "id": "iYugAIdAN2Za"
      }
    },
    {
      "cell_type": "code",
      "execution_count": 27,
      "source": [
        "from sklearn.tree import DecisionTreeClassifier\n",
        "from sklearn.ensemble import ExtraTreesClassifier, RandomForestClassifier\n",
        "from sklearn.neighbors import KNeighborsClassifier\n",
        "from sklearn.neural_network import MLPClassifier\n",
        "from xgboost import XGBClassifier, XGBRFClassifier\n",
        "from sklearn.model_selection import train_test_split\n",
        "from sklearn.metrics import accuracy_score, f1_score"
      ],
      "outputs": [],
      "metadata": {
        "id": "fRiFssrsN2Zb"
      }
    },
    {
      "cell_type": "markdown",
      "source": [
        "A continuación, separamos los datos que queremos predecir de los datos que usamos como información para la predicción."
      ],
      "metadata": {
        "id": "VEyGacWPN2Zc"
      }
    },
    {
      "cell_type": "code",
      "execution_count": 68,
      "source": [
        "target = ['ALLOW']\n",
        "features = list((set(df_merged.columns) - set(target) - set(['ID'])))\n",
        "X = df_merged[features]\n",
        "y = df_merged[target]"
      ],
      "outputs": [],
      "metadata": {
        "id": "h_T2emOVN2Zc"
      }
    },
    {
      "cell_type": "code",
      "execution_count": 103,
      "source": [
        "test_pct = 0.1 # Separaremos 30% de los dados para testing\n",
        "X_train, X_test, y_train, y_test = train_test_split(X, y, test_size=test_pct)\n",
        "\n",
        "\n",
        "\n",
        "model = XGBClassifier()\n",
        "\n",
        "# Creando una instancia del transformador, pasando como parámetro las colunmas que no queremos\n",
        "#drop_columns = DropColumns(unwanted_columns)\n",
        "\n",
        "\n",
        "# Creando un Pipeline, adicionando nuestro transformador seguido de un modelo de árbol de decisión\n",
        "skl_pipeline = Pipeline(steps=[\n",
        "                               ('fixer', fixer),\n",
        "                               ('preprocessor', preprocessor),\n",
        "                               ('classification', model)\n",
        "                               ]\n",
        "                        )\n",
        "\n",
        "\n",
        "skl_pipeline.fit(X_train, y_train)"
      ],
      "outputs": [
        {
          "output_type": "stream",
          "name": "stderr",
          "text": [
            "/usr/local/lib/python3.7/dist-packages/sklearn/preprocessing/_label.py:98: DataConversionWarning: A column-vector y was passed when a 1d array was expected. Please change the shape of y to (n_samples, ), for example using ravel().\n",
            "  y = column_or_1d(y, warn=True)\n",
            "/usr/local/lib/python3.7/dist-packages/sklearn/preprocessing/_label.py:133: DataConversionWarning: A column-vector y was passed when a 1d array was expected. Please change the shape of y to (n_samples, ), for example using ravel().\n",
            "  y = column_or_1d(y, warn=True)\n"
          ]
        },
        {
          "output_type": "execute_result",
          "data": {
            "text/plain": [
              "Pipeline(steps=[('fixer', FixerDesafio1()),\n",
              "                ('preprocessor',\n",
              "                 ColumnTransformer(transformers=[('cat',\n",
              "                                                  Pipeline(steps=[('imputer',\n",
              "                                                                   SimpleImputer(strategy='most_frequent')),\n",
              "                                                                  ('encoder',\n",
              "                                                                   OneHotEncoder(handle_unknown='ignore',\n",
              "                                                                                 sparse=False))]),\n",
              "                                                  ['PROPERTY', 'CREDIT_HISTORY',\n",
              "                                                   'LOAN_PURPOSE',\n",
              "                                                   'OTHERS_ON_LOAN',\n",
              "                                                   'BALANCE_CHECKING',\n",
              "                                                   'DINERO_DISPONIBLE',\n",
              "                                                   'INSTALLMENT_PLANS'...\n",
              "                                                  Pipeline(steps=[('imputer',\n",
              "                                                                   SimpleImputer())]),\n",
              "                                                  ['AGE', 'EMPLOYMENT_DURATION',\n",
              "                                                   'CURRENT_RESIDENCE_DURATION',\n",
              "                                                   'PAYMENT_TERM']),\n",
              "                                                 ('ord',\n",
              "                                                  Pipeline(steps=[('imputer',\n",
              "                                                                   SimpleImputer(strategy='most_frequent')),\n",
              "                                                                  ('encoder',\n",
              "                                                                   OneHotEncoder(handle_unknown='ignore',\n",
              "                                                                                 sparse=False))]),\n",
              "                                                  ['DEPENDENTS',\n",
              "                                                   'EXISTING_CREDITS_COUNT',\n",
              "                                                   'INSTALLMENT_PERCENT'])])),\n",
              "                ('classification', XGBClassifier())])"
            ]
          },
          "metadata": {},
          "execution_count": 103
        }
      ],
      "metadata": {
        "colab": {
          "base_uri": "https://localhost:8080/"
        },
        "id": "CouqfwdQN2Zc",
        "outputId": "48cb61bc-803a-429c-dff3-c5886380e78e"
      }
    },
    {
      "cell_type": "markdown",
      "source": [
        "## Scores del Modelo"
      ],
      "metadata": {
        "id": "GSS4dL2DbvrV"
      }
    },
    {
      "cell_type": "code",
      "execution_count": 104,
      "source": [
        "y_pred = skl_pipeline.predict(X_test)\n",
        "acc = accuracy_score(y_test, y_pred)\n",
        "print(f\"Exactitud del modelo (número de predicciones asertadas sobre el número total de pruebas): {acc}\")\n",
        "f1_0 = f1_score(y_test, y_pred, pos_label=0)\n",
        "f1_1 = f1_score(y_test, y_pred, pos_label=1)\n",
        "print(f\"F1_0 del modelo (número de predicciones asertadas sobre el número total de pruebas): {f1_0}\")\n",
        "print(f\"F1_1 del modelo (número de predicciones asertadas sobre el número total de pruebas): {f1_1}\")"
      ],
      "outputs": [
        {
          "output_type": "stream",
          "name": "stdout",
          "text": [
            "Exactitud del modelo (número de predicciones asertadas sobre el número total de pruebas): 0.8064516129032258\n",
            "F1_0 del modelo (número de predicciones asertadas sobre el número total de pruebas): 0.6470588235294118\n",
            "F1_1 del modelo (número de predicciones asertadas sobre el número total de pruebas): 0.8666666666666666\n"
          ]
        }
      ],
      "metadata": {
        "colab": {
          "base_uri": "https://localhost:8080/"
        },
        "id": "FnmYPo-rb2pS",
        "outputId": "e32465ba-ee03-4fda-e151-43a640bbb7f5"
      }
    },
    {
      "cell_type": "code",
      "execution_count": 105,
      "source": [
        "y_pred_train = skl_pipeline.predict(X_train)\n",
        "acc = accuracy_score(y_train, y_pred_train)\n",
        "print(f\"Exactitud TRAIN del modelo (número de predicciones asertadas sobre el número total de pruebas): {acc}\")\n",
        "f1_0 = f1_score(y_train, y_pred_train, pos_label=0)\n",
        "f1_1 = f1_score(y_train, y_pred_train, pos_label=1)\n",
        "print(f\"F1_0 TRAIN del modelo (número de predicciones asertadas sobre el número total de pruebas): {f1_0}\")\n",
        "print(f\"F1_1 TRAIN del modelo (número de predicciones asertadas sobre el número total de pruebas): {f1_1}\")"
      ],
      "outputs": [
        {
          "output_type": "stream",
          "name": "stdout",
          "text": [
            "Exactitud TRAIN del modelo (número de predicciones asertadas sobre el número total de pruebas): 0.8241363840287125\n",
            "F1_0 TRAIN del modelo (número de predicciones asertadas sobre el número total de pruebas): 0.712609970674487\n",
            "F1_1 TRAIN del modelo (número de predicciones asertadas sobre el número total de pruebas): 0.8733031674208144\n"
          ]
        }
      ],
      "metadata": {
        "colab": {
          "base_uri": "https://localhost:8080/"
        },
        "id": "tzrJDw46sH6m",
        "outputId": "f181ddb1-3a51-47e6-ae37-d50697d1404b"
      }
    },
    {
      "cell_type": "code",
      "execution_count": 106,
      "source": [
        "# Cross validation scores\n",
        "from sklearn.model_selection import cross_val_score\n",
        "f1_scores = cross_val_score(skl_pipeline, X, y, cv=5, scoring='f1',n_jobs=2)\n",
        "print(\"F1_scores per fold : \",f1_scores,\" \\nMean F1_score= \",np.mean(f1_scores))\n",
        " "
      ],
      "outputs": [
        {
          "output_type": "stream",
          "name": "stdout",
          "text": [
            "F1_scores per fold :  [0.86206897 0.85222382 0.82639885 0.86251809 0.84133916]  \n",
            "Mean F1_score=  0.848909775914308\n"
          ]
        }
      ],
      "metadata": {
        "colab": {
          "base_uri": "https://localhost:8080/"
        },
        "id": "tuvo10y5xCmI",
        "outputId": "e7efeba9-0018-41b9-8c6e-70e9ef3ec7f3"
      }
    },
    {
      "cell_type": "code",
      "execution_count": 107,
      "source": [
        "from sklearn.metrics import classification_report\n",
        "print(classification_report(y_test, y_pred,digits=5, target_names=['0', '1']))"
      ],
      "outputs": [
        {
          "output_type": "stream",
          "name": "stdout",
          "text": [
            "              precision    recall  f1-score   support\n",
            "\n",
            "           0    0.66667   0.62857   0.64706        70\n",
            "           1    0.85714   0.87640   0.86667       178\n",
            "\n",
            "    accuracy                        0.80645       248\n",
            "   macro avg    0.76190   0.75249   0.75686       248\n",
            "weighted avg    0.80338   0.80645   0.80468       248\n",
            "\n"
          ]
        }
      ],
      "metadata": {
        "colab": {
          "base_uri": "https://localhost:8080/"
        },
        "id": "D3VfNg3Zhrrj",
        "outputId": "b93c4362-a60c-46a9-859f-1771af55ff8d"
      }
    },
    {
      "cell_type": "code",
      "execution_count": 108,
      "source": [
        "from sklearn.metrics import confusion_matrix\n",
        "import matplotlib.pyplot as plt\n",
        "import seaborn as sns\n",
        "import numpy as np\n",
        "\n",
        "\n",
        "\n",
        "cf_matrix = confusion_matrix(y_test, y_pred)\n",
        "group_names = ['`Positivo` Correto', '`Negativo` Errado', 'Falso `Positivo`', '`Negativo` Correto']\n",
        "group_counts = ['{0:0.0f}'.format(value) for value in cf_matrix.flatten()]\n",
        "group_percentages = ['{0:.2%}'.format(value) for value in cf_matrix.flatten()/np.sum(cf_matrix)]\n",
        "labels = [f'{v1}\\n{v2}\\n{v3}' for v1, v2, v3 in zip(group_names, group_counts, group_percentages)]\n",
        "labels = np.asarray(labels).reshape(2,2)\n",
        "accuracy  = np.trace(cf_matrix) / float(np.sum(cf_matrix))\n",
        "precision = cf_matrix[1,1] / sum(cf_matrix[:,1])\n",
        "recall    = cf_matrix[1,1] / sum(cf_matrix[1,:])\n",
        "f1_score_m  = 2*precision*recall / (precision + recall)\n",
        "sns.heatmap(cf_matrix, annot=labels, fmt=\"\")\n",
        "stats_text = \"\\n\\nAccuracy={:0.3f}\\nPrecision={:0.3f}\\nRecall={:0.3f}\\nF1 Score={}\".format(accuracy, precision, recall, f1_score_m)\n",
        "plt.ylabel('True label')\n",
        "plt.xlabel('Predicted label' + stats_text)"
      ],
      "outputs": [
        {
          "output_type": "execute_result",
          "data": {
            "text/plain": [
              "Text(0.5, 15.0, 'Predicted label\\n\\nAccuracy=0.806\\nPrecision=0.857\\nRecall=0.876\\nF1 Score=0.8666666666666666')"
            ]
          },
          "metadata": {},
          "execution_count": 108
        },
        {
          "output_type": "display_data",
          "data": {
            "text/plain": [
              "<Figure size 432x288 with 2 Axes>"
            ],
            "image/png": "[encoded data removed]"
          },
          "metadata": {
            "needs_background": "light"
          }
        }
      ],
      "metadata": {
        "colab": {
          "base_uri": "https://localhost:8080/",
          "height": 354
        },
        "id": "pC6C5Pi9uJwF",
        "outputId": "1ef8b514-ac4b-45a5-d498-ca40f99f7b61"
      }
    },
    {
      "cell_type": "markdown",
      "source": [
        "## TO BE SCORED"
      ],
      "metadata": {
        "id": "YqFpiAeRACz7"
      }
    },
    {
      "cell_type": "code",
      "execution_count": 110,
      "source": [
        "!wget --no-check-certificate --content-disposition https://raw.githubusercontent.com/maratonadev/desafio-1-2021/main/assets/data/ANSWERS.csv\n",
        "to_be_scored = pd.read_csv(r'ANSWERS.csv')\n",
        "\n",
        "y_scored = skl_pipeline.predict(to_be_scored)"
      ],
      "outputs": [
        {
          "output_type": "stream",
          "name": "stdout",
          "text": [
            "--2021-11-19 11:56:19--  https://raw.githubusercontent.com/maratonadev/desafio-1-2021/main/assets/data/ANSWERS.csv\n",
            "Resolving raw.githubusercontent.com (raw.githubusercontent.com)... 185.199.108.133, 185.199.109.133, 185.199.110.133, ...\n",
            "Connecting to raw.githubusercontent.com (raw.githubusercontent.com)|185.199.108.133|:443... connected.\n",
            "HTTP request sent, awaiting response... 200 OK\n",
            "Length: 120244 (117K) [text/plain]\n",
            "Saving to: ‘ANSWERS.csv’\n",
            "\n",
            "\rANSWERS.csv           0%[                    ]       0  --.-KB/s               \rANSWERS.csv         100%[===================>] 117.43K  --.-KB/s    in 0.003s  \n",
            "\n",
            "2021-11-19 11:56:19 (33.9 MB/s) - ‘ANSWERS.csv’ saved [120244/120244]\n",
            "\n"
          ]
        }
      ],
      "metadata": {
        "colab": {
          "base_uri": "https://localhost:8080/"
        },
        "id": "2SyOLMM_AFC_",
        "outputId": "25288cb0-936c-42e4-a045-354b6bb902af"
      }
    },
    {
      "cell_type": "code",
      "execution_count": 111,
      "source": [
        "scored = to_be_scored.copy()\n",
        "scored['ALLOW'] = y_scored\n",
        "\n",
        "scored.head(200)"
      ],
      "outputs": [
        {
          "output_type": "execute_result",
          "data": {
            "text/plain": [
              "          ID CHECKING_BALANCE  PAYMENT_TERM  ... TELEPHONE FOREIGN_WORKER  ALLOW\n",
              "0    1078506            25.84           465  ...         0              1      1\n",
              "1     947575          -439.72           120  ...         0              1      1\n",
              "2     133043           169.45           527  ...         0              1      1\n",
              "3    1031383      NO_CHECKING           720  ...         0              1      1\n",
              "4     491563      NO_CHECKING           420  ...         1              1      1\n",
              "..       ...              ...           ...  ...       ...            ...    ...\n",
              "195   117599      NO_CHECKING          1116  ...         0              1      0\n",
              "196   526934      NO_CHECKING           930  ...         1              1      0\n",
              "197   191737      NO_CHECKING           900  ...         0              1      1\n",
              "198  1168465          -490.03           330  ...         0              1      1\n",
              "199   962106      NO_CHECKING           868  ...         1              1      0\n",
              "\n",
              "[200 rows x 22 columns]"
            ],
            "text/html": [
              "<div>\n",
              "<style scoped>\n",
              "    .dataframe tbody tr th:only-of-type {\n",
              "        vertical-align: middle;\n",
              "    }\n",
              "\n",
              "    .dataframe tbody tr th {\n",
              "        vertical-align: top;\n",
              "    }\n",
              "\n",
              "    .dataframe thead th {\n",
              "        text-align: right;\n",
              "    }\n",
              "</style>\n",
              "<table border=\"1\" class=\"dataframe\">\n",
              "  <thead>\n",
              "    <tr style=\"text-align: right;\">\n",
              "      <th></th>\n",
              "      <th>ID</th>\n",
              "      <th>CHECKING_BALANCE</th>\n",
              "      <th>PAYMENT_TERM</th>\n",
              "      <th>CREDIT_HISTORY</th>\n",
              "      <th>LOAN_PURPOSE</th>\n",
              "      <th>LOAN_AMOUNT</th>\n",
              "      <th>EXISTING_SAVINGS</th>\n",
              "      <th>EMPLOYMENT_DURATION</th>\n",
              "      <th>INSTALLMENT_PERCENT</th>\n",
              "      <th>SEX</th>\n",
              "      <th>OTHERS_ON_LOAN</th>\n",
              "      <th>CURRENT_RESIDENCE_DURATION</th>\n",
              "      <th>PROPERTY</th>\n",
              "      <th>AGE</th>\n",
              "      <th>INSTALLMENT_PLANS</th>\n",
              "      <th>HOUSING</th>\n",
              "      <th>EXISTING_CREDITS_COUNT</th>\n",
              "      <th>JOB_TYPE</th>\n",
              "      <th>DEPENDENTS</th>\n",
              "      <th>TELEPHONE</th>\n",
              "      <th>FOREIGN_WORKER</th>\n",
              "      <th>ALLOW</th>\n",
              "    </tr>\n",
              "  </thead>\n",
              "  <tbody>\n",
              "    <tr>\n",
              "      <th>0</th>\n",
              "      <td>1078506</td>\n",
              "      <td>25.84</td>\n",
              "      <td>465</td>\n",
              "      <td>NO_CREDITS</td>\n",
              "      <td>CAR_NEW</td>\n",
              "      <td>250</td>\n",
              "      <td>38.35</td>\n",
              "      <td>0</td>\n",
              "      <td>1</td>\n",
              "      <td>F</td>\n",
              "      <td>NONE</td>\n",
              "      <td>2</td>\n",
              "      <td>REAL_ESTATE</td>\n",
              "      <td>32</td>\n",
              "      <td>STORES</td>\n",
              "      <td>OWN</td>\n",
              "      <td>1</td>\n",
              "      <td>3</td>\n",
              "      <td>1</td>\n",
              "      <td>0</td>\n",
              "      <td>1</td>\n",
              "      <td>1</td>\n",
              "    </tr>\n",
              "    <tr>\n",
              "      <th>1</th>\n",
              "      <td>947575</td>\n",
              "      <td>-439.72</td>\n",
              "      <td>120</td>\n",
              "      <td>ALL_CREDITS_PAID_BACK</td>\n",
              "      <td>CAR_NEW</td>\n",
              "      <td>250</td>\n",
              "      <td>1.62</td>\n",
              "      <td>0</td>\n",
              "      <td>2</td>\n",
              "      <td>M</td>\n",
              "      <td>CO-APPLICANT</td>\n",
              "      <td>2</td>\n",
              "      <td>REAL_ESTATE</td>\n",
              "      <td>25</td>\n",
              "      <td>STORES</td>\n",
              "      <td>RENT</td>\n",
              "      <td>1</td>\n",
              "      <td>3</td>\n",
              "      <td>1</td>\n",
              "      <td>0</td>\n",
              "      <td>1</td>\n",
              "      <td>1</td>\n",
              "    </tr>\n",
              "    <tr>\n",
              "      <th>2</th>\n",
              "      <td>133043</td>\n",
              "      <td>169.45</td>\n",
              "      <td>527</td>\n",
              "      <td>PRIOR_PAYMENTS_DELAYED</td>\n",
              "      <td>RADIO_TV</td>\n",
              "      <td>2207</td>\n",
              "      <td>184.97</td>\n",
              "      <td>6</td>\n",
              "      <td>2</td>\n",
              "      <td>M</td>\n",
              "      <td>NONE</td>\n",
              "      <td>3</td>\n",
              "      <td>SAVINGS_INSURANCE</td>\n",
              "      <td>32</td>\n",
              "      <td>STORES</td>\n",
              "      <td>OWN</td>\n",
              "      <td>2</td>\n",
              "      <td>1</td>\n",
              "      <td>2</td>\n",
              "      <td>0</td>\n",
              "      <td>1</td>\n",
              "      <td>1</td>\n",
              "    </tr>\n",
              "    <tr>\n",
              "      <th>3</th>\n",
              "      <td>1031383</td>\n",
              "      <td>NO_CHECKING</td>\n",
              "      <td>720</td>\n",
              "      <td>OUTSTANDING_CREDIT</td>\n",
              "      <td>CAR_USED</td>\n",
              "      <td>5064</td>\n",
              "      <td>731.03</td>\n",
              "      <td>6</td>\n",
              "      <td>4</td>\n",
              "      <td>M</td>\n",
              "      <td>NONE</td>\n",
              "      <td>2</td>\n",
              "      <td>CAR_OTHER</td>\n",
              "      <td>49</td>\n",
              "      <td>NONE</td>\n",
              "      <td>OWN</td>\n",
              "      <td>2</td>\n",
              "      <td>3</td>\n",
              "      <td>1</td>\n",
              "      <td>0</td>\n",
              "      <td>1</td>\n",
              "      <td>1</td>\n",
              "    </tr>\n",
              "    <tr>\n",
              "      <th>4</th>\n",
              "      <td>491563</td>\n",
              "      <td>NO_CHECKING</td>\n",
              "      <td>420</td>\n",
              "      <td>OUTSTANDING_CREDIT</td>\n",
              "      <td>FURNITURE</td>\n",
              "      <td>3763</td>\n",
              "      <td>396.26</td>\n",
              "      <td>4</td>\n",
              "      <td>3</td>\n",
              "      <td>F</td>\n",
              "      <td>NONE</td>\n",
              "      <td>3</td>\n",
              "      <td>CAR_OTHER</td>\n",
              "      <td>46</td>\n",
              "      <td>STORES</td>\n",
              "      <td>OWN</td>\n",
              "      <td>1</td>\n",
              "      <td>1</td>\n",
              "      <td>2</td>\n",
              "      <td>1</td>\n",
              "      <td>1</td>\n",
              "      <td>1</td>\n",
              "    </tr>\n",
              "    <tr>\n",
              "      <th>...</th>\n",
              "      <td>...</td>\n",
              "      <td>...</td>\n",
              "      <td>...</td>\n",
              "      <td>...</td>\n",
              "      <td>...</td>\n",
              "      <td>...</td>\n",
              "      <td>...</td>\n",
              "      <td>...</td>\n",
              "      <td>...</td>\n",
              "      <td>...</td>\n",
              "      <td>...</td>\n",
              "      <td>...</td>\n",
              "      <td>...</td>\n",
              "      <td>...</td>\n",
              "      <td>...</td>\n",
              "      <td>...</td>\n",
              "      <td>...</td>\n",
              "      <td>...</td>\n",
              "      <td>...</td>\n",
              "      <td>...</td>\n",
              "      <td>...</td>\n",
              "      <td>...</td>\n",
              "    </tr>\n",
              "    <tr>\n",
              "      <th>195</th>\n",
              "      <td>117599</td>\n",
              "      <td>NO_CHECKING</td>\n",
              "      <td>1116</td>\n",
              "      <td>PRIOR_PAYMENTS_DELAYED</td>\n",
              "      <td>APPLIANCES</td>\n",
              "      <td>5855</td>\n",
              "      <td>519.64</td>\n",
              "      <td>12</td>\n",
              "      <td>4</td>\n",
              "      <td>M</td>\n",
              "      <td>NONE</td>\n",
              "      <td>5</td>\n",
              "      <td>SAVINGS_INSURANCE</td>\n",
              "      <td>42</td>\n",
              "      <td>NONE</td>\n",
              "      <td>OWN</td>\n",
              "      <td>2</td>\n",
              "      <td>3</td>\n",
              "      <td>1</td>\n",
              "      <td>0</td>\n",
              "      <td>1</td>\n",
              "      <td>0</td>\n",
              "    </tr>\n",
              "    <tr>\n",
              "      <th>196</th>\n",
              "      <td>526934</td>\n",
              "      <td>NO_CHECKING</td>\n",
              "      <td>930</td>\n",
              "      <td>PRIOR_PAYMENTS_DELAYED</td>\n",
              "      <td>APPLIANCES</td>\n",
              "      <td>7074</td>\n",
              "      <td>376.12</td>\n",
              "      <td>5</td>\n",
              "      <td>3</td>\n",
              "      <td>M</td>\n",
              "      <td>GUARANTOR</td>\n",
              "      <td>3</td>\n",
              "      <td>UNKNOWN</td>\n",
              "      <td>49</td>\n",
              "      <td>NONE</td>\n",
              "      <td>FREE</td>\n",
              "      <td>1</td>\n",
              "      <td>3</td>\n",
              "      <td>1</td>\n",
              "      <td>1</td>\n",
              "      <td>1</td>\n",
              "      <td>0</td>\n",
              "    </tr>\n",
              "    <tr>\n",
              "      <th>197</th>\n",
              "      <td>191737</td>\n",
              "      <td>NO_CHECKING</td>\n",
              "      <td>900</td>\n",
              "      <td>OUTSTANDING_CREDIT</td>\n",
              "      <td>FURNITURE</td>\n",
              "      <td>3601</td>\n",
              "      <td>UNKNOWN</td>\n",
              "      <td>10</td>\n",
              "      <td>4</td>\n",
              "      <td>M</td>\n",
              "      <td>NONE</td>\n",
              "      <td>3</td>\n",
              "      <td>SAVINGS_INSURANCE</td>\n",
              "      <td>35</td>\n",
              "      <td>BANK</td>\n",
              "      <td>OWN</td>\n",
              "      <td>2</td>\n",
              "      <td>1</td>\n",
              "      <td>1</td>\n",
              "      <td>0</td>\n",
              "      <td>1</td>\n",
              "      <td>1</td>\n",
              "    </tr>\n",
              "    <tr>\n",
              "      <th>198</th>\n",
              "      <td>1168465</td>\n",
              "      <td>-490.03</td>\n",
              "      <td>330</td>\n",
              "      <td>PRIOR_PAYMENTS_DELAYED</td>\n",
              "      <td>CAR_NEW</td>\n",
              "      <td>3900</td>\n",
              "      <td>87.41</td>\n",
              "      <td>4</td>\n",
              "      <td>2</td>\n",
              "      <td>M</td>\n",
              "      <td>NONE</td>\n",
              "      <td>3</td>\n",
              "      <td>SAVINGS_INSURANCE</td>\n",
              "      <td>19</td>\n",
              "      <td>NONE</td>\n",
              "      <td>RENT</td>\n",
              "      <td>1</td>\n",
              "      <td>3</td>\n",
              "      <td>1</td>\n",
              "      <td>0</td>\n",
              "      <td>1</td>\n",
              "      <td>1</td>\n",
              "    </tr>\n",
              "    <tr>\n",
              "      <th>199</th>\n",
              "      <td>962106</td>\n",
              "      <td>NO_CHECKING</td>\n",
              "      <td>868</td>\n",
              "      <td>OUTSTANDING_CREDIT</td>\n",
              "      <td>FURNITURE</td>\n",
              "      <td>5027</td>\n",
              "      <td>986.99</td>\n",
              "      <td>6</td>\n",
              "      <td>4</td>\n",
              "      <td>M</td>\n",
              "      <td>NONE</td>\n",
              "      <td>4</td>\n",
              "      <td>UNKNOWN</td>\n",
              "      <td>51</td>\n",
              "      <td>NONE</td>\n",
              "      <td>FREE</td>\n",
              "      <td>2</td>\n",
              "      <td>3</td>\n",
              "      <td>2</td>\n",
              "      <td>1</td>\n",
              "      <td>1</td>\n",
              "      <td>0</td>\n",
              "    </tr>\n",
              "  </tbody>\n",
              "</table>\n",
              "<p>200 rows × 22 columns</p>\n",
              "</div>"
            ]
          },
          "metadata": {},
          "execution_count": 111
        }
      ],
      "metadata": {
        "colab": {
          "base_uri": "https://localhost:8080/",
          "height": 444
        },
        "id": "pD4ElC1uBQPq",
        "outputId": "cee3bd47-6be3-47e9-da10-3ddf31e92829"
      }
    },
    {
      "cell_type": "code",
      "execution_count": 112,
      "source": [
        "scored.to_csv(index=False,path_or_buf=\"ANSWERS.csv\")"
      ],
      "outputs": [],
      "metadata": {
        "id": "smnRQ6FHCE1d"
      }
    },
    {
      "cell_type": "markdown",
      "source": [
        "## Sobre Pipelines\n",
        "\n",
        "Un `Pipeline`, de la librería `scikit-learn`, consta de una serie de pasos donde realizamos transformaciones de datos. Las transformaciones están definidas por clases que siempre deben tener **dos métodos**:\n",
        "\n",
        "- **fit**: Un método que recibe datos de entrenamiento y devuelve la propia instancia de clase. Se aplica cuando se entrena para usar una canalización para entrenar un modelo.\n",
        "- **transform**: Un método que toma un conjunto de datos como entrada y debe devolver otro conjunto de datos, transformado. Se aplica a cada paso del Pipeline, recibiendo los datos del paso anterior y transformándolos.\n",
        "\n",
        "Vea a continuación una representación gráfica de cómo funciona un Pipeline:"
      ],
      "metadata": {
        "id": "9EJPU7WVN2Ze"
      }
    },
    {
      "cell_type": "markdown",
      "source": [
        "![](https://s3.br-sao.cloud-object-storage.appdomain.cloud/maratona-static/pipeline-es.png)"
      ],
      "metadata": {
        "id": "OfvfcRD0N2Zf"
      }
    },
    {
      "cell_type": "markdown",
      "source": [
        "En este Notebook, creamos un Pipeline muy similar al ejemplo anterior, con dos etapas:\n",
        "\n",
        "- **drop_columns**: Remueve las columnas indeseadas del conjunto de datos de entrada.\n",
        "- **classification**: Alimenta un modelo de clasificación con los datos obtenidos de la etapa de **drop_columns**, pudiendo ser tanto para entrenamiento como para obtener una predicción. "
      ],
      "metadata": {
        "id": "2RFy8vE7N2Zg"
      }
    },
    {
      "cell_type": "markdown",
      "source": [
        "## Deploy del modelo para Watson Machine Learning (WML)\n",
        "\n",
        "Ahora que tenemos el modelo listo para su publicación, queremos ponerlo en línea para que el sistema de la Maratón pueda probarlo :)\n",
        "\n",
        "Para ello, utilizaremos la biblioteca `IBM Watson Machine Learning`, que le permite encapsular modelos de Machine Learning en APIs REST."
      ],
      "metadata": {
        "id": "feNWgyCmN2Zl"
      }
    },
    {
      "cell_type": "code",
      "execution_count": null,
      "source": [
        "# Instalar la biblioteca WML\n",
        "!pip install -U ibm-watson-machine-learning"
      ],
      "outputs": [
        {
          "output_type": "stream",
          "name": "stdout",
          "text": [
            "Requirement already satisfied: ibm-watson-machine-learning in /opt/conda/envs/Python-3.8-main/lib/python3.8/site-packages (1.0.166)\n",
            "Collecting ibm-watson-machine-learning\n",
            "  Downloading ibm_watson_machine_learning-1.0.173-py3-none-any.whl (1.8 MB)\n",
            "\u001b[K     |████████████████████████████████| 1.8 MB 32.8 MB/s eta 0:00:01\n",
            "\u001b[?25hCollecting importlib-resources\n",
            "  Downloading importlib_resources-5.4.0-py3-none-any.whl (28 kB)\n",
            "Requirement already satisfied: urllib3 in /opt/conda/envs/Python-3.8-main/lib/python3.8/site-packages (from ibm-watson-machine-learning) (1.26.6)\n",
            "Requirement already satisfied: requests in /opt/conda/envs/Python-3.8-main/lib/python3.8/site-packages (from ibm-watson-machine-learning) (2.25.1)\n",
            "Requirement already satisfied: pandas<1.3.0,>=0.24.2 in /opt/conda/envs/Python-3.8-main/lib/python3.8/site-packages (from ibm-watson-machine-learning) (1.2.4)\n",
            "Requirement already satisfied: packaging in /opt/conda/envs/Python-3.8-main/lib/python3.8/site-packages (from ibm-watson-machine-learning) (20.9)\n",
            "Requirement already satisfied: tabulate in /opt/conda/envs/Python-3.8-main/lib/python3.8/site-packages (from ibm-watson-machine-learning) (0.8.9)\n",
            "Requirement already satisfied: ibm-cos-sdk==2.7.* in /opt/conda/envs/Python-3.8-main/lib/python3.8/site-packages (from ibm-watson-machine-learning) (2.7.0)\n",
            "Requirement already satisfied: lomond in /opt/conda/envs/Python-3.8-main/lib/python3.8/site-packages (from ibm-watson-machine-learning) (0.3.3)\n",
            "Requirement already satisfied: certifi in /opt/conda/envs/Python-3.8-main/lib/python3.8/site-packages (from ibm-watson-machine-learning) (2021.10.8)\n",
            "Requirement already satisfied: ibm-cos-sdk-core==2.7.0 in /opt/conda/envs/Python-3.8-main/lib/python3.8/site-packages (from ibm-cos-sdk==2.7.*->ibm-watson-machine-learning) (2.7.0)\n",
            "Requirement already satisfied: jmespath<1.0.0,>=0.7.1 in /opt/conda/envs/Python-3.8-main/lib/python3.8/site-packages (from ibm-cos-sdk==2.7.*->ibm-watson-machine-learning) (0.10.0)\n",
            "Requirement already satisfied: ibm-cos-sdk-s3transfer==2.7.0 in /opt/conda/envs/Python-3.8-main/lib/python3.8/site-packages (from ibm-cos-sdk==2.7.*->ibm-watson-machine-learning) (2.7.0)\n",
            "Requirement already satisfied: docutils<0.16,>=0.10 in /opt/conda/envs/Python-3.8-main/lib/python3.8/site-packages (from ibm-cos-sdk-core==2.7.0->ibm-cos-sdk==2.7.*->ibm-watson-machine-learning) (0.15.2)\n",
            "Requirement already satisfied: python-dateutil<3.0.0,>=2.1 in /opt/conda/envs/Python-3.8-main/lib/python3.8/site-packages (from ibm-cos-sdk-core==2.7.0->ibm-cos-sdk==2.7.*->ibm-watson-machine-learning) (2.8.1)\n",
            "Requirement already satisfied: pytz>=2017.3 in /opt/conda/envs/Python-3.8-main/lib/python3.8/site-packages (from pandas<1.3.0,>=0.24.2->ibm-watson-machine-learning) (2021.1)\n",
            "Requirement already satisfied: numpy>=1.16.5 in /opt/conda/envs/Python-3.8-main/lib/python3.8/site-packages (from pandas<1.3.0,>=0.24.2->ibm-watson-machine-learning) (1.19.2)\n",
            "Requirement already satisfied: six>=1.5 in /opt/conda/envs/Python-3.8-main/lib/python3.8/site-packages (from python-dateutil<3.0.0,>=2.1->ibm-cos-sdk-core==2.7.0->ibm-cos-sdk==2.7.*->ibm-watson-machine-learning) (1.15.0)\n",
            "Requirement already satisfied: chardet<5,>=3.0.2 in /opt/conda/envs/Python-3.8-main/lib/python3.8/site-packages (from requests->ibm-watson-machine-learning) (3.0.4)\n",
            "Requirement already satisfied: idna<3,>=2.5 in /opt/conda/envs/Python-3.8-main/lib/python3.8/site-packages (from requests->ibm-watson-machine-learning) (2.8)\n",
            "Requirement already satisfied: zipp>=3.1.0 in /opt/conda/envs/Python-3.8-main/lib/python3.8/site-packages (from importlib-resources->ibm-watson-machine-learning) (3.4.1)\n",
            "Requirement already satisfied: pyparsing>=2.0.2 in /opt/conda/envs/Python-3.8-main/lib/python3.8/site-packages (from packaging->ibm-watson-machine-learning) (2.4.7)\n",
            "Installing collected packages: importlib-resources, ibm-watson-machine-learning\n",
            "  Attempting uninstall: ibm-watson-machine-learning\n",
            "    Found existing installation: ibm-watson-machine-learning 1.0.166\n",
            "    Uninstalling ibm-watson-machine-learning-1.0.166:\n",
            "      Successfully uninstalled ibm-watson-machine-learning-1.0.166\n",
            "Successfully installed ibm-watson-machine-learning-1.0.173 importlib-resources-5.4.0\n"
          ]
        }
      ],
      "metadata": {
        "colab": {
          "base_uri": "https://localhost:8080/"
        },
        "id": "fT--t_AlN2Zm",
        "outputId": "7290e5b6-dff0-4bad-eab7-89770f1de25f"
      }
    },
    {
      "cell_type": "code",
      "execution_count": null,
      "source": [
        "from ibm_watson_machine_learning import APIClient"
      ],
      "outputs": [],
      "metadata": {
        "id": "2ltx0H8jN2Zm"
      }
    },
    {
      "cell_type": "markdown",
      "source": [
        "Si aún no lo ha creado, cree un servicio de Machine Learning aquí https://cloud.ibm.com/catalog/services/machine-learning.\n",
        "\n",
        "Ingresa tus credenciales para el servicio en la celda a continuación.\n",
        "\n",
        "En `location`, ingresa el ID de la región donde se encuentra su servicio de WML instanciado, de acuerdo con las posibilidades de abajo:\n",
        "\n",
        "-\tDallas - `us-south`\n",
        "-\tLondon - `eu-gb`\n",
        "-\tFrankfurt - `eu-de`\n",
        "-\tTokyo - `jp-tok`\n",
        "\n",
        "Para la API key, generela aqui: https://cloud.ibm.com/iam/apikeys. No la compartas con nadie! Una API key da acesso a su cuenta de IBM Cloud."
      ],
      "metadata": {
        "id": "o-_dXPlWN2Zn"
      }
    },
    {
      "cell_type": "code",
      "execution_count": null,
      "source": [
        "api_key = ''\n",
        "location = 'us-south' # En caso de WML estar en una región diferente, altere esta linea\n",
        "\n",
        "wml_credentials = {\n",
        "    \"apikey\": api_key,\n",
        "    \"url\": 'https://' + location + '.ml.cloud.ibm.com'\n",
        "}\n",
        "\n",
        "client = APIClient(wml_credentials)"
      ],
      "outputs": [],
      "metadata": {
        "id": "eNu0DBz6N2Zn"
      }
    },
    {
      "cell_type": "markdown",
      "source": [
        "Crea un espacio para guardar tu modelo. Puedes crearlo aqui: https://dataplatform.cloud.ibm.com/ml-runtime/spaces?context=cpdaas\n",
        "\n",
        "Cuando crees tu espacio, **asocia la instancia de tu servicio de WML al espacio!** Sin asociar, no conseguiras efectuar el deploy."
      ],
      "metadata": {
        "id": "YCnzxOJwN2Zn"
      }
    },
    {
      "cell_type": "code",
      "execution_count": null,
      "source": [
        "# Lista espacios creados en su instancia de WML\n",
        "client.spaces.list(limit=10)"
      ],
      "outputs": [],
      "metadata": {
        "id": "zTvmNEyFN2Zn",
        "outputId": "fe593150-e1bc-4388-d7c8-55fc5ca5a9c2"
      }
    },
    {
      "cell_type": "markdown",
      "source": [
        "Copia el ID de tu espacio creado para el desafío y pégualo a continuación para usarlo. Deberías ver el mensaje 'SUCCESS' si el espacio está configurado correctamente."
      ],
      "metadata": {
        "id": "4xtZP3sCN2Zn"
      }
    },
    {
      "cell_type": "code",
      "execution_count": null,
      "source": [
        "space_id = ''\n",
        "client.set.default_space(space_id)"
      ],
      "outputs": [],
      "metadata": {
        "id": "3kfpI885N2Zo",
        "outputId": "89b4161b-eb0d-439a-9c89-0df4ddda9479"
      }
    },
    {
      "cell_type": "markdown",
      "source": [
        "## Utilización de Pipeline dentro de Watson Machine Learning (WML)\n",
        "\n",
        "Para utilizar un Pipeline en WML con transformadores customizados, son necesarios algunos pasos adicionales:\n",
        "\n",
        "1.\tCrea un paquete en Python que contenga el transformador personalizado.\n",
        "2.\tCarga ese paquete con el transformador en un repositório en WML;\n",
        "3.\tCrea una especificación de software, con este paquete personalizado, que se utilizará como tiempo de ejecución del modelo en WML.\n",
        "\n",
        "Como exemplo, vamos utilizar un paquete ya listo, disponible aqui: https://github.com/vnderlev/watson-sklearn-transforms. Para configurar un paquete de Python, son necesarios algunos otros archivos, pero la lógica del transformador creado se encuentra en [este archivo](https://github.com/vnderlev/watson-sklearn-transforms/blob/master/my_custom_sklearn_transforms/sklearn_transformers.py). En este caso, este es el mismo transformador que definimos aquí, excluirá del conjunto de datos las columnas pasadas como parámetros en su inicialización.\n",
        "\n",
        "Abajo, vamos a bajar este paquete de GitHub e instalarlo en Python."
      ],
      "metadata": {
        "id": "PclKbAdjN2Zo"
      }
    },
    {
      "cell_type": "code",
      "execution_count": null,
      "source": [
        "!rm -rf d1 # Remover carpeta en caso de que ya exista\n",
        "!git clone https://github.com/asperduti/d1 # Clonar el repositório con el pacote\n",
        "!zip -r watson-sklearn-transforms.zip d1 # Zippear el paquete\n",
        "!pip install watson-sklearn-transforms.zip # Instalar el paquete zippeado\n"
      ],
      "outputs": [
        {
          "output_type": "stream",
          "name": "stdout",
          "text": [
            "Cloning into 'd1'...\n",
            "remote: Enumerating objects: 66, done.\u001b[K\n",
            "remote: Counting objects: 100% (66/66), done.\u001b[K\n",
            "remote: Compressing objects: 100% (30/30), done.\u001b[K\n",
            "remote: Total 66 (delta 30), reused 66 (delta 30), pack-reused 0\u001b[K\n",
            "Unpacking objects: 100% (66/66), 11.07 KiB | 666.00 KiB/s, done.\n",
            "updating: d1/ (stored 0%)\n",
            "updating: d1/setup.cfg (deflated 16%)\n",
            "updating: d1/setup.py (deflated 45%)\n",
            "updating: d1/my_custom_sklearn_transforms.egg-info/ (stored 0%)\n",
            "updating: d1/my_custom_sklearn_transforms.egg-info/SOURCES.txt (deflated 48%)\n",
            "updating: d1/my_custom_sklearn_transforms.egg-info/not-zip-safe (stored 0%)\n",
            "updating: d1/my_custom_sklearn_transforms.egg-info/dependency_links.txt (stored 0%)\n",
            "updating: d1/my_custom_sklearn_transforms.egg-info/PKG-INFO (deflated 30%)\n",
            "updating: d1/my_custom_sklearn_transforms.egg-info/top_level.txt (stored 0%)\n",
            "updating: d1/my_custom_sklearn_transforms/ (stored 0%)\n",
            "updating: d1/my_custom_sklearn_transforms/sklearn_transformers.py (deflated 69%)\n",
            "updating: d1/my_custom_sklearn_transforms/__init__.py (stored 0%)\n",
            "updating: d1/PKG-INFO (deflated 30%)\n",
            "updating: d1/README.md (deflated 15%)\n",
            "updating: d1/.git/ (stored 0%)\n",
            "updating: d1/.git/HEAD (stored 0%)\n",
            "updating: d1/.git/refs/ (stored 0%)\n",
            "updating: d1/.git/refs/heads/ (stored 0%)\n",
            "updating: d1/.git/refs/heads/master (stored 0%)\n",
            "updating: d1/.git/refs/remotes/ (stored 0%)\n",
            "updating: d1/.git/refs/remotes/origin/ (stored 0%)\n",
            "updating: d1/.git/refs/remotes/origin/HEAD (stored 0%)\n",
            "updating: d1/.git/refs/tags/ (stored 0%)\n",
            "updating: d1/.git/branches/ (stored 0%)\n",
            "updating: d1/.git/hooks/ (stored 0%)\n",
            "updating: d1/.git/hooks/commit-msg.sample (deflated 44%)\n",
            "updating: d1/.git/hooks/applypatch-msg.sample (deflated 42%)\n",
            "updating: d1/.git/hooks/pre-commit.sample (deflated 45%)\n",
            "updating: d1/.git/hooks/post-update.sample (deflated 27%)\n",
            "updating: d1/.git/hooks/pre-merge-commit.sample (deflated 39%)\n",
            "updating: d1/.git/hooks/fsmonitor-watchman.sample (deflated 62%)\n",
            "updating: d1/.git/hooks/prepare-commit-msg.sample (deflated 50%)\n",
            "updating: d1/.git/hooks/pre-applypatch.sample (deflated 38%)\n",
            "updating: d1/.git/hooks/pre-rebase.sample (deflated 59%)\n",
            "updating: d1/.git/hooks/update.sample (deflated 69%)\n",
            "updating: d1/.git/hooks/pre-receive.sample (deflated 40%)\n",
            "updating: d1/.git/hooks/pre-push.sample (deflated 50%)\n",
            "updating: d1/.git/config (deflated 34%)\n",
            "updating: d1/.git/info/ (stored 0%)\n",
            "updating: d1/.git/info/exclude (deflated 28%)\n",
            "updating: d1/.git/index (deflated 53%)\n",
            "updating: d1/.git/logs/ (stored 0%)\n",
            "updating: d1/.git/logs/HEAD (deflated 28%)\n",
            "updating: d1/.git/logs/refs/ (stored 0%)\n",
            "updating: d1/.git/logs/refs/heads/ (stored 0%)\n",
            "updating: d1/.git/logs/refs/heads/master (deflated 28%)\n",
            "updating: d1/.git/logs/refs/remotes/ (stored 0%)\n",
            "updating: d1/.git/logs/refs/remotes/origin/ (stored 0%)\n",
            "updating: d1/.git/logs/refs/remotes/origin/HEAD (deflated 28%)\n",
            "updating: d1/.git/description (deflated 14%)\n",
            "updating: d1/.git/objects/ (stored 0%)\n",
            "updating: d1/.git/objects/7e/ (stored 0%)\n",
            "updating: d1/.git/objects/7e/ae3d08dc940e367e3c1e2ac7a35a8b00df2e12 (stored 0%)\n",
            "updating: d1/.git/objects/da/ (stored 0%)\n",
            "updating: d1/.git/objects/da/64b79708ea475e8c6b484d837676ce91d9801e (stored 0%)\n",
            "updating: d1/.git/objects/8b/ (stored 0%)\n",
            "updating: d1/.git/objects/8b/137891791fe96927ad78e64b0aad7bded08bdc (stored 0%)\n",
            "updating: d1/.git/objects/1c/ (stored 0%)\n",
            "updating: d1/.git/objects/1c/49d4656922fe1182c905339ec7a468e6881d99 (stored 0%)\n",
            "updating: d1/.git/objects/d9/ (stored 0%)\n",
            "updating: d1/.git/objects/d9/6008ecb6c37539132be7ead04a0968a4020438 (stored 0%)\n",
            "updating: d1/.git/objects/2e/ (stored 0%)\n",
            "updating: d1/.git/objects/2e/2e5168d3c37ccbaeb3b899da3f30fb6bc70031 (stored 0%)\n",
            "updating: d1/.git/objects/34/ (stored 0%)\n",
            "updating: d1/.git/objects/34/b2b6502941464c9cb751c2c5fac1e2a3cfa58c (stored 0%)\n",
            "updating: d1/.git/objects/70/ (stored 0%)\n",
            "updating: d1/.git/objects/70/c1660450550973f92c571a87fb225f0e47aa6f (stored 0%)\n",
            "updating: d1/.git/objects/d3/ (stored 0%)\n",
            "updating: d1/.git/objects/d3/697484c118054fc68a13eaac93c2f93536b77e (stored 0%)\n",
            "updating: d1/.git/objects/04/ (stored 0%)\n",
            "updating: d1/.git/objects/04/b1ff2d79c9b11a1d494b6f6d42acb629236af4 (stored 0%)\n",
            "updating: d1/.git/objects/e8/ (stored 0%)\n",
            "updating: d1/.git/objects/e8/8e9a7c9bc5a570d097ba4001ea0c327cba6f0a (stored 0%)\n",
            "updating: d1/.git/objects/d0/ (stored 0%)\n",
            "updating: d1/.git/objects/d0/4d8adf3dbf886c5799f7f367168b0785f0a4f5 (stored 0%)\n",
            "updating: d1/.git/objects/80/ (stored 0%)\n",
            "updating: d1/.git/objects/80/b20e55b5f52a87b7769e08df221e07d9cc0f3a (stored 0%)\n",
            "updating: d1/.git/objects/2f/ (stored 0%)\n",
            "updating: d1/.git/objects/2f/ab3357d7d157a7a6bbda08aad6cf19970d2cc3 (stored 0%)\n",
            "updating: d1/.git/objects/5a/ (stored 0%)\n",
            "updating: d1/.git/objects/5a/b47e5cada9bcefbd66782d50edf2a86005dcb5 (stored 0%)\n",
            "updating: d1/.git/objects/52/ (stored 0%)\n",
            "updating: d1/.git/objects/52/6fb1c4f5a0d3a2482041c7bd3f15263837acf5 (stored 0%)\n",
            "updating: d1/.git/objects/c6/ (stored 0%)\n",
            "updating: d1/.git/objects/c6/4e501fc43c00861aa7ccae744058ba87c304fd (stored 0%)\n",
            "updating: d1/.git/objects/aa/ (stored 0%)\n",
            "updating: d1/.git/objects/aa/1db9544c86800c5018cb8f28d1e74fbd192991 (stored 0%)\n",
            "updating: d1/.git/objects/9b/ (stored 0%)\n",
            "updating: d1/.git/objects/9b/9fe6ce4d68c31dfc1eb7e923e5c90b0595b24d (stored 0%)\n",
            "updating: d1/.git/objects/82/ (stored 0%)\n",
            "updating: d1/.git/objects/82/e0b0b52c39cd1840e7853e6d00986fae5683f4 (stored 0%)\n",
            "updating: d1/.git/objects/bc/ (stored 0%)\n",
            "updating: d1/.git/objects/bc/bd8f17177cd1afe8396315d2039283fa993390 (stored 0%)\n",
            "updating: d1/.git/objects/bc/a817006f92d9e390374c1ed6467fad5ff7bab0 (stored 0%)\n",
            "updating: d1/.git/objects/26/ (stored 0%)\n",
            "updating: d1/.git/objects/26/3abe321ee224139817e2325d5c91ac8f0eed50 (stored 0%)\n",
            "updating: d1/.git/objects/4e/ (stored 0%)\n",
            "updating: d1/.git/objects/4e/9a373d7cbc2ae44a4ba253922d463f35cf069e (stored 0%)\n",
            "updating: d1/.git/objects/05/ (stored 0%)\n",
            "updating: d1/.git/objects/05/6cab60f81eb62f20ffd3cab59b6d232f0188e9 (stored 0%)\n",
            "updating: d1/.git/objects/c0/ (stored 0%)\n",
            "updating: d1/.git/objects/c0/e12da6a090fe6b2740d0cbfa7119915a00a643 (stored 0%)\n",
            "updating: d1/.git/objects/39/ (stored 0%)\n",
            "updating: d1/.git/objects/39/ccfbaf81e116c9eb9781c7cd0b7acdd5ad10aa (stored 0%)\n",
            "updating: d1/.git/objects/39/d4d3fd1cc23783dbadb2d673f3758863106854 (stored 0%)\n",
            "updating: d1/.git/objects/99/ (stored 0%)\n",
            "updating: d1/.git/objects/99/bde3a281e0a208866b47dcde00a4e4cd8afca0 (stored 0%)\n",
            "updating: d1/.git/objects/0e/ (stored 0%)\n",
            "updating: d1/.git/objects/0e/cc61a0a4baff0885426f45a8fcb9fbb78f8009 (stored 0%)\n",
            "updating: d1/.git/objects/24/ (stored 0%)\n",
            "updating: d1/.git/objects/24/7b371c9092731e07412dc5286126ed3a18756a (stored 0%)\n",
            "updating: d1/.git/objects/b2/ (stored 0%)\n",
            "updating: d1/.git/objects/b2/67717c62fab348d1e440e41462bc3b61502cf5 (stored 0%)\n",
            "updating: d1/.git/objects/af/ (stored 0%)\n",
            "updating: d1/.git/objects/af/1140cfcb4e33bc03d9b067c1f7d70147d043d7 (stored 0%)\n",
            "updating: d1/.git/objects/1e/ (stored 0%)\n",
            "updating: d1/.git/objects/1e/1e45038dfc30ed50e6d081ec85e8a3fdfb8913 (stored 0%)\n",
            "updating: d1/.git/objects/2c/ (stored 0%)\n",
            "updating: d1/.git/objects/2c/de64a17098cba673b28c995910b268f5e34e7a (stored 0%)\n",
            "updating: d1/.git/objects/2c/c7a6bf2941a9d553a199a4fe658f0074a54b51 (stored 0%)\n",
            "updating: d1/.git/objects/f5/ (stored 0%)\n",
            "updating: d1/.git/objects/f5/c8699d5877b6900a303787a488f96719dfcad2 (stored 0%)\n",
            "updating: d1/.git/objects/58/ (stored 0%)\n",
            "updating: d1/.git/objects/58/25ba31fa0c00d63a9dc9865e0c848442a6fbcd (stored 0%)\n",
            "updating: d1/.git/objects/21/ (stored 0%)\n",
            "updating: d1/.git/objects/21/64a6e4b4ca3afc26c4b21982d433c8c54039a1 (stored 0%)\n",
            "updating: d1/.git/objects/info/ (stored 0%)\n",
            "updating: d1/.git/objects/06/ (stored 0%)\n",
            "updating: d1/.git/objects/06/998ae152d5b5fad89c81a6853dbbc0830fd6c7 (stored 0%)\n",
            "updating: d1/.git/objects/e6/ (stored 0%)\n",
            "updating: d1/.git/objects/e6/9de29bb2d1d6434b8b29ae775ad8c2e48c5391 (stored 0%)\n",
            "updating: d1/.git/objects/ee/ (stored 0%)\n",
            "updating: d1/.git/objects/ee/96aaec3459bae7b27b49e17f867db49c3257a8 (stored 0%)\n",
            "updating: d1/.git/objects/54/ (stored 0%)\n",
            "updating: d1/.git/objects/54/5d0fb908f733cd9eed69b0004a2dfeb33b5c48 (stored 0%)\n",
            "updating: d1/.git/objects/54/a860e717a464beb16bcb21419ab86f8351fbf0 (stored 0%)\n",
            "updating: d1/.git/objects/fc/ (stored 0%)\n",
            "updating: d1/.git/objects/fc/4ddfabf44f2c229f4f9a6c32fff546b3df3f21 (stored 0%)\n",
            "updating: d1/.git/objects/pack/ (stored 0%)\n",
            "updating: d1/.git/objects/1b/ (stored 0%)\n",
            "updating: d1/.git/objects/1b/9e7f9e69d0cac5283f551433cdaf8e65199698 (stored 0%)\n",
            "updating: d1/.git/objects/61/ (stored 0%)\n",
            "updating: d1/.git/objects/61/e62b4f1623878ae0d92ffa812570be417feb82 (stored 0%)\n",
            "updating: d1/.git/objects/b6/ (stored 0%)\n",
            "updating: d1/.git/objects/b6/979f3149443c66198e505c1e761f2766b4ea35 (stored 0%)\n",
            "updating: d1/.git/objects/46/ (stored 0%)\n",
            "updating: d1/.git/objects/46/862abd9b50e51c99a1f65be820af360594f8c2 (stored 0%)\n",
            "updating: d1/.git/objects/29/ (stored 0%)\n",
            "updating: d1/.git/objects/29/c65b6319ccd5b1c7da36655bb0c44e09fff991 (stored 0%)\n",
            "updating: d1/.git/objects/29/ffc1c2af8fa4b0ef5eef0ba4fdc441915d1a91 (stored 0%)\n",
            "updating: d1/.git/objects/8c/ (stored 0%)\n",
            "updating: d1/.git/objects/8c/46dcca21d6dd2c23afb4a858d2b77d56bbf050 (stored 0%)\n",
            "updating: d1/.git/objects/8c/d09104c54f140d61a6e9fa6c2142d4565ee302 (stored 0%)\n",
            "updating: d1/.git/objects/f9/ (stored 0%)\n",
            "updating: d1/.git/objects/f9/842759dbd395649399f47479175e044b6b40ae (stored 0%)\n",
            "updating: d1/.git/objects/77/ (stored 0%)\n",
            "updating: d1/.git/objects/77/7798a7cedea3a2fddef8dd0b7691c9b1f9f97b (stored 0%)\n",
            "updating: d1/.git/objects/cb/ (stored 0%)\n",
            "updating: d1/.git/objects/cb/d827fdd178a26f42d8b01c58320b03f3eae7fa (stored 0%)\n",
            "updating: d1/.git/objects/85/ (stored 0%)\n",
            "updating: d1/.git/objects/85/bd34a4ae5f5c965a082a26b38a3268a662ae2b (stored 0%)\n",
            "updating: d1/.git/objects/a0/ (stored 0%)\n",
            "updating: d1/.git/objects/a0/3066ce73d15efd1cc6449dea7e2b678089edd6 (stored 0%)\n",
            "updating: d1/.git/objects/d7/ (stored 0%)\n",
            "updating: d1/.git/objects/d7/cfed1a9cf21930beb933ecafb2e3d4d3a77874 (stored 0%)\n",
            "updating: d1/.git/objects/6a/ (stored 0%)\n",
            "updating: d1/.git/objects/6a/3c980900b1ce8383ed0fd1cbcb9195d582cf4e (stored 0%)\n",
            "updating: d1/.git/objects/22/ (stored 0%)\n",
            "updating: d1/.git/objects/22/2e658014f5f2a43e16ce3c5e896e00fef1f3d5 (stored 0%)\n",
            "updating: d1/.git/objects/cc/ (stored 0%)\n",
            "updating: d1/.git/objects/cc/fdab500390127d0490aaf9ee369565b05c41b4 (stored 0%)\n",
            "updating: d1/.git/objects/c4/ (stored 0%)\n",
            "updating: d1/.git/objects/c4/b90bb9bfb2674c96e6d8aa6cc3c8e58194f953 (stored 0%)\n",
            "updating: d1/.git/objects/7b/ (stored 0%)\n",
            "updating: d1/.git/objects/7b/04014fbd820cb0146dcec7965f01f304436510 (stored 0%)\n",
            "updating: d1/.git/objects/f2/ (stored 0%)\n",
            "updating: d1/.git/objects/f2/598626ccd27c586d5b759e5186abc64c058912 (stored 0%)\n",
            "updating: d1/.git/objects/c3/ (stored 0%)\n",
            "updating: d1/.git/objects/c3/9f70251de841c8e55e9c58d2fa7dbbe2d2fb0f (stored 0%)\n",
            "updating: d1/.git/packed-refs (deflated 10%)\n",
            "Processing ./watson-sklearn-transforms.zip\n",
            "Building wheels for collected packages: my-custom-sklearn-transforms\n",
            "  Building wheel for my-custom-sklearn-transforms (setup.py) ... \u001b[?25ldone\n",
            "\u001b[?25h  Created wheel for my-custom-sklearn-transforms: filename=my_custom_sklearn_transforms-1.0-py3-none-any.whl size=2518 sha256=665cd9c3870d8227402830a9a621fb04aae75c9693591acb2da644d48584412e\n",
            "  Stored in directory: /tmp/wsuser/.cache/pip/wheels/bb/f9/3d/ef9b1007ce91932af75a03496ac9a6bb45bc15fd393d433b55\n",
            "Successfully built my-custom-sklearn-transforms\n",
            "Installing collected packages: my-custom-sklearn-transforms\n",
            "  Attempting uninstall: my-custom-sklearn-transforms\n",
            "    Found existing installation: my-custom-sklearn-transforms 1.0\n",
            "    Uninstalling my-custom-sklearn-transforms-1.0:\n",
            "      Successfully uninstalled my-custom-sklearn-transforms-1.0\n",
            "Successfully installed my-custom-sklearn-transforms-1.0\n"
          ]
        }
      ],
      "metadata": {
        "id": "hIjauLpYN2Zp",
        "outputId": "a58bd1d5-c1aa-4f8a-a069-f399367affab"
      }
    },
    {
      "cell_type": "markdown",
      "source": [
        "Vamos ahora a recrear nuestro Pipeline utilizando este paquete instalado."
      ],
      "metadata": {
        "id": "xXUL0ojFN2Zp"
      }
    },
    {
      "cell_type": "code",
      "execution_count": 35,
      "source": [
        "#from my_custom_sklearn_transforms.sklearn_transformers import FixerDesafio1\n",
        "\n",
        "model = XGBClassifier()\n",
        "\n",
        "fixer = FixerDesafio1()\n",
        "\n",
        "# Creando un Pipeline, adicionando nuestro transformador seguido de un modelo de árbol de decisión\n",
        "skl_pipeline = Pipeline(steps=[\n",
        "                               ('fixer', fixer),\n",
        "                               ('preprocessor', preprocessor),\n",
        "                               ('classification', model)\n",
        "                               ]\n",
        "                        )\n",
        "\n",
        "\n",
        "skl_pipeline.fit(X, y)"
      ],
      "outputs": [
        {
          "output_type": "stream",
          "name": "stderr",
          "text": [
            "/usr/local/lib/python3.7/dist-packages/sklearn/preprocessing/_label.py:98: DataConversionWarning: A column-vector y was passed when a 1d array was expected. Please change the shape of y to (n_samples, ), for example using ravel().\n",
            "  y = column_or_1d(y, warn=True)\n",
            "/usr/local/lib/python3.7/dist-packages/sklearn/preprocessing/_label.py:133: DataConversionWarning: A column-vector y was passed when a 1d array was expected. Please change the shape of y to (n_samples, ), for example using ravel().\n",
            "  y = column_or_1d(y, warn=True)\n"
          ]
        },
        {
          "output_type": "execute_result",
          "data": {
            "text/plain": [
              "Pipeline(steps=[('fixer', FixerDesafio1()),\n",
              "                ('preprocessor',\n",
              "                 ColumnTransformer(transformers=[('cat',\n",
              "                                                  Pipeline(steps=[('imputer',\n",
              "                                                                   SimpleImputer(strategy='most_frequent')),\n",
              "                                                                  ('encoder',\n",
              "                                                                   OneHotEncoder(handle_unknown='ignore',\n",
              "                                                                                 sparse=False))]),\n",
              "                                                  ['PROPERTY', 'CREDIT_HISTORY',\n",
              "                                                   'LOAN_PURPOSE',\n",
              "                                                   'OTHERS_ON_LOAN',\n",
              "                                                   'BALANCE_CHECKING',\n",
              "                                                   'DINERO_DISPONIBLE',\n",
              "                                                   'INSTALLMENT_PLANS'...\n",
              "                                                  Pipeline(steps=[('imputer',\n",
              "                                                                   SimpleImputer())]),\n",
              "                                                  ['AGE', 'EMPLOYMENT_DURATION',\n",
              "                                                   'CURRENT_RESIDENCE_DURATION',\n",
              "                                                   'PAYMENT_TERM']),\n",
              "                                                 ('ord',\n",
              "                                                  Pipeline(steps=[('imputer',\n",
              "                                                                   SimpleImputer(strategy='most_frequent')),\n",
              "                                                                  ('encoder',\n",
              "                                                                   OneHotEncoder(handle_unknown='ignore',\n",
              "                                                                                 sparse=False))]),\n",
              "                                                  ['DEPENDENTS',\n",
              "                                                   'EXISTING_CREDITS_COUNT',\n",
              "                                                   'INSTALLMENT_PERCENT'])])),\n",
              "                ('classification', XGBClassifier())])"
            ]
          },
          "metadata": {},
          "execution_count": 35
        }
      ],
      "metadata": {
        "id": "ZPusBHkON2Zr",
        "colab": {
          "base_uri": "https://localhost:8080/"
        },
        "outputId": "358b2b82-3b70-4f5c-b061-e31606d184d8"
      }
    },
    {
      "cell_type": "markdown",
      "source": [
        "Vamos ahora a subir el transformador customizado que bajamos para WML."
      ],
      "metadata": {
        "id": "Tm_F9foON2Zu"
      }
    },
    {
      "cell_type": "code",
      "execution_count": null,
      "source": [
        "# Metadatos para el paquete customizado\n",
        "meta_prop_pkg_extn = {\n",
        "    client.package_extensions.ConfigurationMetaNames.NAME: \"FixerDesafio1\",\n",
        "    client.package_extensions.ConfigurationMetaNames.DESCRIPTION: \"Extensión para fixear columnas de Desafio1_2021\",\n",
        "    client.package_extensions.ConfigurationMetaNames.TYPE: \"pip_zip\"\n",
        "}\n",
        "\n",
        "# Subir el paquete\n",
        "pkg_extn_details = client.package_extensions.store(meta_props=meta_prop_pkg_extn, file_path=\"watson-sklearn-transforms.zip\")\n",
        "\n",
        "# Guardar las informaciones sobre el paquete\n",
        "pkg_extn_uid = client.package_extensions.get_uid(pkg_extn_details)\n",
        "pkg_extn_url = client.package_extensions.get_href(pkg_extn_details)"
      ],
      "outputs": [],
      "metadata": {
        "id": "0Bat4O8oN2Zu",
        "outputId": "140ff8e4-14ce-4983-d2f0-c90085263700"
      }
    },
    {
      "cell_type": "markdown",
      "source": [
        "Ahora creemos una especificación de software con nuestro paquete personalizado para que lo use WML. Si estás utilizando un software que no sea `Python 3.8` o una biblioteca que no sea `scikit-learn`, puedes consultar la lista de especificaciones de software compatibles con WML: https://dataplatform.cloud.ibm.com/docs/content/wsj/wmls/wmls-deploy-python-types.html?context=analytics&audience=wdp"
      ],
      "metadata": {
        "id": "_gjdimRMN2Zv"
      }
    },
    {
      "cell_type": "code",
      "execution_count": null,
      "source": [
        "base_sw_spec_uid = client.software_specifications.get_uid_by_name(\"default_py3.8\")\n",
        "\n",
        "# Si desea utilizar un software que no sea Python 3.8 como base, eche un vistazo a los disponibles con la línea a continuación\n",
        "# client.software_specifications.list(limit=100)"
      ],
      "outputs": [],
      "metadata": {
        "id": "zkQqP9_uN2Zv"
      }
    },
    {
      "cell_type": "code",
      "execution_count": null,
      "source": [
        "# Metadatos de la nueva especificación de software\n",
        "meta_prop_sw_spec = {\n",
        "    client.software_specifications.ConfigurationMetaNames.NAME: \"sw_spec_fixer_desafio1\",\n",
        "    client.software_specifications.ConfigurationMetaNames.DESCRIPTION: \"Software specification for FixerDesafio1\",\n",
        "    client.software_specifications.ConfigurationMetaNames.BASE_SOFTWARE_SPECIFICATION: {\"guid\": base_sw_spec_uid}\n",
        "}\n",
        "\n",
        "# Creando la nueva especificacion de software y obteniendo su ID\n",
        "sw_spec_details = client.software_specifications.store(meta_props=meta_prop_sw_spec)\n",
        "sw_spec_uid = client.software_specifications.get_uid(sw_spec_details)\n",
        "\n",
        "# Agregar el paquete personalizado a la nueva especificación\n",
        "client.software_specifications.add_package_extension(sw_spec_uid, pkg_extn_uid)"
      ],
      "outputs": [],
      "metadata": {
        "id": "j6a77zI5N2Zw",
        "outputId": "015c36f5-066e-4792-aa5b-d682e50dd37b"
      }
    },
    {
      "cell_type": "markdown",
      "source": [
        "Finalmente, vamos a publicar el pipeline utilizando la especificación de software customizada que creamos."
      ],
      "metadata": {
        "id": "x4DmfWNeN2Zy"
      }
    },
    {
      "cell_type": "code",
      "execution_count": null,
      "source": [
        "# Metadatos del modelo\n",
        "model_props = {\n",
        "    client.repository.ModelMetaNames.NAME: \"Modelo com Pipeline customizada\",\n",
        "    client.repository.ModelMetaNames.TYPE: 'scikit-learn_0.23',\n",
        "    client.repository.ModelMetaNames.SOFTWARE_SPEC_UID: sw_spec_uid\n",
        "}\n",
        "\n",
        "# Publicando el Pipeline como um modelo\n",
        "published_model = client.repository.store_model(model=skl_pipeline, meta_props=model_props)\n",
        "published_model_uid = client.repository.get_model_uid(published_model)\n",
        "client.repository.get_details(published_model_uid)"
      ],
      "outputs": [],
      "metadata": {
        "id": "EaMBn-oaN2Zy",
        "outputId": "3e4ac014-6835-4be2-cf49-fd7e615b7684"
      }
    },
    {
      "cell_type": "markdown",
      "source": [
        "Su modelo ahora está guardado. Vamos ahora a dejarlo disponible online, para que podamos testearlo:"
      ],
      "metadata": {
        "id": "9SPcRCUjN2Zy"
      }
    },
    {
      "cell_type": "code",
      "execution_count": null,
      "source": [
        "# Metadatos para publicación del modelo\n",
        "metadata = {\n",
        "    client.deployments.ConfigurationMetaNames.NAME: \"Publicación de modelo customizado\",\n",
        "    client.deployments.ConfigurationMetaNames.ONLINE: {}\n",
        "}\n",
        "\n",
        "# Publicar\n",
        "created_deployment = client.deployments.create(published_model_uid, meta_props=metadata)"
      ],
      "outputs": [],
      "metadata": {
        "id": "FCRpHzLWN2Zz",
        "outputId": "a2a74b50-9c5c-4baa-afff-abdfba419b3b"
      }
    },
    {
      "cell_type": "markdown",
      "source": [
        "## Felicitaciones!\n",
        "\n",
        "Su modelo está ahora publicado. Cuando este listo para enviar el desafio, puedes acceder a https://maratona.dev/challenge/1, y utilizar las credenciales abajo para realizar la entrega. Recuerda revisar todas las instrucciones en el [README](https://github.com/maratonadev/desafio-1-2021) antes de entregar!"
      ],
      "metadata": {
        "id": "uPAxB4pdN2Zz"
      }
    },
    {
      "cell_type": "code",
      "execution_count": null,
      "source": [
        "deployment_uid = client.deployments.get_uid(created_deployment)\n",
        "\n",
        "print(f\"Credenciales para el envio (no compartir estos datos con nadie!)\\n\\nAPI key: {api_key}\\nDeployment ID: {deployment_uid}\")"
      ],
      "outputs": [],
      "metadata": {
        "id": "TjuChUCAN2Zz",
        "outputId": "869d0a82-0462-4d50-a7d9-2ae90c9c49a6"
      }
    }
  ]
}