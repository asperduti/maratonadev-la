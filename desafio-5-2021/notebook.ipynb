{
  "cells": [
    {
      "cell_type": "markdown",
      "metadata": {
        "id": "s3Uptp2Ty5_d"
      },
      "source": [
        "# MARATÓN BEHIND THE CODE 2021\n",
        "\n",
        "# Desafío 05 - Predicción de pérdida de cliente (Churn) | SONDA\n",
        "\n",
        "El desafío es un problema común en el campo de la ciencia de datos. Un cliente expone un problema específico en su área y mediante su análisis encuentra una posible solución. Un cliente del área de Telecomunicaciones reportó un problema de pérdida de cliente (Churn) y le gustaría poder identificar esta posible pérdida antes de que ocurra, utilizando inteligencia artificial.\n",
        "<hr>\n"
      ]
    },
    {
      "cell_type": "markdown",
      "metadata": {
        "id": "tQw8rJSR-Ivr"
      },
      "source": [
        "## Exploración de los datos\n"
      ]
    },
    {
      "cell_type": "code",
      "execution_count": 1,
      "metadata": {
        "id": "Yz9wERNeR7WK"
      },
      "outputs": [],
      "source": [
        "import pandas as pd\n",
        "import matplotlib.pyplot as plt\n",
        "import seaborn as sns"
      ]
    },
    {
      "cell_type": "code",
      "execution_count": 2,
      "metadata": {
        "colab": {
          "base_uri": "https://localhost:8080/"
        },
        "id": "EBNHWC27R6sH",
        "outputId": "95524206-1c67-45c6-d8b0-ceb24841ed0a"
      },
      "outputs": [
        {
          "output_type": "stream",
          "name": "stdout",
          "text": [
            "--2021-12-11 04:17:34--  https://raw.githubusercontent.com/maratonadev/desafio-5-2021/main/assets/data/dataset.csv\n",
            "Resolving raw.githubusercontent.com (raw.githubusercontent.com)... 185.199.108.133, 185.199.109.133, 185.199.110.133, ...\n",
            "Connecting to raw.githubusercontent.com (raw.githubusercontent.com)|185.199.108.133|:443... connected.\n",
            "HTTP request sent, awaiting response... 200 OK\n",
            "Length: 622307 (608K) [text/plain]\n",
            "Saving to: ‘dataset.csv’\n",
            "\n",
            "dataset.csv         100%[===================>] 607.72K  --.-KB/s    in 0.04s   \n",
            "\n",
            "2021-12-11 04:17:34 (13.5 MB/s) - ‘dataset.csv’ saved [622307/622307]\n",
            "\n"
          ]
        }
      ],
      "source": [
        "# Cargue aqui el dataset\n",
        "!wget --no-check-certificate --content-disposition https://raw.githubusercontent.com/maratonadev/desafio-5-2021/main/assets/data/dataset.csv\n",
        "df = pd.read_csv(r'dataset.csv')"
      ]
    },
    {
      "cell_type": "code",
      "execution_count": 3,
      "metadata": {
        "colab": {
          "base_uri": "https://localhost:8080/",
          "height": 313
        },
        "id": "d-cxGybRSr4I",
        "outputId": "cf410016-a49d-48b2-d373-e826046d55a4"
      },
      "outputs": [
        {
          "output_type": "execute_result",
          "data": {
            "text/html": [
              "<div>\n",
              "<style scoped>\n",
              "    .dataframe tbody tr th:only-of-type {\n",
              "        vertical-align: middle;\n",
              "    }\n",
              "\n",
              "    .dataframe tbody tr th {\n",
              "        vertical-align: top;\n",
              "    }\n",
              "\n",
              "    .dataframe thead th {\n",
              "        text-align: right;\n",
              "    }\n",
              "</style>\n",
              "<table border=\"1\" class=\"dataframe\">\n",
              "  <thead>\n",
              "    <tr style=\"text-align: right;\">\n",
              "      <th></th>\n",
              "      <th>ID</th>\n",
              "      <th>GENDER</th>\n",
              "      <th>SENIORCITIZEN</th>\n",
              "      <th>PARTNER</th>\n",
              "      <th>DEPENDENTS</th>\n",
              "      <th>TENURE</th>\n",
              "      <th>PHONESERVICE</th>\n",
              "      <th>MULTIPLELINES</th>\n",
              "      <th>INTERNETSERVICE</th>\n",
              "      <th>ONLINESECURITY</th>\n",
              "      <th>ONLINEBACKUP</th>\n",
              "      <th>DEVICEPROTECTION</th>\n",
              "      <th>TECHSUPPORT</th>\n",
              "      <th>STREAMINGTV</th>\n",
              "      <th>STREAMINGMOVIES</th>\n",
              "      <th>CONTRACT</th>\n",
              "      <th>PAPERLESSBILLING</th>\n",
              "      <th>PAYMENTMETHOD</th>\n",
              "      <th>MONTHLYCHARGES</th>\n",
              "      <th>TOTALCHARGES</th>\n",
              "      <th>CHURN</th>\n",
              "    </tr>\n",
              "  </thead>\n",
              "  <tbody>\n",
              "    <tr>\n",
              "      <th>0</th>\n",
              "      <td>3418</td>\n",
              "      <td>Female</td>\n",
              "      <td>0.0</td>\n",
              "      <td>No</td>\n",
              "      <td>No</td>\n",
              "      <td>26.0</td>\n",
              "      <td>Yes</td>\n",
              "      <td>No</td>\n",
              "      <td>DSL</td>\n",
              "      <td>No</td>\n",
              "      <td>Yes</td>\n",
              "      <td>Yes</td>\n",
              "      <td>No</td>\n",
              "      <td>No</td>\n",
              "      <td>No</td>\n",
              "      <td>Month-to-month</td>\n",
              "      <td>Yes</td>\n",
              "      <td>Credit card (automatic)</td>\n",
              "      <td>131.55</td>\n",
              "      <td>1483.7</td>\n",
              "      <td>No</td>\n",
              "    </tr>\n",
              "    <tr>\n",
              "      <th>1</th>\n",
              "      <td>6865</td>\n",
              "      <td>Male</td>\n",
              "      <td>0.0</td>\n",
              "      <td>No</td>\n",
              "      <td>No</td>\n",
              "      <td>39.0</td>\n",
              "      <td>Yes</td>\n",
              "      <td>Yes</td>\n",
              "      <td>Fiber optic</td>\n",
              "      <td>No</td>\n",
              "      <td>No</td>\n",
              "      <td>No</td>\n",
              "      <td>No</td>\n",
              "      <td>No</td>\n",
              "      <td>No</td>\n",
              "      <td>Month-to-month</td>\n",
              "      <td>Yes</td>\n",
              "      <td>Credit card (automatic)</td>\n",
              "      <td>79.61</td>\n",
              "      <td>2737.31</td>\n",
              "      <td>No</td>\n",
              "    </tr>\n",
              "    <tr>\n",
              "      <th>2</th>\n",
              "      <td>2799</td>\n",
              "      <td>Male</td>\n",
              "      <td>0.0</td>\n",
              "      <td>No</td>\n",
              "      <td>No</td>\n",
              "      <td>1.0</td>\n",
              "      <td>Yes</td>\n",
              "      <td>No</td>\n",
              "      <td>No</td>\n",
              "      <td>No internet service</td>\n",
              "      <td>No internet service</td>\n",
              "      <td>No internet service</td>\n",
              "      <td>No internet service</td>\n",
              "      <td>No internet service</td>\n",
              "      <td>No internet service</td>\n",
              "      <td>Month-to-month</td>\n",
              "      <td>No</td>\n",
              "      <td>Credit card (automatic)</td>\n",
              "      <td>9.26</td>\n",
              "      <td>9.26</td>\n",
              "      <td>No</td>\n",
              "    </tr>\n",
              "    <tr>\n",
              "      <th>3</th>\n",
              "      <td>1584</td>\n",
              "      <td>Male</td>\n",
              "      <td>0.0</td>\n",
              "      <td>Yes</td>\n",
              "      <td>Yes</td>\n",
              "      <td>66.0</td>\n",
              "      <td>Yes</td>\n",
              "      <td>Yes</td>\n",
              "      <td>No</td>\n",
              "      <td>No internet service</td>\n",
              "      <td>No internet service</td>\n",
              "      <td>No internet service</td>\n",
              "      <td>No internet service</td>\n",
              "      <td>No internet service</td>\n",
              "      <td>No internet service</td>\n",
              "      <td>Two year</td>\n",
              "      <td>Yes</td>\n",
              "      <td>Credit card (automatic)</td>\n",
              "      <td>42.14</td>\n",
              "      <td>1689.19</td>\n",
              "      <td>No</td>\n",
              "    </tr>\n",
              "    <tr>\n",
              "      <th>4</th>\n",
              "      <td>9997</td>\n",
              "      <td>Male</td>\n",
              "      <td>0.0</td>\n",
              "      <td>No</td>\n",
              "      <td>No</td>\n",
              "      <td>56.0</td>\n",
              "      <td>Yes</td>\n",
              "      <td>Yes</td>\n",
              "      <td>Fiber optic</td>\n",
              "      <td>No</td>\n",
              "      <td>Yes</td>\n",
              "      <td>No</td>\n",
              "      <td>No</td>\n",
              "      <td>Yes</td>\n",
              "      <td>Yes</td>\n",
              "      <td>Month-to-month</td>\n",
              "      <td>No</td>\n",
              "      <td>Electronic check</td>\n",
              "      <td>126.24</td>\n",
              "      <td>5608.69</td>\n",
              "      <td>No</td>\n",
              "    </tr>\n",
              "  </tbody>\n",
              "</table>\n",
              "</div>"
            ],
            "text/plain": [
              "     ID  GENDER  SENIORCITIZEN  ... MONTHLYCHARGES TOTALCHARGES  CHURN\n",
              "0  3418  Female            0.0  ...         131.55       1483.7     No\n",
              "1  6865    Male            0.0  ...          79.61      2737.31     No\n",
              "2  2799    Male            0.0  ...           9.26         9.26     No\n",
              "3  1584    Male            0.0  ...          42.14      1689.19     No\n",
              "4  9997    Male            0.0  ...         126.24      5608.69     No\n",
              "\n",
              "[5 rows x 21 columns]"
            ]
          },
          "metadata": {},
          "execution_count": 3
        }
      ],
      "source": [
        "df.head()"
      ]
    },
    {
      "cell_type": "code",
      "execution_count": 4,
      "metadata": {
        "colab": {
          "base_uri": "https://localhost:8080/"
        },
        "id": "evozPL7TSY5w",
        "outputId": "94c3fa2b-ee9e-4ccf-ff84-75fa02e9d267"
      },
      "outputs": [
        {
          "output_type": "stream",
          "name": "stdout",
          "text": [
            "<class 'pandas.core.frame.DataFrame'>\n",
            "RangeIndex: 4548 entries, 0 to 4547\n",
            "Data columns (total 21 columns):\n",
            " #   Column            Non-Null Count  Dtype  \n",
            "---  ------            --------------  -----  \n",
            " 0   ID                4548 non-null   int64  \n",
            " 1   GENDER            4520 non-null   object \n",
            " 2   SENIORCITIZEN     4523 non-null   float64\n",
            " 3   PARTNER           4524 non-null   object \n",
            " 4   DEPENDENTS        4526 non-null   object \n",
            " 5   TENURE            4533 non-null   float64\n",
            " 6   PHONESERVICE      4520 non-null   object \n",
            " 7   MULTIPLELINES     4523 non-null   object \n",
            " 8   INTERNETSERVICE   4524 non-null   object \n",
            " 9   ONLINESECURITY    4518 non-null   object \n",
            " 10  ONLINEBACKUP      4518 non-null   object \n",
            " 11  DEVICEPROTECTION  4524 non-null   object \n",
            " 12  TECHSUPPORT       4530 non-null   object \n",
            " 13  STREAMINGTV       4523 non-null   object \n",
            " 14  STREAMINGMOVIES   4523 non-null   object \n",
            " 15  CONTRACT          4525 non-null   object \n",
            " 16  PAPERLESSBILLING  4517 non-null   object \n",
            " 17  PAYMENTMETHOD     4520 non-null   object \n",
            " 18  MONTHLYCHARGES    4527 non-null   float64\n",
            " 19  TOTALCHARGES      4527 non-null   object \n",
            " 20  CHURN             4548 non-null   object \n",
            "dtypes: float64(3), int64(1), object(17)\n",
            "memory usage: 746.3+ KB\n"
          ]
        }
      ],
      "source": [
        "df.info()"
      ]
    },
    {
      "cell_type": "code",
      "execution_count": 5,
      "metadata": {
        "colab": {
          "base_uri": "https://localhost:8080/",
          "height": 300
        },
        "id": "MYzH2hQUSxXi",
        "outputId": "9e419969-61f8-48a9-c345-75b70f3ae3c7"
      },
      "outputs": [
        {
          "output_type": "execute_result",
          "data": {
            "text/html": [
              "<div>\n",
              "<style scoped>\n",
              "    .dataframe tbody tr th:only-of-type {\n",
              "        vertical-align: middle;\n",
              "    }\n",
              "\n",
              "    .dataframe tbody tr th {\n",
              "        vertical-align: top;\n",
              "    }\n",
              "\n",
              "    .dataframe thead th {\n",
              "        text-align: right;\n",
              "    }\n",
              "</style>\n",
              "<table border=\"1\" class=\"dataframe\">\n",
              "  <thead>\n",
              "    <tr style=\"text-align: right;\">\n",
              "      <th></th>\n",
              "      <th>ID</th>\n",
              "      <th>SENIORCITIZEN</th>\n",
              "      <th>TENURE</th>\n",
              "      <th>MONTHLYCHARGES</th>\n",
              "    </tr>\n",
              "  </thead>\n",
              "  <tbody>\n",
              "    <tr>\n",
              "      <th>count</th>\n",
              "      <td>4548.000000</td>\n",
              "      <td>4523.000000</td>\n",
              "      <td>4533.000000</td>\n",
              "      <td>4527.000000</td>\n",
              "    </tr>\n",
              "    <tr>\n",
              "      <th>mean</th>\n",
              "      <td>5478.833773</td>\n",
              "      <td>0.163608</td>\n",
              "      <td>31.812927</td>\n",
              "      <td>95.836351</td>\n",
              "    </tr>\n",
              "    <tr>\n",
              "      <th>std</th>\n",
              "      <td>2608.431590</td>\n",
              "      <td>0.369961</td>\n",
              "      <td>24.419055</td>\n",
              "      <td>75.492469</td>\n",
              "    </tr>\n",
              "    <tr>\n",
              "      <th>min</th>\n",
              "      <td>1004.000000</td>\n",
              "      <td>0.000000</td>\n",
              "      <td>0.000000</td>\n",
              "      <td>0.090000</td>\n",
              "    </tr>\n",
              "    <tr>\n",
              "      <th>25%</th>\n",
              "      <td>3224.750000</td>\n",
              "      <td>0.000000</td>\n",
              "      <td>8.000000</td>\n",
              "      <td>34.645000</td>\n",
              "    </tr>\n",
              "    <tr>\n",
              "      <th>50%</th>\n",
              "      <td>5455.500000</td>\n",
              "      <td>0.000000</td>\n",
              "      <td>28.000000</td>\n",
              "      <td>73.530000</td>\n",
              "    </tr>\n",
              "    <tr>\n",
              "      <th>75%</th>\n",
              "      <td>7732.250000</td>\n",
              "      <td>0.000000</td>\n",
              "      <td>54.000000</td>\n",
              "      <td>143.595000</td>\n",
              "    </tr>\n",
              "    <tr>\n",
              "      <th>max</th>\n",
              "      <td>9999.000000</td>\n",
              "      <td>1.000000</td>\n",
              "      <td>72.000000</td>\n",
              "      <td>345.240000</td>\n",
              "    </tr>\n",
              "  </tbody>\n",
              "</table>\n",
              "</div>"
            ],
            "text/plain": [
              "                ID  SENIORCITIZEN       TENURE  MONTHLYCHARGES\n",
              "count  4548.000000    4523.000000  4533.000000     4527.000000\n",
              "mean   5478.833773       0.163608    31.812927       95.836351\n",
              "std    2608.431590       0.369961    24.419055       75.492469\n",
              "min    1004.000000       0.000000     0.000000        0.090000\n",
              "25%    3224.750000       0.000000     8.000000       34.645000\n",
              "50%    5455.500000       0.000000    28.000000       73.530000\n",
              "75%    7732.250000       0.000000    54.000000      143.595000\n",
              "max    9999.000000       1.000000    72.000000      345.240000"
            ]
          },
          "metadata": {},
          "execution_count": 5
        }
      ],
      "source": [
        "df.describe()"
      ]
    },
    {
      "cell_type": "code",
      "execution_count": 6,
      "metadata": {
        "colab": {
          "base_uri": "https://localhost:8080/"
        },
        "id": "RIcUQ0JXS5Kg",
        "outputId": "cffbd268-5483-4867-9dbb-a70984394025"
      },
      "outputs": [
        {
          "output_type": "execute_result",
          "data": {
            "text/plain": [
              "ID                  4548\n",
              "GENDER                 2\n",
              "SENIORCITIZEN          2\n",
              "PARTNER                2\n",
              "DEPENDENTS             2\n",
              "TENURE                73\n",
              "PHONESERVICE           2\n",
              "MULTIPLELINES          3\n",
              "INTERNETSERVICE        3\n",
              "ONLINESECURITY         3\n",
              "ONLINEBACKUP           3\n",
              "DEVICEPROTECTION       3\n",
              "TECHSUPPORT            3\n",
              "STREAMINGTV            3\n",
              "STREAMINGMOVIES        3\n",
              "CONTRACT               3\n",
              "PAPERLESSBILLING       2\n",
              "PAYMENTMETHOD          4\n",
              "MONTHLYCHARGES      4073\n",
              "TOTALCHARGES        4495\n",
              "CHURN                  2\n",
              "dtype: int64"
            ]
          },
          "metadata": {},
          "execution_count": 6
        }
      ],
      "source": [
        "df.nunique()"
      ]
    },
    {
      "cell_type": "code",
      "execution_count": 7,
      "metadata": {
        "colab": {
          "base_uri": "https://localhost:8080/"
        },
        "id": "D0mTprSCTZ3N",
        "outputId": "718832da-0caa-47bd-c085-96321330e885"
      },
      "outputs": [
        {
          "output_type": "execute_result",
          "data": {
            "text/plain": [
              "ID                   0\n",
              "GENDER              28\n",
              "SENIORCITIZEN       25\n",
              "PARTNER             24\n",
              "DEPENDENTS          22\n",
              "TENURE              15\n",
              "PHONESERVICE        28\n",
              "MULTIPLELINES       25\n",
              "INTERNETSERVICE     24\n",
              "ONLINESECURITY      30\n",
              "ONLINEBACKUP        30\n",
              "DEVICEPROTECTION    24\n",
              "TECHSUPPORT         18\n",
              "STREAMINGTV         25\n",
              "STREAMINGMOVIES     25\n",
              "CONTRACT            23\n",
              "PAPERLESSBILLING    31\n",
              "PAYMENTMETHOD       28\n",
              "MONTHLYCHARGES      21\n",
              "TOTALCHARGES        21\n",
              "CHURN                0\n",
              "dtype: int64"
            ]
          },
          "metadata": {},
          "execution_count": 7
        }
      ],
      "source": [
        "df.isnull().sum()"
      ]
    },
    {
      "cell_type": "code",
      "source": [
        "df['CHURN'] = df['CHURN'].map({'No':False, 'Yes':True})\n",
        "df.dropna(inplace=True)\n",
        "df.info()"
      ],
      "metadata": {
        "colab": {
          "base_uri": "https://localhost:8080/"
        },
        "id": "5rKMue_eowr3",
        "outputId": "95afd861-6890-4157-ac48-bba60e6328a2"
      },
      "execution_count": 8,
      "outputs": [
        {
          "output_type": "stream",
          "name": "stdout",
          "text": [
            "<class 'pandas.core.frame.DataFrame'>\n",
            "Int64Index: 4106 entries, 0 to 4547\n",
            "Data columns (total 21 columns):\n",
            " #   Column            Non-Null Count  Dtype  \n",
            "---  ------            --------------  -----  \n",
            " 0   ID                4106 non-null   int64  \n",
            " 1   GENDER            4106 non-null   object \n",
            " 2   SENIORCITIZEN     4106 non-null   float64\n",
            " 3   PARTNER           4106 non-null   object \n",
            " 4   DEPENDENTS        4106 non-null   object \n",
            " 5   TENURE            4106 non-null   float64\n",
            " 6   PHONESERVICE      4106 non-null   object \n",
            " 7   MULTIPLELINES     4106 non-null   object \n",
            " 8   INTERNETSERVICE   4106 non-null   object \n",
            " 9   ONLINESECURITY    4106 non-null   object \n",
            " 10  ONLINEBACKUP      4106 non-null   object \n",
            " 11  DEVICEPROTECTION  4106 non-null   object \n",
            " 12  TECHSUPPORT       4106 non-null   object \n",
            " 13  STREAMINGTV       4106 non-null   object \n",
            " 14  STREAMINGMOVIES   4106 non-null   object \n",
            " 15  CONTRACT          4106 non-null   object \n",
            " 16  PAPERLESSBILLING  4106 non-null   object \n",
            " 17  PAYMENTMETHOD     4106 non-null   object \n",
            " 18  MONTHLYCHARGES    4106 non-null   float64\n",
            " 19  TOTALCHARGES      4106 non-null   object \n",
            " 20  CHURN             4106 non-null   bool   \n",
            "dtypes: bool(1), float64(3), int64(1), object(16)\n",
            "memory usage: 677.7+ KB\n"
          ]
        }
      ]
    },
    {
      "cell_type": "code",
      "source": [
        "df.info()"
      ],
      "metadata": {
        "colab": {
          "base_uri": "https://localhost:8080/"
        },
        "id": "YJvnNwUILERO",
        "outputId": "1d1477c6-80a2-4497-a5a4-60f7fc0172cd"
      },
      "execution_count": 9,
      "outputs": [
        {
          "output_type": "stream",
          "name": "stdout",
          "text": [
            "<class 'pandas.core.frame.DataFrame'>\n",
            "Int64Index: 4106 entries, 0 to 4547\n",
            "Data columns (total 21 columns):\n",
            " #   Column            Non-Null Count  Dtype  \n",
            "---  ------            --------------  -----  \n",
            " 0   ID                4106 non-null   int64  \n",
            " 1   GENDER            4106 non-null   object \n",
            " 2   SENIORCITIZEN     4106 non-null   float64\n",
            " 3   PARTNER           4106 non-null   object \n",
            " 4   DEPENDENTS        4106 non-null   object \n",
            " 5   TENURE            4106 non-null   float64\n",
            " 6   PHONESERVICE      4106 non-null   object \n",
            " 7   MULTIPLELINES     4106 non-null   object \n",
            " 8   INTERNETSERVICE   4106 non-null   object \n",
            " 9   ONLINESECURITY    4106 non-null   object \n",
            " 10  ONLINEBACKUP      4106 non-null   object \n",
            " 11  DEVICEPROTECTION  4106 non-null   object \n",
            " 12  TECHSUPPORT       4106 non-null   object \n",
            " 13  STREAMINGTV       4106 non-null   object \n",
            " 14  STREAMINGMOVIES   4106 non-null   object \n",
            " 15  CONTRACT          4106 non-null   object \n",
            " 16  PAPERLESSBILLING  4106 non-null   object \n",
            " 17  PAYMENTMETHOD     4106 non-null   object \n",
            " 18  MONTHLYCHARGES    4106 non-null   float64\n",
            " 19  TOTALCHARGES      4106 non-null   object \n",
            " 20  CHURN             4106 non-null   bool   \n",
            "dtypes: bool(1), float64(3), int64(1), object(16)\n",
            "memory usage: 677.7+ KB\n"
          ]
        }
      ]
    },
    {
      "cell_type": "code",
      "source": [
        "import plotly.express as px\n",
        "\n",
        "target = df[\"CHURN\"].value_counts().to_frame()\n",
        "target = target.reset_index()\n",
        "target = target.rename(columns={'index': 'Valor'})\n",
        "fig = px.pie(target, values='CHURN', names='Valor',\n",
        "             title='Distribucion de TARGET')\n",
        "fig.show()\n"
      ],
      "metadata": {
        "colab": {
          "base_uri": "https://localhost:8080/",
          "height": 542
        },
        "id": "OgvuVDt0WzEm",
        "outputId": "85cdbb33-f197-4fb4-c730-15996146f103"
      },
      "execution_count": 10,
      "outputs": [
        {
          "output_type": "display_data",
          "data": {
            "text/html": [
              "<html>\n",
              "<head><meta charset=\"utf-8\" /></head>\n",
              "<body>\n",
              "    <div>\n",
              "            <script src=\"https://cdnjs.cloudflare.com/ajax/libs/mathjax/2.7.5/MathJax.js?config=TeX-AMS-MML_SVG\"></script><script type=\"text/javascript\">if (window.MathJax) {MathJax.Hub.Config({SVG: {font: \"STIX-Web\"}});}</script>\n",
              "                <script type=\"text/javascript\">window.PlotlyConfig = {MathJaxConfig: 'local'};</script>\n",
              "        <script src=\"https://cdn.plot.ly/plotly-latest.min.js\"></script>    \n",
              "            <div id=\"361537fa-9e34-4608-97e9-f733230a68df\" class=\"plotly-graph-div\" style=\"height:525px; width:100%;\"></div>\n",
              "            <script type=\"text/javascript\">\n",
              "                \n",
              "                    window.PLOTLYENV=window.PLOTLYENV || {};\n",
              "                    \n",
              "                if (document.getElementById(\"361537fa-9e34-4608-97e9-f733230a68df\")) {\n",
              "                    Plotly.newPlot(\n",
              "                        '361537fa-9e34-4608-97e9-f733230a68df',\n",
              "                        [{\"domain\": {\"x\": [0.0, 1.0], \"y\": [0.0, 1.0]}, \"hoverlabel\": {\"namelength\": 0}, \"hovertemplate\": \"Valor=%{label}<br>CHURN=%{value}\", \"labels\": [false, true], \"legendgroup\": \"\", \"name\": \"\", \"showlegend\": true, \"type\": \"pie\", \"values\": [3029, 1077]}],\n",
              "                        {\"legend\": {\"tracegroupgap\": 0}, \"template\": {\"data\": {\"bar\": [{\"error_x\": {\"color\": \"#2a3f5f\"}, \"error_y\": {\"color\": \"#2a3f5f\"}, \"marker\": {\"line\": {\"color\": \"#E5ECF6\", \"width\": 0.5}}, \"type\": \"bar\"}], \"barpolar\": [{\"marker\": {\"line\": {\"color\": \"#E5ECF6\", \"width\": 0.5}}, \"type\": \"barpolar\"}], \"carpet\": [{\"aaxis\": {\"endlinecolor\": \"#2a3f5f\", \"gridcolor\": \"white\", \"linecolor\": \"white\", \"minorgridcolor\": \"white\", \"startlinecolor\": \"#2a3f5f\"}, \"baxis\": {\"endlinecolor\": \"#2a3f5f\", \"gridcolor\": \"white\", \"linecolor\": \"white\", \"minorgridcolor\": \"white\", \"startlinecolor\": \"#2a3f5f\"}, \"type\": \"carpet\"}], \"choropleth\": [{\"colorbar\": {\"outlinewidth\": 0, \"ticks\": \"\"}, \"type\": \"choropleth\"}], \"contour\": [{\"colorbar\": {\"outlinewidth\": 0, \"ticks\": \"\"}, \"colorscale\": [[0.0, \"#0d0887\"], [0.1111111111111111, \"#46039f\"], [0.2222222222222222, \"#7201a8\"], [0.3333333333333333, \"#9c179e\"], [0.4444444444444444, \"#bd3786\"], [0.5555555555555556, \"#d8576b\"], [0.6666666666666666, \"#ed7953\"], [0.7777777777777778, \"#fb9f3a\"], [0.8888888888888888, \"#fdca26\"], [1.0, \"#f0f921\"]], \"type\": \"contour\"}], \"contourcarpet\": [{\"colorbar\": {\"outlinewidth\": 0, \"ticks\": \"\"}, \"type\": \"contourcarpet\"}], \"heatmap\": [{\"colorbar\": {\"outlinewidth\": 0, \"ticks\": \"\"}, \"colorscale\": [[0.0, \"#0d0887\"], [0.1111111111111111, \"#46039f\"], [0.2222222222222222, \"#7201a8\"], [0.3333333333333333, \"#9c179e\"], [0.4444444444444444, \"#bd3786\"], [0.5555555555555556, \"#d8576b\"], [0.6666666666666666, \"#ed7953\"], [0.7777777777777778, \"#fb9f3a\"], [0.8888888888888888, \"#fdca26\"], [1.0, \"#f0f921\"]], \"type\": \"heatmap\"}], \"heatmapgl\": [{\"colorbar\": {\"outlinewidth\": 0, \"ticks\": \"\"}, \"colorscale\": [[0.0, \"#0d0887\"], [0.1111111111111111, \"#46039f\"], [0.2222222222222222, \"#7201a8\"], [0.3333333333333333, \"#9c179e\"], [0.4444444444444444, \"#bd3786\"], [0.5555555555555556, \"#d8576b\"], [0.6666666666666666, \"#ed7953\"], [0.7777777777777778, \"#fb9f3a\"], [0.8888888888888888, \"#fdca26\"], [1.0, \"#f0f921\"]], \"type\": \"heatmapgl\"}], \"histogram\": [{\"marker\": {\"colorbar\": {\"outlinewidth\": 0, \"ticks\": \"\"}}, \"type\": \"histogram\"}], \"histogram2d\": [{\"colorbar\": {\"outlinewidth\": 0, \"ticks\": \"\"}, \"colorscale\": [[0.0, \"#0d0887\"], [0.1111111111111111, \"#46039f\"], [0.2222222222222222, \"#7201a8\"], [0.3333333333333333, \"#9c179e\"], [0.4444444444444444, \"#bd3786\"], [0.5555555555555556, \"#d8576b\"], [0.6666666666666666, \"#ed7953\"], [0.7777777777777778, \"#fb9f3a\"], [0.8888888888888888, \"#fdca26\"], [1.0, \"#f0f921\"]], \"type\": \"histogram2d\"}], \"histogram2dcontour\": [{\"colorbar\": {\"outlinewidth\": 0, \"ticks\": \"\"}, \"colorscale\": [[0.0, \"#0d0887\"], [0.1111111111111111, \"#46039f\"], [0.2222222222222222, \"#7201a8\"], [0.3333333333333333, \"#9c179e\"], [0.4444444444444444, \"#bd3786\"], [0.5555555555555556, \"#d8576b\"], [0.6666666666666666, \"#ed7953\"], [0.7777777777777778, \"#fb9f3a\"], [0.8888888888888888, \"#fdca26\"], [1.0, \"#f0f921\"]], \"type\": \"histogram2dcontour\"}], \"mesh3d\": [{\"colorbar\": {\"outlinewidth\": 0, \"ticks\": \"\"}, \"type\": \"mesh3d\"}], \"parcoords\": [{\"line\": {\"colorbar\": {\"outlinewidth\": 0, \"ticks\": \"\"}}, \"type\": \"parcoords\"}], \"pie\": [{\"automargin\": true, \"type\": \"pie\"}], \"scatter\": [{\"marker\": {\"colorbar\": {\"outlinewidth\": 0, \"ticks\": \"\"}}, \"type\": \"scatter\"}], \"scatter3d\": [{\"line\": {\"colorbar\": {\"outlinewidth\": 0, \"ticks\": \"\"}}, \"marker\": {\"colorbar\": {\"outlinewidth\": 0, \"ticks\": \"\"}}, \"type\": \"scatter3d\"}], \"scattercarpet\": [{\"marker\": {\"colorbar\": {\"outlinewidth\": 0, \"ticks\": \"\"}}, \"type\": \"scattercarpet\"}], \"scattergeo\": [{\"marker\": {\"colorbar\": {\"outlinewidth\": 0, \"ticks\": \"\"}}, \"type\": \"scattergeo\"}], \"scattergl\": [{\"marker\": {\"colorbar\": {\"outlinewidth\": 0, \"ticks\": \"\"}}, \"type\": \"scattergl\"}], \"scattermapbox\": [{\"marker\": {\"colorbar\": {\"outlinewidth\": 0, \"ticks\": \"\"}}, \"type\": \"scattermapbox\"}], \"scatterpolar\": [{\"marker\": {\"colorbar\": {\"outlinewidth\": 0, \"ticks\": \"\"}}, \"type\": \"scatterpolar\"}], \"scatterpolargl\": [{\"marker\": {\"colorbar\": {\"outlinewidth\": 0, \"ticks\": \"\"}}, \"type\": \"scatterpolargl\"}], \"scatterternary\": [{\"marker\": {\"colorbar\": {\"outlinewidth\": 0, \"ticks\": \"\"}}, \"type\": \"scatterternary\"}], \"surface\": [{\"colorbar\": {\"outlinewidth\": 0, \"ticks\": \"\"}, \"colorscale\": [[0.0, \"#0d0887\"], [0.1111111111111111, \"#46039f\"], [0.2222222222222222, \"#7201a8\"], [0.3333333333333333, \"#9c179e\"], [0.4444444444444444, \"#bd3786\"], [0.5555555555555556, \"#d8576b\"], [0.6666666666666666, \"#ed7953\"], [0.7777777777777778, \"#fb9f3a\"], [0.8888888888888888, \"#fdca26\"], [1.0, \"#f0f921\"]], \"type\": \"surface\"}], \"table\": [{\"cells\": {\"fill\": {\"color\": \"#EBF0F8\"}, \"line\": {\"color\": \"white\"}}, \"header\": {\"fill\": {\"color\": \"#C8D4E3\"}, \"line\": {\"color\": \"white\"}}, \"type\": \"table\"}]}, \"layout\": {\"annotationdefaults\": {\"arrowcolor\": \"#2a3f5f\", \"arrowhead\": 0, \"arrowwidth\": 1}, \"coloraxis\": {\"colorbar\": {\"outlinewidth\": 0, \"ticks\": \"\"}}, \"colorscale\": {\"diverging\": [[0, \"#8e0152\"], [0.1, \"#c51b7d\"], [0.2, \"#de77ae\"], [0.3, \"#f1b6da\"], [0.4, \"#fde0ef\"], [0.5, \"#f7f7f7\"], [0.6, \"#e6f5d0\"], [0.7, \"#b8e186\"], [0.8, \"#7fbc41\"], [0.9, \"#4d9221\"], [1, \"#276419\"]], \"sequential\": [[0.0, \"#0d0887\"], [0.1111111111111111, \"#46039f\"], [0.2222222222222222, \"#7201a8\"], [0.3333333333333333, \"#9c179e\"], [0.4444444444444444, \"#bd3786\"], [0.5555555555555556, \"#d8576b\"], [0.6666666666666666, \"#ed7953\"], [0.7777777777777778, \"#fb9f3a\"], [0.8888888888888888, \"#fdca26\"], [1.0, \"#f0f921\"]], \"sequentialminus\": [[0.0, \"#0d0887\"], [0.1111111111111111, \"#46039f\"], [0.2222222222222222, \"#7201a8\"], [0.3333333333333333, \"#9c179e\"], [0.4444444444444444, \"#bd3786\"], [0.5555555555555556, \"#d8576b\"], [0.6666666666666666, \"#ed7953\"], [0.7777777777777778, \"#fb9f3a\"], [0.8888888888888888, \"#fdca26\"], [1.0, \"#f0f921\"]]}, \"colorway\": [\"#636efa\", \"#EF553B\", \"#00cc96\", \"#ab63fa\", \"#FFA15A\", \"#19d3f3\", \"#FF6692\", \"#B6E880\", \"#FF97FF\", \"#FECB52\"], \"font\": {\"color\": \"#2a3f5f\"}, \"geo\": {\"bgcolor\": \"white\", \"lakecolor\": \"white\", \"landcolor\": \"#E5ECF6\", \"showlakes\": true, \"showland\": true, \"subunitcolor\": \"white\"}, \"hoverlabel\": {\"align\": \"left\"}, \"hovermode\": \"closest\", \"mapbox\": {\"style\": \"light\"}, \"paper_bgcolor\": \"white\", \"plot_bgcolor\": \"#E5ECF6\", \"polar\": {\"angularaxis\": {\"gridcolor\": \"white\", \"linecolor\": \"white\", \"ticks\": \"\"}, \"bgcolor\": \"#E5ECF6\", \"radialaxis\": {\"gridcolor\": \"white\", \"linecolor\": \"white\", \"ticks\": \"\"}}, \"scene\": {\"xaxis\": {\"backgroundcolor\": \"#E5ECF6\", \"gridcolor\": \"white\", \"gridwidth\": 2, \"linecolor\": \"white\", \"showbackground\": true, \"ticks\": \"\", \"zerolinecolor\": \"white\"}, \"yaxis\": {\"backgroundcolor\": \"#E5ECF6\", \"gridcolor\": \"white\", \"gridwidth\": 2, \"linecolor\": \"white\", \"showbackground\": true, \"ticks\": \"\", \"zerolinecolor\": \"white\"}, \"zaxis\": {\"backgroundcolor\": \"#E5ECF6\", \"gridcolor\": \"white\", \"gridwidth\": 2, \"linecolor\": \"white\", \"showbackground\": true, \"ticks\": \"\", \"zerolinecolor\": \"white\"}}, \"shapedefaults\": {\"line\": {\"color\": \"#2a3f5f\"}}, \"ternary\": {\"aaxis\": {\"gridcolor\": \"white\", \"linecolor\": \"white\", \"ticks\": \"\"}, \"baxis\": {\"gridcolor\": \"white\", \"linecolor\": \"white\", \"ticks\": \"\"}, \"bgcolor\": \"#E5ECF6\", \"caxis\": {\"gridcolor\": \"white\", \"linecolor\": \"white\", \"ticks\": \"\"}}, \"title\": {\"x\": 0.05}, \"xaxis\": {\"automargin\": true, \"gridcolor\": \"white\", \"linecolor\": \"white\", \"ticks\": \"\", \"title\": {\"standoff\": 15}, \"zerolinecolor\": \"white\", \"zerolinewidth\": 2}, \"yaxis\": {\"automargin\": true, \"gridcolor\": \"white\", \"linecolor\": \"white\", \"ticks\": \"\", \"title\": {\"standoff\": 15}, \"zerolinecolor\": \"white\", \"zerolinewidth\": 2}}}, \"title\": {\"text\": \"Distribucion de TARGET\"}},\n",
              "                        {\"responsive\": true}\n",
              "                    ).then(function(){\n",
              "                            \n",
              "var gd = document.getElementById('361537fa-9e34-4608-97e9-f733230a68df');\n",
              "var x = new MutationObserver(function (mutations, observer) {{\n",
              "        var display = window.getComputedStyle(gd).display;\n",
              "        if (!display || display === 'none') {{\n",
              "            console.log([gd, 'removed!']);\n",
              "            Plotly.purge(gd);\n",
              "            observer.disconnect();\n",
              "        }}\n",
              "}});\n",
              "\n",
              "// Listen for the removal of the full notebook cells\n",
              "var notebookContainer = gd.closest('#notebook-container');\n",
              "if (notebookContainer) {{\n",
              "    x.observe(notebookContainer, {childList: true});\n",
              "}}\n",
              "\n",
              "// Listen for the clearing of the current output cell\n",
              "var outputEl = gd.closest('.output');\n",
              "if (outputEl) {{\n",
              "    x.observe(outputEl, {childList: true});\n",
              "}}\n",
              "\n",
              "                        })\n",
              "                };\n",
              "                \n",
              "            </script>\n",
              "        </div>\n",
              "</body>\n",
              "</html>"
            ]
          },
          "metadata": {}
        }
      ]
    },
    {
      "cell_type": "markdown",
      "metadata": {
        "id": "N-KZ0aWVdAMC"
      },
      "source": [
        "### Relacion entre Features"
      ]
    },
    {
      "cell_type": "code",
      "execution_count": 11,
      "metadata": {
        "colab": {
          "base_uri": "https://localhost:8080/",
          "height": 585
        },
        "id": "JI9AxNeP_Wui",
        "outputId": "b78a4783-32b5-4e79-e7ef-acb4ba1389c9"
      },
      "outputs": [
        {
          "output_type": "display_data",
          "data": {
            "image/png": "[encoded data removed]",
            "text/plain": [
              "<Figure size 1008x576 with 2 Axes>"
            ]
          },
          "metadata": {
            "needs_background": "light"
          }
        }
      ],
      "source": [
        "# HeatMap\n",
        "import numpy as np\n",
        "import matplotlib.pyplot as plt\n",
        "\n",
        "\n",
        "plt.figure(figsize = (14, 8))\n",
        "mask = np.triu(np.ones_like(df.drop(columns=['ID']).corr(), dtype=bool))\n",
        "\n",
        "sns.heatmap(round(df.drop(columns=['ID']).corr(method = 'spearman'), 3), mask=mask,annot=True, linewidths=0.5)\n",
        "plt.title('Correlation Matrix')\n",
        "plt.tight_layout()\n",
        "plt.show()"
      ]
    },
    {
      "cell_type": "markdown",
      "metadata": {
        "id": "NuX8bVH1c1Ig"
      },
      "source": [
        "### Distribución de las variables"
      ]
    },
    {
      "cell_type": "markdown",
      "metadata": {
        "id": "Tz7B-jqzduuP"
      },
      "source": [
        "## Procesamiento de datos y Entrenamiento de Modelo"
      ]
    },
    {
      "cell_type": "code",
      "execution_count": 23,
      "metadata": {
        "id": "vh_T_e9_Uem_"
      },
      "outputs": [],
      "source": [
        "from sklearn.base import BaseEstimator, TransformerMixin\n",
        "from sklearn.pipeline import Pipeline\n",
        "\n",
        "\n",
        "# Un transformador para fixear datos del Desafio1\n",
        "class FixerDesafio5(BaseEstimator, TransformerMixin):\n",
        "    def __init__(self):\n",
        "        return\n",
        "        \n",
        "    def fit(self, X, y=None):\n",
        "        return self\n",
        "\n",
        "    def transform(self, X):\n",
        "        # Primero realizamos la cópia del DataFrame 'X' de entrada\n",
        "        df = X.copy()\n",
        "        \n",
        "        df.drop(columns=['ID'], inplace=True)\n",
        "\n",
        "        df['TOTALCHARGES'] = pd.to_numeric(df['TOTALCHARGES'],errors='coerce')\n",
        "\n",
        "        # Categoricas Binarias\n",
        "        df['GENDER'] = df['GENDER'].map({'Female':False, 'Male':True})\n",
        "        df['PARTNER'] = df['PARTNER'].map({'No':False, 'Yes':True})\n",
        "        df['DEPENDENTS'] = df['DEPENDENTS'].map({'No':False, 'Yes':True})\n",
        "        df['PHONESERVICE'] = df['PHONESERVICE'].map({'No':False, 'Yes':True})\n",
        "        df['PAPERLESSBILLING'] = df['PAPERLESSBILLING'].map({'No':False, 'Yes':True})\n",
        "\n",
        "        # Categoricas multiples\n",
        "        # df['MULTIPLELINES'] = df['MULTIPLELINES'].map({'No':1, 'Yes':2, 'No phone service':0})\n",
        "        # df['INTERNETSERVICE'] = df['INTERNETSERVICE'].map({'No':0, 'Fiber optic':1, 'DSL':2})\n",
        "        # df['ONLINESECURITY'] = df['ONLINESECURITY'].map({'No':1, 'Yes':2, 'No internet service':0})\n",
        "        # df['ONLINEBACKUP'] = df['ONLINEBACKUP'].map({'No':1, 'Yes':2, 'No internet service':0})\n",
        "        # df['DEVICEPROTECTION'] = df['DEVICEPROTECTION'].map({'No':1, 'Yes':2, 'No internet service':0})\n",
        "        # df['TECHSUPPORT'] = df['TECHSUPPORT'].map({'No':1, 'Yes':2, 'No internet service':0})\n",
        "        # df['STREAMINGTV'] = df['STREAMINGTV'].map({'No':1, 'Yes':2, 'No internet service':0})\n",
        "        # df['STREAMINGMOVIES'] = df['STREAMINGMOVIES'].map({'No':1, 'Yes':2, 'No internet service':0})\n",
        "        # df['CONTRACT'] = df['CONTRACT'].map({'Month-to-month':0, 'One year':1, 'Two year':2})\n",
        "\n",
        "        # df['PAYMENTMETHOD'] = df['PAYMENTMETHOD'].map({'Credit card (automatic)':0,\n",
        "        #                                               'Bank transfer (automatic)':1,\n",
        "        #                                               'Electronic check':2,\n",
        "        #                                               'Mailed check':3})\n",
        "        #df = pd.get_dummies(df, drop_first=True)\n",
        "\n",
        "\n",
        "\n",
        "        return df"
      ]
    },
    {
      "cell_type": "code",
      "source": [
        "from sklearn.compose import ColumnTransformer\n",
        "from sklearn.pipeline import Pipeline\n",
        "from sklearn.preprocessing import StandardScaler, MinMaxScaler, OneHotEncoder\n",
        "from sklearn.impute import SimpleImputer\n",
        "\n",
        "categoricas = [\n",
        "                'MULTIPLELINES',\n",
        "                'INTERNETSERVICE',\n",
        "                'ONLINESECURITY',\n",
        "                'ONLINEBACKUP',\n",
        "                'DEVICEPROTECTION',\n",
        "                'TECHSUPPORT',\n",
        "                'STREAMINGTV',\n",
        "                'STREAMINGMOVIES',\n",
        "                'CONTRACT',\n",
        "                'PAYMENTMETHOD',\n",
        "]\n",
        "\n",
        "# Define categorical pipeline\n",
        "cat_pipe = Pipeline([\n",
        "    ('encoder', OneHotEncoder(handle_unknown='ignore', drop='first', sparse=False))\n",
        "])\n",
        "\n",
        "numericas = [\n",
        "             'TOTALCHARGES',\n",
        "             'TENURE',\n",
        "             'MONTHLYCHARGES'              \n",
        "]\n",
        "\n",
        "# Define numerical pipeline\n",
        "num_pipe = Pipeline([\n",
        "    ('imputer', SimpleImputer(strategy='mean')),\n",
        "    ('scaler', MinMaxScaler())\n",
        "],)\n",
        "\n",
        "# Combino procesamiento de Categoricas y numericas.\n",
        "preprocessor = ColumnTransformer(transformers =[\n",
        "    ('cat', cat_pipe, categoricas),\n",
        "    ('num', num_pipe, numericas),\n",
        "],remainder='passthrough')\n"
      ],
      "metadata": {
        "id": "7TQ7Mphv1dpr"
      },
      "execution_count": 24,
      "outputs": []
    },
    {
      "cell_type": "code",
      "execution_count": 25,
      "metadata": {
        "id": "QYigqxABd3HH"
      },
      "outputs": [],
      "source": [
        "from sklearn.model_selection import RepeatedKFold\n",
        "from sklearn.model_selection import cross_val_score\n",
        "from numpy import mean\n",
        "from numpy import std\n",
        "\n",
        "def evaluate_model(model, X, y, repeats):\n",
        "  # prepare the cross-validation procedure\n",
        "  cv = RepeatedKFold(n_splits=2, n_repeats=repeats)\n",
        "  # evaluate model\n",
        "  scores = cross_val_score(model, X, y, scoring='f1', cv=cv, n_jobs=-1)\n",
        "  print(scores)\n",
        "  print('Mean f1: %.3f (%.3f)' % (mean(scores), std(scores)))\n"
      ]
    },
    {
      "cell_type": "code",
      "execution_count": 166,
      "metadata": {
        "id": "nPVZlbRyd_Nz"
      },
      "outputs": [],
      "source": [
        "from sklearn.tree import DecisionTreeClassifier\n",
        "from sklearn.ensemble import ExtraTreesClassifier, RandomForestClassifier\n",
        "from sklearn.neighbors import KNeighborsClassifier\n",
        "from sklearn.neural_network import MLPClassifier\n",
        "from xgboost import XGBClassifier, XGBRFClassifier\n",
        "from imblearn.ensemble import BalancedRandomForestClassifier, EasyEnsembleClassifier\n",
        "from sklearn.linear_model import LogisticRegression, LogisticRegressionCV\n",
        "from sklearn.decomposition import PCA\n",
        "from sklearn.feature_selection import SelectFromModel\n",
        "\n",
        "# Defino pipeline de pre-procesamiento\n",
        "my_pipeline = Pipeline([\n",
        "                        ('fixer', FixerDesafio5()),\n",
        "                        ('preprocessor', preprocessor),\n",
        "                        ('model', LogisticRegression(C=0.4, class_weight={0: 0.3, 1: 0.7},\n",
        "                                    solver='newton-cg'))\n",
        "                        ])\n",
        "\n",
        "\n",
        "# Separo Features y Target\n",
        "target = ['CHURN']\n",
        "X = df[list((set(df.columns) - set(target)))]\n",
        "y = df[target]\n"
      ]
    },
    {
      "cell_type": "code",
      "execution_count": 167,
      "metadata": {
        "id": "kO5Co5qz4sja",
        "colab": {
          "base_uri": "https://localhost:8080/"
        },
        "outputId": "9cb7bc83-1f88-4538-8c63-615255f4125c"
      },
      "outputs": [
        {
          "output_type": "stream",
          "name": "stdout",
          "text": [
            "[0.62781663 0.63035019 0.64748201 0.60922147 0.63734568 0.61598138\n",
            " 0.64848012 0.62137405 0.64159632 0.61645963]\n",
            "Mean f1: 0.630 (0.013)\n"
          ]
        }
      ],
      "source": [
        "# Cross validation scores\n",
        "evaluate_model(my_pipeline, X, y, 5)\n"
      ]
    },
    {
      "cell_type": "code",
      "source": [
        "from sklearn.model_selection import train_test_split\n",
        "from sklearn.metrics import accuracy_score, f1_score\n",
        "from sklearn.metrics import classification_report\n",
        "\n",
        "test_pct = 0.3 # Separaremos 30% de los dados para testing\n",
        "X_train, X_test, y_train, y_test = train_test_split(X, y, test_size=test_pct)\n",
        "\n",
        "\n",
        "my_pipeline.fit(X_train, y_train)\n",
        "y_pred = my_pipeline.predict(X_test)\n",
        "acc = accuracy_score(y_test, y_pred)\n",
        "print(f\"Exactitud del modelo (número de predicciones asertadas sobre el número total de pruebas): {acc}\")\n",
        "f1_0 = f1_score(y_test, y_pred, pos_label=0)\n",
        "f1_1 = f1_score(y_test, y_pred, pos_label=1)\n",
        "print(f\"F1_0 del modelo (número de predicciones asertadas sobre el número total de pruebas): {f1_0}\")\n",
        "print(f\"F1_1 del modelo (número de predicciones asertadas sobre el número total de pruebas): {f1_1}\")\n",
        "\n",
        "\n",
        "print(classification_report(y_test, y_pred,digits=5, target_names=['0', '1']))"
      ],
      "metadata": {
        "colab": {
          "base_uri": "https://localhost:8080/"
        },
        "id": "vPalksOdPbZF",
        "outputId": "37de418e-da2f-4762-fa46-5f48f5648efe"
      },
      "execution_count": 168,
      "outputs": [
        {
          "output_type": "stream",
          "name": "stdout",
          "text": [
            "Exactitud del modelo (número de predicciones asertadas sobre el número total de pruebas): 0.773538961038961\n",
            "F1_0 del modelo (número de predicciones asertadas sobre el número total de pruebas): 0.8361714621256606\n",
            "F1_1 del modelo (número de predicciones asertadas sobre el número total de pruebas): 0.6333771353482262\n",
            "              precision    recall  f1-score   support\n",
            "\n",
            "           0    0.92348   0.76395   0.83617       932\n",
            "           1    0.52278   0.80333   0.63338       300\n",
            "\n",
            "    accuracy                        0.77354      1232\n",
            "   macro avg    0.72313   0.78364   0.73477      1232\n",
            "weighted avg    0.82590   0.77354   0.78679      1232\n",
            "\n"
          ]
        },
        {
          "output_type": "stream",
          "name": "stderr",
          "text": [
            "/usr/local/lib/python3.7/dist-packages/sklearn/utils/validation.py:985: DataConversionWarning:\n",
            "\n",
            "A column-vector y was passed when a 1d array was expected. Please change the shape of y to (n_samples, ), for example using ravel().\n",
            "\n"
          ]
        }
      ]
    },
    {
      "cell_type": "code",
      "source": [
        "from sklearn.metrics import confusion_matrix\n",
        "import numpy as np\n",
        "\n",
        "\n",
        "cf_matrix = confusion_matrix(y_test, y_pred)\n",
        "group_names = ['`Negativo` Correto', 'Errado `Positivo`', 'Falso `Negativo`', '`Positivo` Correto']\n",
        "group_counts = ['{0:0.0f}'.format(value) for value in cf_matrix.flatten()]\n",
        "group_percentages = ['{0:.2%}'.format(value) for value in cf_matrix.flatten()/np.sum(cf_matrix)]\n",
        "labels = [f'{v1}\\n{v2}\\n{v3}' for v1, v2, v3 in zip(group_names, group_counts, group_percentages)]\n",
        "labels = np.asarray(labels).reshape(2,2)\n",
        "accuracy  = np.trace(cf_matrix) / float(np.sum(cf_matrix))\n",
        "precision = cf_matrix[1,1] / sum(cf_matrix[:,1])\n",
        "recall    = cf_matrix[1,1] / sum(cf_matrix[1,:])\n",
        "f1_score_m  = 2*precision*recall / (precision + recall)\n",
        "sns.heatmap(cf_matrix, annot=labels, fmt=\"\")\n",
        "stats_text = \"\\n\\nAccuracy={:0.3f}\\nPrecision={:0.3f}\\nRecall={:0.3f}\\nF1 Score={}\".format(accuracy, precision, recall, f1_score_m)\n",
        "plt.ylabel('True label')\n",
        "plt.xlabel('Predicted label' + stats_text)"
      ],
      "metadata": {
        "colab": {
          "base_uri": "https://localhost:8080/",
          "height": 354
        },
        "id": "tq0v5BFlQu-f",
        "outputId": "5018acbd-6dcc-4a25-8d4e-6b16c3ea2341"
      },
      "execution_count": 169,
      "outputs": [
        {
          "output_type": "execute_result",
          "data": {
            "text/plain": [
              "Text(0.5, 15.0, 'Predicted label\\n\\nAccuracy=0.774\\nPrecision=0.523\\nRecall=0.803\\nF1 Score=0.6333771353482262')"
            ]
          },
          "metadata": {},
          "execution_count": 169
        },
        {
          "output_type": "display_data",
          "data": {
            "image/png": "[encoded data removed]",
            "text/plain": [
              "<Figure size 432x288 with 2 Axes>"
            ]
          },
          "metadata": {
            "needs_background": "light"
          }
        }
      ]
    },
    {
      "cell_type": "markdown",
      "source": [
        "### Hyper Tunning\n",
        "\n"
      ],
      "metadata": {
        "id": "BtrKLzAtyb2O"
      }
    },
    {
      "cell_type": "code",
      "source": [
        "from sklearn.model_selection import GridSearchCV\n",
        "\n",
        "space = dict()\n",
        "space['model__solver'] = ['newton-cg', 'lbfgs', 'liblinear']\n",
        "space['model__penalty'] = ['none', 'l2']\n",
        "space['model__C'] = [0.2,0.3,0.4, 0.5,0.6,0.7]\n",
        "\n",
        "rand_search = GridSearchCV(my_pipeline, space,\n",
        "                                        #n_iter=32,\n",
        "                                        scoring='f1',\n",
        "                                        verbose=True,\n",
        "                                        cv=5,\n",
        "                                        n_jobs=-1,\n",
        "                                        #random_state=5\n",
        "                                  )\n",
        "\n",
        "rand_search.fit(X_train, y_train)\n",
        "print(rand_search.best_params_)\n",
        "print(rand_search.best_estimator_)\n",
        "print(rand_search.best_score_)\n"
      ],
      "metadata": {
        "colab": {
          "base_uri": "https://localhost:8080/"
        },
        "id": "iN7fODer1lfk",
        "outputId": "5e8ea570-61e4-40a2-b390-336ab5a788aa"
      },
      "execution_count": 157,
      "outputs": [
        {
          "output_type": "stream",
          "name": "stdout",
          "text": [
            "Fitting 5 folds for each of 36 candidates, totalling 180 fits\n",
            "{'model__C': 0.5, 'model__penalty': 'l2', 'model__solver': 'newton-cg'}\n",
            "Pipeline(steps=[('fixer', FixerDesafio5()),\n",
            "                ('preprocessor',\n",
            "                 ColumnTransformer(remainder='passthrough',\n",
            "                                   transformers=[('cat',\n",
            "                                                  Pipeline(steps=[('encoder',\n",
            "                                                                   OneHotEncoder(drop='first',\n",
            "                                                                                 handle_unknown='ignore',\n",
            "                                                                                 sparse=False))]),\n",
            "                                                  ['MULTIPLELINES',\n",
            "                                                   'INTERNETSERVICE',\n",
            "                                                   'ONLINESECURITY',\n",
            "                                                   'ONLINEBACKUP',\n",
            "                                                   'DEVICEPROTECTION',\n",
            "                                                   'TECHSUPPORT', 'STREAMINGTV',\n",
            "                                                   'STREAMINGMOVIES',\n",
            "                                                   'CONTRACT',\n",
            "                                                   'PAYMENTMETHOD']),\n",
            "                                                 ('num',\n",
            "                                                  Pipeline(steps=[('imputer',\n",
            "                                                                   SimpleImputer()),\n",
            "                                                                  ('scaler',\n",
            "                                                                   MinMaxScaler())]),\n",
            "                                                  ['TOTALCHARGES', 'TENURE',\n",
            "                                                   'MONTHLYCHARGES'])])),\n",
            "                ('model',\n",
            "                 LogisticRegression(C=0.5, class_weight={0: 0.3, 1: 0.7},\n",
            "                                    solver='newton-cg'))])\n",
            "0.6226062117065554\n"
          ]
        },
        {
          "output_type": "stream",
          "name": "stderr",
          "text": [
            "/usr/local/lib/python3.7/dist-packages/sklearn/model_selection/_validation.py:372: FitFailedWarning:\n",
            "\n",
            "\n",
            "30 fits failed out of a total of 180.\n",
            "The score on these train-test partitions for these parameters will be set to nan.\n",
            "If these failures are not expected, you can try to debug them by setting error_score='raise'.\n",
            "\n",
            "Below are more details about the failures:\n",
            "--------------------------------------------------------------------------------\n",
            "30 fits failed with the following error:\n",
            "Traceback (most recent call last):\n",
            "  File \"/usr/local/lib/python3.7/dist-packages/sklearn/model_selection/_validation.py\", line 681, in _fit_and_score\n",
            "    estimator.fit(X_train, y_train, **fit_params)\n",
            "  File \"/usr/local/lib/python3.7/dist-packages/imblearn/pipeline.py\", line 266, in fit\n",
            "    self._final_estimator.fit(Xt, yt, **fit_params_last_step)\n",
            "  File \"/usr/local/lib/python3.7/dist-packages/sklearn/linear_model/_logistic.py\", line 1461, in fit\n",
            "    solver = _check_solver(self.solver, self.penalty, self.dual)\n",
            "  File \"/usr/local/lib/python3.7/dist-packages/sklearn/linear_model/_logistic.py\", line 464, in _check_solver\n",
            "    raise ValueError(\"penalty='none' is not supported for the liblinear solver\")\n",
            "ValueError: penalty='none' is not supported for the liblinear solver\n",
            "\n",
            "\n",
            "/usr/local/lib/python3.7/dist-packages/sklearn/model_selection/_search.py:972: UserWarning:\n",
            "\n",
            "One or more of the test scores are non-finite: [0.61336736 0.61336736        nan 0.61924965 0.61849848 0.62069898\n",
            " 0.61336736 0.61336736        nan 0.62002955 0.62002955 0.61965731\n",
            " 0.61336736 0.61336736        nan 0.62258431 0.62258431 0.62182843\n",
            " 0.61336736 0.61336736        nan 0.62260621 0.62260621 0.62172742\n",
            " 0.61336736 0.61336736        nan 0.62184657 0.62184657 0.62177713\n",
            " 0.61336736 0.61336736        nan 0.62012515 0.62012515 0.62007945]\n",
            "\n",
            "/usr/local/lib/python3.7/dist-packages/sklearn/utils/validation.py:985: DataConversionWarning:\n",
            "\n",
            "A column-vector y was passed when a 1d array was expected. Please change the shape of y to (n_samples, ), for example using ravel().\n",
            "\n"
          ]
        }
      ]
    },
    {
      "cell_type": "markdown",
      "metadata": {
        "id": "UF9lrR8kxyK6"
      },
      "source": [
        "#### Entrenamiento final con todo el dataset"
      ]
    },
    {
      "cell_type": "code",
      "execution_count": 170,
      "metadata": {
        "colab": {
          "base_uri": "https://localhost:8080/"
        },
        "id": "ins5KxxvwybU",
        "outputId": "a93c504a-f835-45ea-bc0c-95d52bca5664"
      },
      "outputs": [
        {
          "output_type": "stream",
          "name": "stdout",
          "text": [
            "F1 dataset: 0.6419180201082754\n"
          ]
        },
        {
          "output_type": "stream",
          "name": "stderr",
          "text": [
            "/usr/local/lib/python3.7/dist-packages/sklearn/utils/validation.py:985: DataConversionWarning:\n",
            "\n",
            "A column-vector y was passed when a 1d array was expected. Please change the shape of y to (n_samples, ), for example using ravel().\n",
            "\n"
          ]
        }
      ],
      "source": [
        "from sklearn.metrics import f1_score\n",
        "my_pipeline.fit(X, y)\n",
        "print(\"F1 dataset: {}\".format(f1_score(y, my_pipeline.predict(X))))\n"
      ]
    },
    {
      "cell_type": "markdown",
      "metadata": {
        "id": "qtS52NAjxpMu"
      },
      "source": [
        "## Predicción de valores"
      ]
    },
    {
      "cell_type": "code",
      "execution_count": 171,
      "metadata": {
        "id": "unjssJEnyHk0",
        "colab": {
          "base_uri": "https://localhost:8080/",
          "height": 504
        },
        "outputId": "c624996b-e876-4b44-d736-0c3ceca10f7d"
      },
      "outputs": [
        {
          "output_type": "stream",
          "name": "stdout",
          "text": [
            "--2021-12-11 05:11:07--  https://raw.githubusercontent.com/maratonadev/desafio-5-2021/main/assets/data/ANSWERS.csv\n",
            "Resolving raw.githubusercontent.com (raw.githubusercontent.com)... 185.199.108.133, 185.199.109.133, 185.199.110.133, ...\n",
            "Connecting to raw.githubusercontent.com (raw.githubusercontent.com)|185.199.108.133|:443... connected.\n",
            "HTTP request sent, awaiting response... 200 OK\n",
            "Length: 182321 (178K) [text/plain]\n",
            "Saving to: ‘ANSWERS.csv’\n",
            "\n",
            "\rANSWERS.csv           0%[                    ]       0  --.-KB/s               \rANSWERS.csv         100%[===================>] 178.05K  --.-KB/s    in 0.03s   \n",
            "\n",
            "2021-12-11 05:11:08 (6.71 MB/s) - ‘ANSWERS.csv’ saved [182321/182321]\n",
            "\n"
          ]
        },
        {
          "output_type": "execute_result",
          "data": {
            "text/html": [
              "<div>\n",
              "<style scoped>\n",
              "    .dataframe tbody tr th:only-of-type {\n",
              "        vertical-align: middle;\n",
              "    }\n",
              "\n",
              "    .dataframe tbody tr th {\n",
              "        vertical-align: top;\n",
              "    }\n",
              "\n",
              "    .dataframe thead th {\n",
              "        text-align: right;\n",
              "    }\n",
              "</style>\n",
              "<table border=\"1\" class=\"dataframe\">\n",
              "  <thead>\n",
              "    <tr style=\"text-align: right;\">\n",
              "      <th></th>\n",
              "      <th>ID</th>\n",
              "      <th>GENDER</th>\n",
              "      <th>SENIORCITIZEN</th>\n",
              "      <th>PARTNER</th>\n",
              "      <th>DEPENDENTS</th>\n",
              "      <th>TENURE</th>\n",
              "      <th>PHONESERVICE</th>\n",
              "      <th>MULTIPLELINES</th>\n",
              "      <th>INTERNETSERVICE</th>\n",
              "      <th>ONLINESECURITY</th>\n",
              "      <th>ONLINEBACKUP</th>\n",
              "      <th>DEVICEPROTECTION</th>\n",
              "      <th>TECHSUPPORT</th>\n",
              "      <th>STREAMINGTV</th>\n",
              "      <th>STREAMINGMOVIES</th>\n",
              "      <th>CONTRACT</th>\n",
              "      <th>PAPERLESSBILLING</th>\n",
              "      <th>PAYMENTMETHOD</th>\n",
              "      <th>MONTHLYCHARGES</th>\n",
              "      <th>TOTALCHARGES</th>\n",
              "      <th>CHURN</th>\n",
              "    </tr>\n",
              "  </thead>\n",
              "  <tbody>\n",
              "    <tr>\n",
              "      <th>1319</th>\n",
              "      <td>5478</td>\n",
              "      <td>Male</td>\n",
              "      <td>0</td>\n",
              "      <td>No</td>\n",
              "      <td>No</td>\n",
              "      <td>4</td>\n",
              "      <td>Yes</td>\n",
              "      <td>No</td>\n",
              "      <td>No</td>\n",
              "      <td>No internet service</td>\n",
              "      <td>No internet service</td>\n",
              "      <td>No internet service</td>\n",
              "      <td>No internet service</td>\n",
              "      <td>No internet service</td>\n",
              "      <td>No internet service</td>\n",
              "      <td>Month-to-month</td>\n",
              "      <td>No</td>\n",
              "      <td>Mailed check</td>\n",
              "      <td>23.41</td>\n",
              "      <td>75.76</td>\n",
              "      <td>TO_FILL</td>\n",
              "    </tr>\n",
              "    <tr>\n",
              "      <th>1320</th>\n",
              "      <td>6297</td>\n",
              "      <td>Male</td>\n",
              "      <td>0</td>\n",
              "      <td>Yes</td>\n",
              "      <td>Yes</td>\n",
              "      <td>63</td>\n",
              "      <td>Yes</td>\n",
              "      <td>Yes</td>\n",
              "      <td>Fiber optic</td>\n",
              "      <td>No</td>\n",
              "      <td>Yes</td>\n",
              "      <td>Yes</td>\n",
              "      <td>No</td>\n",
              "      <td>Yes</td>\n",
              "      <td>Yes</td>\n",
              "      <td>Two year</td>\n",
              "      <td>Yes</td>\n",
              "      <td>Bank transfer (automatic)</td>\n",
              "      <td>62.51</td>\n",
              "      <td>6554.96</td>\n",
              "      <td>TO_FILL</td>\n",
              "    </tr>\n",
              "    <tr>\n",
              "      <th>1321</th>\n",
              "      <td>7952</td>\n",
              "      <td>Female</td>\n",
              "      <td>0</td>\n",
              "      <td>Yes</td>\n",
              "      <td>No</td>\n",
              "      <td>61</td>\n",
              "      <td>Yes</td>\n",
              "      <td>Yes</td>\n",
              "      <td>Fiber optic</td>\n",
              "      <td>No</td>\n",
              "      <td>No</td>\n",
              "      <td>Yes</td>\n",
              "      <td>Yes</td>\n",
              "      <td>Yes</td>\n",
              "      <td>Yes</td>\n",
              "      <td>Month-to-month</td>\n",
              "      <td>Yes</td>\n",
              "      <td>Electronic check</td>\n",
              "      <td>227.81</td>\n",
              "      <td>6872.81</td>\n",
              "      <td>TO_FILL</td>\n",
              "    </tr>\n",
              "    <tr>\n",
              "      <th>1322</th>\n",
              "      <td>8473</td>\n",
              "      <td>Male</td>\n",
              "      <td>0</td>\n",
              "      <td>No</td>\n",
              "      <td>No</td>\n",
              "      <td>11</td>\n",
              "      <td>Yes</td>\n",
              "      <td>No</td>\n",
              "      <td>Fiber optic</td>\n",
              "      <td>No</td>\n",
              "      <td>Yes</td>\n",
              "      <td>No</td>\n",
              "      <td>No</td>\n",
              "      <td>No</td>\n",
              "      <td>No</td>\n",
              "      <td>Month-to-month</td>\n",
              "      <td>No</td>\n",
              "      <td>Electronic check</td>\n",
              "      <td>7.33</td>\n",
              "      <td>747.88</td>\n",
              "      <td>TO_FILL</td>\n",
              "    </tr>\n",
              "    <tr>\n",
              "      <th>1323</th>\n",
              "      <td>7018</td>\n",
              "      <td>Male</td>\n",
              "      <td>1</td>\n",
              "      <td>Yes</td>\n",
              "      <td>No</td>\n",
              "      <td>66</td>\n",
              "      <td>Yes</td>\n",
              "      <td>Yes</td>\n",
              "      <td>Fiber optic</td>\n",
              "      <td>No</td>\n",
              "      <td>Yes</td>\n",
              "      <td>Yes</td>\n",
              "      <td>Yes</td>\n",
              "      <td>Yes</td>\n",
              "      <td>Yes</td>\n",
              "      <td>One year</td>\n",
              "      <td>Yes</td>\n",
              "      <td>Bank transfer (automatic)</td>\n",
              "      <td>157.64</td>\n",
              "      <td>7102.24</td>\n",
              "      <td>TO_FILL</td>\n",
              "    </tr>\n",
              "  </tbody>\n",
              "</table>\n",
              "</div>"
            ],
            "text/plain": [
              "        ID  GENDER  SENIORCITIZEN  ... MONTHLYCHARGES TOTALCHARGES    CHURN\n",
              "1319  5478    Male              0  ...          23.41        75.76  TO_FILL\n",
              "1320  6297    Male              0  ...          62.51      6554.96  TO_FILL\n",
              "1321  7952  Female              0  ...         227.81      6872.81  TO_FILL\n",
              "1322  8473    Male              0  ...           7.33       747.88  TO_FILL\n",
              "1323  7018    Male              1  ...         157.64      7102.24  TO_FILL\n",
              "\n",
              "[5 rows x 21 columns]"
            ]
          },
          "metadata": {},
          "execution_count": 171
        }
      ],
      "source": [
        "!wget --no-check-certificate --content-disposition https://raw.githubusercontent.com/maratonadev/desafio-5-2021/main/assets/data/ANSWERS.csv\n",
        "df_to_be_scored = pd.read_csv(r'ANSWERS.csv')\n",
        "df_to_be_scored.tail()"
      ]
    },
    {
      "cell_type": "code",
      "source": [
        "df_to_be_scored.info()"
      ],
      "metadata": {
        "colab": {
          "base_uri": "https://localhost:8080/"
        },
        "id": "vGopghWKy6UA",
        "outputId": "eb98a52d-ef1e-412d-8c18-b942affe077d"
      },
      "execution_count": 172,
      "outputs": [
        {
          "output_type": "stream",
          "name": "stdout",
          "text": [
            "<class 'pandas.core.frame.DataFrame'>\n",
            "RangeIndex: 1324 entries, 0 to 1323\n",
            "Data columns (total 21 columns):\n",
            " #   Column            Non-Null Count  Dtype  \n",
            "---  ------            --------------  -----  \n",
            " 0   ID                1324 non-null   int64  \n",
            " 1   GENDER            1324 non-null   object \n",
            " 2   SENIORCITIZEN     1324 non-null   int64  \n",
            " 3   PARTNER           1324 non-null   object \n",
            " 4   DEPENDENTS        1324 non-null   object \n",
            " 5   TENURE            1324 non-null   int64  \n",
            " 6   PHONESERVICE      1324 non-null   object \n",
            " 7   MULTIPLELINES     1324 non-null   object \n",
            " 8   INTERNETSERVICE   1324 non-null   object \n",
            " 9   ONLINESECURITY    1324 non-null   object \n",
            " 10  ONLINEBACKUP      1324 non-null   object \n",
            " 11  DEVICEPROTECTION  1324 non-null   object \n",
            " 12  TECHSUPPORT       1324 non-null   object \n",
            " 13  STREAMINGTV       1324 non-null   object \n",
            " 14  STREAMINGMOVIES   1324 non-null   object \n",
            " 15  CONTRACT          1324 non-null   object \n",
            " 16  PAPERLESSBILLING  1324 non-null   object \n",
            " 17  PAYMENTMETHOD     1324 non-null   object \n",
            " 18  MONTHLYCHARGES    1324 non-null   float64\n",
            " 19  TOTALCHARGES      1324 non-null   object \n",
            " 20  CHURN             1324 non-null   object \n",
            "dtypes: float64(1), int64(3), object(17)\n",
            "memory usage: 217.3+ KB\n"
          ]
        }
      ]
    },
    {
      "cell_type": "code",
      "execution_count": 175,
      "metadata": {
        "id": "A0r14S-oyNmy",
        "colab": {
          "base_uri": "https://localhost:8080/",
          "height": 313
        },
        "outputId": "b64cd88a-2b16-4c1b-e4d2-d240e065d01e"
      },
      "outputs": [
        {
          "output_type": "execute_result",
          "data": {
            "text/html": [
              "<div>\n",
              "<style scoped>\n",
              "    .dataframe tbody tr th:only-of-type {\n",
              "        vertical-align: middle;\n",
              "    }\n",
              "\n",
              "    .dataframe tbody tr th {\n",
              "        vertical-align: top;\n",
              "    }\n",
              "\n",
              "    .dataframe thead th {\n",
              "        text-align: right;\n",
              "    }\n",
              "</style>\n",
              "<table border=\"1\" class=\"dataframe\">\n",
              "  <thead>\n",
              "    <tr style=\"text-align: right;\">\n",
              "      <th></th>\n",
              "      <th>ID</th>\n",
              "      <th>GENDER</th>\n",
              "      <th>SENIORCITIZEN</th>\n",
              "      <th>PARTNER</th>\n",
              "      <th>DEPENDENTS</th>\n",
              "      <th>TENURE</th>\n",
              "      <th>PHONESERVICE</th>\n",
              "      <th>MULTIPLELINES</th>\n",
              "      <th>INTERNETSERVICE</th>\n",
              "      <th>ONLINESECURITY</th>\n",
              "      <th>ONLINEBACKUP</th>\n",
              "      <th>DEVICEPROTECTION</th>\n",
              "      <th>TECHSUPPORT</th>\n",
              "      <th>STREAMINGTV</th>\n",
              "      <th>STREAMINGMOVIES</th>\n",
              "      <th>CONTRACT</th>\n",
              "      <th>PAPERLESSBILLING</th>\n",
              "      <th>PAYMENTMETHOD</th>\n",
              "      <th>MONTHLYCHARGES</th>\n",
              "      <th>TOTALCHARGES</th>\n",
              "      <th>CHURN</th>\n",
              "    </tr>\n",
              "  </thead>\n",
              "  <tbody>\n",
              "    <tr>\n",
              "      <th>1319</th>\n",
              "      <td>5478</td>\n",
              "      <td>Male</td>\n",
              "      <td>0</td>\n",
              "      <td>No</td>\n",
              "      <td>No</td>\n",
              "      <td>4</td>\n",
              "      <td>Yes</td>\n",
              "      <td>No</td>\n",
              "      <td>No</td>\n",
              "      <td>No internet service</td>\n",
              "      <td>No internet service</td>\n",
              "      <td>No internet service</td>\n",
              "      <td>No internet service</td>\n",
              "      <td>No internet service</td>\n",
              "      <td>No internet service</td>\n",
              "      <td>Month-to-month</td>\n",
              "      <td>No</td>\n",
              "      <td>Mailed check</td>\n",
              "      <td>23.41</td>\n",
              "      <td>75.76</td>\n",
              "      <td>No</td>\n",
              "    </tr>\n",
              "    <tr>\n",
              "      <th>1320</th>\n",
              "      <td>6297</td>\n",
              "      <td>Male</td>\n",
              "      <td>0</td>\n",
              "      <td>Yes</td>\n",
              "      <td>Yes</td>\n",
              "      <td>63</td>\n",
              "      <td>Yes</td>\n",
              "      <td>Yes</td>\n",
              "      <td>Fiber optic</td>\n",
              "      <td>No</td>\n",
              "      <td>Yes</td>\n",
              "      <td>Yes</td>\n",
              "      <td>No</td>\n",
              "      <td>Yes</td>\n",
              "      <td>Yes</td>\n",
              "      <td>Two year</td>\n",
              "      <td>Yes</td>\n",
              "      <td>Bank transfer (automatic)</td>\n",
              "      <td>62.51</td>\n",
              "      <td>6554.96</td>\n",
              "      <td>No</td>\n",
              "    </tr>\n",
              "    <tr>\n",
              "      <th>1321</th>\n",
              "      <td>7952</td>\n",
              "      <td>Female</td>\n",
              "      <td>0</td>\n",
              "      <td>Yes</td>\n",
              "      <td>No</td>\n",
              "      <td>61</td>\n",
              "      <td>Yes</td>\n",
              "      <td>Yes</td>\n",
              "      <td>Fiber optic</td>\n",
              "      <td>No</td>\n",
              "      <td>No</td>\n",
              "      <td>Yes</td>\n",
              "      <td>Yes</td>\n",
              "      <td>Yes</td>\n",
              "      <td>Yes</td>\n",
              "      <td>Month-to-month</td>\n",
              "      <td>Yes</td>\n",
              "      <td>Electronic check</td>\n",
              "      <td>227.81</td>\n",
              "      <td>6872.81</td>\n",
              "      <td>Yes</td>\n",
              "    </tr>\n",
              "    <tr>\n",
              "      <th>1322</th>\n",
              "      <td>8473</td>\n",
              "      <td>Male</td>\n",
              "      <td>0</td>\n",
              "      <td>No</td>\n",
              "      <td>No</td>\n",
              "      <td>11</td>\n",
              "      <td>Yes</td>\n",
              "      <td>No</td>\n",
              "      <td>Fiber optic</td>\n",
              "      <td>No</td>\n",
              "      <td>Yes</td>\n",
              "      <td>No</td>\n",
              "      <td>No</td>\n",
              "      <td>No</td>\n",
              "      <td>No</td>\n",
              "      <td>Month-to-month</td>\n",
              "      <td>No</td>\n",
              "      <td>Electronic check</td>\n",
              "      <td>7.33</td>\n",
              "      <td>747.88</td>\n",
              "      <td>Yes</td>\n",
              "    </tr>\n",
              "    <tr>\n",
              "      <th>1323</th>\n",
              "      <td>7018</td>\n",
              "      <td>Male</td>\n",
              "      <td>1</td>\n",
              "      <td>Yes</td>\n",
              "      <td>No</td>\n",
              "      <td>66</td>\n",
              "      <td>Yes</td>\n",
              "      <td>Yes</td>\n",
              "      <td>Fiber optic</td>\n",
              "      <td>No</td>\n",
              "      <td>Yes</td>\n",
              "      <td>Yes</td>\n",
              "      <td>Yes</td>\n",
              "      <td>Yes</td>\n",
              "      <td>Yes</td>\n",
              "      <td>One year</td>\n",
              "      <td>Yes</td>\n",
              "      <td>Bank transfer (automatic)</td>\n",
              "      <td>157.64</td>\n",
              "      <td>7102.24</td>\n",
              "      <td>No</td>\n",
              "    </tr>\n",
              "  </tbody>\n",
              "</table>\n",
              "</div>"
            ],
            "text/plain": [
              "        ID  GENDER  SENIORCITIZEN  ... MONTHLYCHARGES TOTALCHARGES  CHURN\n",
              "1319  5478    Male              0  ...          23.41        75.76     No\n",
              "1320  6297    Male              0  ...          62.51      6554.96     No\n",
              "1321  7952  Female              0  ...         227.81      6872.81    Yes\n",
              "1322  8473    Male              0  ...           7.33       747.88    Yes\n",
              "1323  7018    Male              1  ...         157.64      7102.24     No\n",
              "\n",
              "[5 rows x 21 columns]"
            ]
          },
          "metadata": {},
          "execution_count": 175
        }
      ],
      "source": [
        "X_to_be_scored  = df_to_be_scored[list((set(df.columns) - set(target)))]\n",
        "\n",
        "y_pred = my_pipeline.predict(X_to_be_scored)\n",
        "df_to_be_scored['CHURN'] = y_pred\n",
        "df_to_be_scored['CHURN'] = df_to_be_scored['CHURN'].map({False:'No', True:'Yes'})\n",
        "df_to_be_scored.tail()"
      ]
    },
    {
      "cell_type": "code",
      "execution_count": 176,
      "metadata": {
        "id": "JSRg2Wg5sZ9L"
      },
      "outputs": [],
      "source": [
        "df_to_be_scored.to_csv(path_or_buf='answers.csv', index=False)"
      ]
    }
  ],
  "metadata": {
    "colab": {
      "collapsed_sections": [
        "7CXKM6i9BKAe",
        "NuX8bVH1c1Ig"
      ],
      "name": "d5_2021_notebook_es.ipynb",
      "provenance": []
    },
    "kernelspec": {
      "display_name": "Python 3",
      "name": "python3"
    },
    "language_info": {
      "name": "python"
    }
  },
  "nbformat": 4,
  "nbformat_minor": 0
}